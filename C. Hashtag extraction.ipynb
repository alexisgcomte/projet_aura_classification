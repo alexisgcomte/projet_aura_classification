{
 "metadata": {
  "language_info": {
   "codemirror_mode": {
    "name": "ipython",
    "version": 3
   },
   "file_extension": ".py",
   "mimetype": "text/x-python",
   "name": "python",
   "nbconvert_exporter": "python",
   "pygments_lexer": "ipython3",
   "version": 3
  },
  "orig_nbformat": 2,
  "kernelspec": {
   "name": "python_defaultSpec_1595249429081",
   "display_name": "Python 3.8.3 64-bit ('datascience': conda)"
  }
 },
 "nbformat": 4,
 "nbformat_minor": 2,
 "cells": [
  {
   "cell_type": "markdown",
   "metadata": {},
   "source": [
    "# C. Hashtag extraction"
   ]
  },
  {
   "cell_type": "markdown",
   "metadata": {},
   "source": [
    "## Intro - Importing libraries and datasets"
   ]
  },
  {
   "cell_type": "code",
   "execution_count": 38,
   "metadata": {},
   "outputs": [],
   "source": [
    "# import of libraries\n",
    "import pandas as pd\n",
    "from fuzzywuzzy import fuzz\n",
    "from tqdm import tqdm\n",
    "import re"
   ]
  },
  {
   "cell_type": "code",
   "execution_count": 2,
   "metadata": {},
   "outputs": [
    {
     "output_type": "execute_result",
     "data": {
      "text/plain": "  classification_E          catégorie  \\\n0               E1  Période néonatale   \n1               E2  Période néonatale   \n2               E3  Période néonatale   \n3              E31         Nourrisons   \n4              E33         Nourrisons   \n\n                                         symptome-fr  \\\n0                Encéphalopathie myoclonique précoce   \n1       Epilepsie néonatale familiale bénigne (BFNE)   \n2                                Syndrome d'ohtahara   \n3  Encépahlopathie myoclonique des affections non...   \n4                     Epilepsie benigne du nourisson   \n\n                                         symptome-en  \\\n0           Benign familial neonatal epilepsy (BFNE)   \n1               Early myoclonic encephalopathy (EME)   \n2                                  Ohtahara syndrome   \n3  Myoclonic encephalopathy in nonprogressive dis...   \n4                          Benign infantile epilepsy   \n\n         symptome-en-simple type of crisis  \\\n0                      BFNE            NaN   \n1                       EME            NaN   \n2                  Ohtahara            NaN   \n3  Myoclonic encephalopathy            NaN   \n4                 infantile            NaN   \n\n                                 Comments CIM_10    CIM11  Orphanet  \n0  Too much common words, keeping acronym  G40.8  8A61.0Y    1935.0  \n1  Too much common words, keeping acronym  G40.8  8A61.10    1949.0  \n2                  syndrome is too common  G40.8   8A62.Y    1934.0  \n3                          simplification  G40.4   8A62.Y   86913.0  \n4                          generalisation  G40.3  8A61.1Z  166302.0  ",
      "text/html": "<div>\n<style scoped>\n    .dataframe tbody tr th:only-of-type {\n        vertical-align: middle;\n    }\n\n    .dataframe tbody tr th {\n        vertical-align: top;\n    }\n\n    .dataframe thead th {\n        text-align: right;\n    }\n</style>\n<table border=\"1\" class=\"dataframe\">\n  <thead>\n    <tr style=\"text-align: right;\">\n      <th></th>\n      <th>classification_E</th>\n      <th>catégorie</th>\n      <th>symptome-fr</th>\n      <th>symptome-en</th>\n      <th>symptome-en-simple</th>\n      <th>type of crisis</th>\n      <th>Comments</th>\n      <th>CIM_10</th>\n      <th>CIM11</th>\n      <th>Orphanet</th>\n    </tr>\n  </thead>\n  <tbody>\n    <tr>\n      <th>0</th>\n      <td>E1</td>\n      <td>Période néonatale</td>\n      <td>Encéphalopathie myoclonique précoce</td>\n      <td>Benign familial neonatal epilepsy (BFNE)</td>\n      <td>BFNE</td>\n      <td>NaN</td>\n      <td>Too much common words, keeping acronym</td>\n      <td>G40.8</td>\n      <td>8A61.0Y</td>\n      <td>1935.0</td>\n    </tr>\n    <tr>\n      <th>1</th>\n      <td>E2</td>\n      <td>Période néonatale</td>\n      <td>Epilepsie néonatale familiale bénigne (BFNE)</td>\n      <td>Early myoclonic encephalopathy (EME)</td>\n      <td>EME</td>\n      <td>NaN</td>\n      <td>Too much common words, keeping acronym</td>\n      <td>G40.8</td>\n      <td>8A61.10</td>\n      <td>1949.0</td>\n    </tr>\n    <tr>\n      <th>2</th>\n      <td>E3</td>\n      <td>Période néonatale</td>\n      <td>Syndrome d'ohtahara</td>\n      <td>Ohtahara syndrome</td>\n      <td>Ohtahara</td>\n      <td>NaN</td>\n      <td>syndrome is too common</td>\n      <td>G40.8</td>\n      <td>8A62.Y</td>\n      <td>1934.0</td>\n    </tr>\n    <tr>\n      <th>3</th>\n      <td>E31</td>\n      <td>Nourrisons</td>\n      <td>Encépahlopathie myoclonique des affections non...</td>\n      <td>Myoclonic encephalopathy in nonprogressive dis...</td>\n      <td>Myoclonic encephalopathy</td>\n      <td>NaN</td>\n      <td>simplification</td>\n      <td>G40.4</td>\n      <td>8A62.Y</td>\n      <td>86913.0</td>\n    </tr>\n    <tr>\n      <th>4</th>\n      <td>E33</td>\n      <td>Nourrisons</td>\n      <td>Epilepsie benigne du nourisson</td>\n      <td>Benign infantile epilepsy</td>\n      <td>infantile</td>\n      <td>NaN</td>\n      <td>generalisation</td>\n      <td>G40.3</td>\n      <td>8A61.1Z</td>\n      <td>166302.0</td>\n    </tr>\n  </tbody>\n</table>\n</div>"
     },
     "metadata": {},
     "execution_count": 2
    }
   ],
   "source": [
    "# Loading simplified Thesaurus\n",
    "thesaurus_simplified = pd.read_csv('1. Data/thesaurus_key_words - simplified.csv', encoding=\"ISO-8859-1\", sep=';')\n",
    "thesaurus_simplified.head()"
   ]
  },
  {
   "cell_type": "code",
   "execution_count": 3,
   "metadata": {},
   "outputs": [
    {
     "output_type": "execute_result",
     "data": {
      "text/plain": "                                            filepath  \\\n0  1. Data/CR_Patients_info_patients-v0_4/edf/dev...   \n1  1. Data/CR_Patients_info_patients-v0_4/edf/dev...   \n2  1. Data/CR_Patients_info_patients-v0_4/edf/dev...   \n3  1. Data/CR_Patients_info_patients-v0_4/edf/dev...   \n4  1. Data/CR_Patients_info_patients-v0_4/edf/dev...   \n\n                                              report  \n0   Description: 2.5 to 5 hz spike/wave and polys...  \n1   LENGTH OF THE RECORDING:  22 minutes and 53 s...  \n2   MEDICATIONS:  Vimpat, Norvasc, Felbamate, Car...  \n3   CLINICAL HISTORY:  27 year old gentleman with...  \n4   MEDICATIONS:  Vimpat, Norvasc, Felbamate, Car...  ",
      "text/html": "<div>\n<style scoped>\n    .dataframe tbody tr th:only-of-type {\n        vertical-align: middle;\n    }\n\n    .dataframe tbody tr th {\n        vertical-align: top;\n    }\n\n    .dataframe thead th {\n        text-align: right;\n    }\n</style>\n<table border=\"1\" class=\"dataframe\">\n  <thead>\n    <tr style=\"text-align: right;\">\n      <th></th>\n      <th>filepath</th>\n      <th>report</th>\n    </tr>\n  </thead>\n  <tbody>\n    <tr>\n      <th>0</th>\n      <td>1. Data/CR_Patients_info_patients-v0_4/edf/dev...</td>\n      <td>Description: 2.5 to 5 hz spike/wave and polys...</td>\n    </tr>\n    <tr>\n      <th>1</th>\n      <td>1. Data/CR_Patients_info_patients-v0_4/edf/dev...</td>\n      <td>LENGTH OF THE RECORDING:  22 minutes and 53 s...</td>\n    </tr>\n    <tr>\n      <th>2</th>\n      <td>1. Data/CR_Patients_info_patients-v0_4/edf/dev...</td>\n      <td>MEDICATIONS:  Vimpat, Norvasc, Felbamate, Car...</td>\n    </tr>\n    <tr>\n      <th>3</th>\n      <td>1. Data/CR_Patients_info_patients-v0_4/edf/dev...</td>\n      <td>CLINICAL HISTORY:  27 year old gentleman with...</td>\n    </tr>\n    <tr>\n      <th>4</th>\n      <td>1. Data/CR_Patients_info_patients-v0_4/edf/dev...</td>\n      <td>MEDICATIONS:  Vimpat, Norvasc, Felbamate, Car...</td>\n    </tr>\n  </tbody>\n</table>\n</div>"
     },
     "metadata": {},
     "execution_count": 3
    }
   ],
   "source": [
    "# import of classification dataset\n",
    "classification_dataset = pd.read_csv('2. Results/Classification_dataset.csv')\n",
    "classification_dataset.head()"
   ]
  },
  {
   "cell_type": "markdown",
   "metadata": {},
   "source": [
    "## A - Extracting the simplified hashtags"
   ]
  },
  {
   "cell_type": "code",
   "execution_count": 5,
   "metadata": {},
   "outputs": [],
   "source": [
    "# len > 5 to overcome the small words, which have naturally a high ratio\n",
    "def partial_ratio_by_sentence(texte, target):\n",
    "    max = 0\n",
    "    for i in texte.split('.'):\n",
    "        if fuzz.partial_ratio(i, target) > max:\n",
    "            if len(i) > 5:\n",
    "                max = fuzz.partial_ratio(i, target)\n",
    "    return max\n",
    "\n",
    "# For a target, output the related reports sorted by partial_ratio\n",
    "\n",
    "def research_similarity_by_sentence(target):\n",
    "    df = pd.DataFrame(classification_dataset['report'])\n",
    "    df['partial_ratio'] = df['report'].apply(lambda x: partial_ratio_by_sentence(x, target))\n",
    "    df = df.sort_values(by='partial_ratio', ascending=False)\n",
    "    return df\n"
   ]
  },
  {
   "cell_type": "code",
   "execution_count": 8,
   "metadata": {
    "tags": []
   },
   "outputs": [
    {
     "output_type": "stream",
     "name": "stderr",
     "text": "0%|          | 0/38 [00:00<?, ?it/s]CPU times: user 0 ns, sys: 0 ns, total: 0 ns\nWall time: 6.44 µs\n100%|██████████| 38/38 [09:22<00:00, 14.79s/it]\n"
    },
    {
     "output_type": "execute_result",
     "data": {
      "text/plain": "                      target  ratio\n37        temporal occipital    100\n11              Gastaut type    100\n28                   frontal    100\n25                   central    100\n24                 Rasmussen    100\n31                multifocal    100\n32                 occipital    100\n1                        EME    100\n18              tonic-clonic    100\n17             temporal lobe    100\n33                  parietal    100\n15            Lennox-Gastaut    100\n36                  temporal    100\n4                  infantile    100\n29          fontral temporal     94\n3   Myoclonic encephalopathy     84\n23                    Reflex     83\n26  supplementary motor area     83\n8                     Dravet     83\n6                     Unkown     83\n34         external temporal     82\n10          myoclonic atonic     81\n12                       CAE     80\n5            migrating focal     80\n13        myoclonic absences     78\n27  Temporoparietal junction     78\n30                   insular     77\n22                  Gelastic     75\n9                       West     75\n35              MTLE with HS     67\n19                       jAE     67\n21                       JME     67\n7                        MEI     67\n2                   Ohtahara     62\n20                     ADEAF     60\n16           Panayiotopoulos     60\n14           Landau-Kleffner     60\n0                       BFNE     50",
      "text/html": "<div>\n<style scoped>\n    .dataframe tbody tr th:only-of-type {\n        vertical-align: middle;\n    }\n\n    .dataframe tbody tr th {\n        vertical-align: top;\n    }\n\n    .dataframe thead th {\n        text-align: right;\n    }\n</style>\n<table border=\"1\" class=\"dataframe\">\n  <thead>\n    <tr style=\"text-align: right;\">\n      <th></th>\n      <th>target</th>\n      <th>ratio</th>\n    </tr>\n  </thead>\n  <tbody>\n    <tr>\n      <th>37</th>\n      <td>temporal occipital</td>\n      <td>100</td>\n    </tr>\n    <tr>\n      <th>11</th>\n      <td>Gastaut type</td>\n      <td>100</td>\n    </tr>\n    <tr>\n      <th>28</th>\n      <td>frontal</td>\n      <td>100</td>\n    </tr>\n    <tr>\n      <th>25</th>\n      <td>central</td>\n      <td>100</td>\n    </tr>\n    <tr>\n      <th>24</th>\n      <td>Rasmussen</td>\n      <td>100</td>\n    </tr>\n    <tr>\n      <th>31</th>\n      <td>multifocal</td>\n      <td>100</td>\n    </tr>\n    <tr>\n      <th>32</th>\n      <td>occipital</td>\n      <td>100</td>\n    </tr>\n    <tr>\n      <th>1</th>\n      <td>EME</td>\n      <td>100</td>\n    </tr>\n    <tr>\n      <th>18</th>\n      <td>tonic-clonic</td>\n      <td>100</td>\n    </tr>\n    <tr>\n      <th>17</th>\n      <td>temporal lobe</td>\n      <td>100</td>\n    </tr>\n    <tr>\n      <th>33</th>\n      <td>parietal</td>\n      <td>100</td>\n    </tr>\n    <tr>\n      <th>15</th>\n      <td>Lennox-Gastaut</td>\n      <td>100</td>\n    </tr>\n    <tr>\n      <th>36</th>\n      <td>temporal</td>\n      <td>100</td>\n    </tr>\n    <tr>\n      <th>4</th>\n      <td>infantile</td>\n      <td>100</td>\n    </tr>\n    <tr>\n      <th>29</th>\n      <td>fontral temporal</td>\n      <td>94</td>\n    </tr>\n    <tr>\n      <th>3</th>\n      <td>Myoclonic encephalopathy</td>\n      <td>84</td>\n    </tr>\n    <tr>\n      <th>23</th>\n      <td>Reflex</td>\n      <td>83</td>\n    </tr>\n    <tr>\n      <th>26</th>\n      <td>supplementary motor area</td>\n      <td>83</td>\n    </tr>\n    <tr>\n      <th>8</th>\n      <td>Dravet</td>\n      <td>83</td>\n    </tr>\n    <tr>\n      <th>6</th>\n      <td>Unkown</td>\n      <td>83</td>\n    </tr>\n    <tr>\n      <th>34</th>\n      <td>external temporal</td>\n      <td>82</td>\n    </tr>\n    <tr>\n      <th>10</th>\n      <td>myoclonic atonic</td>\n      <td>81</td>\n    </tr>\n    <tr>\n      <th>12</th>\n      <td>CAE</td>\n      <td>80</td>\n    </tr>\n    <tr>\n      <th>5</th>\n      <td>migrating focal</td>\n      <td>80</td>\n    </tr>\n    <tr>\n      <th>13</th>\n      <td>myoclonic absences</td>\n      <td>78</td>\n    </tr>\n    <tr>\n      <th>27</th>\n      <td>Temporoparietal junction</td>\n      <td>78</td>\n    </tr>\n    <tr>\n      <th>30</th>\n      <td>insular</td>\n      <td>77</td>\n    </tr>\n    <tr>\n      <th>22</th>\n      <td>Gelastic</td>\n      <td>75</td>\n    </tr>\n    <tr>\n      <th>9</th>\n      <td>West</td>\n      <td>75</td>\n    </tr>\n    <tr>\n      <th>35</th>\n      <td>MTLE with HS</td>\n      <td>67</td>\n    </tr>\n    <tr>\n      <th>19</th>\n      <td>jAE</td>\n      <td>67</td>\n    </tr>\n    <tr>\n      <th>21</th>\n      <td>JME</td>\n      <td>67</td>\n    </tr>\n    <tr>\n      <th>7</th>\n      <td>MEI</td>\n      <td>67</td>\n    </tr>\n    <tr>\n      <th>2</th>\n      <td>Ohtahara</td>\n      <td>62</td>\n    </tr>\n    <tr>\n      <th>20</th>\n      <td>ADEAF</td>\n      <td>60</td>\n    </tr>\n    <tr>\n      <th>16</th>\n      <td>Panayiotopoulos</td>\n      <td>60</td>\n    </tr>\n    <tr>\n      <th>14</th>\n      <td>Landau-Kleffner</td>\n      <td>60</td>\n    </tr>\n    <tr>\n      <th>0</th>\n      <td>BFNE</td>\n      <td>50</td>\n    </tr>\n  </tbody>\n</table>\n</div>"
     },
     "metadata": {},
     "execution_count": 8
    }
   ],
   "source": [
    "\n",
    "# We will calculate the token_sort_ratio for each thesaury therme and update it in a result dataset\n",
    "\n",
    "%time\n",
    "\n",
    "classification_dataset_hashtag = classification_dataset\n",
    "\n",
    "for i in tqdm(list(thesaurus_simplified['symptome-en-simple'].unique())):\n",
    "    classification_dataset_hashtag[i] = classification_dataset_hashtag['report'].apply(lambda x: partial_ratio_by_sentence(x, i)) \n",
    "\n",
    "classification_dataset_hashtag.to_csv('2. Results/classification_dataset_hashtag.csv')\n",
    "\n",
    "df_results_hashtag = pd.DataFrame(data=classification_dataset_hashtag.columns[2:], columns=['target'])\n",
    "df_results_hashtag['ratio'] = df_results_hashtag['target'].apply(lambda x: (classification_dataset_hashtag[x]).max())\n",
    "\n",
    "# What can we predict at best?\n",
    "df_results_hashtag = df_results_hashtag.sort_values(by='ratio', ascending=False)\n",
    "df_results_hashtag"
   ]
  },
  {
   "cell_type": "code",
   "execution_count": 9,
   "metadata": {},
   "outputs": [
    {
     "output_type": "execute_result",
     "data": {
      "text/plain": "                      target  ratio   threshold  correspondance\n1                        EME    100  100.000000            True\n15            Lennox-Gastaut    100   92.857143            True\n18              tonic-clonic    100   91.666667            True\n31                multifocal    100   90.000000            True\n37        temporal occipital    100   88.888889            True\n24                 Rasmussen    100   88.888889            True\n32                 occipital    100   88.888889            True\n4                  infantile    100   88.888889            True\n33                  parietal    100   87.500000            True\n36                  temporal    100   87.500000            True\n29          fontral temporal     94   87.500000            True\n28                   frontal    100   85.714286            True\n25                   central    100   85.714286            True\n17             temporal lobe    100   84.615385            True\n11              Gastaut type    100   83.333333            True\n23                    Reflex     83  100.000000           False\n8                     Dravet     83  100.000000           False\n6                     Unkown     83  100.000000           False\n12                       CAE     80  100.000000           False\n9                       West     75  100.000000           False\n19                       jAE     67  100.000000           False\n21                       JME     67  100.000000           False\n7                        MEI     67  100.000000           False\n20                     ADEAF     60  100.000000           False\n0                       BFNE     50  100.000000           False\n16           Panayiotopoulos     60   93.333333           False\n14           Landau-Kleffner     60   93.333333           False\n3   Myoclonic encephalopathy     84   91.666667           False\n26  supplementary motor area     83   91.666667           False\n27  Temporoparietal junction     78   91.666667           False\n13        myoclonic absences     78   88.888889           False\n34         external temporal     82   88.235294           False\n10          myoclonic atonic     81   87.500000           False\n22                  Gelastic     75   87.500000           False\n2                   Ohtahara     62   87.500000           False\n5            migrating focal     80   86.666667           False\n30                   insular     77   85.714286           False\n35              MTLE with HS     67   83.333333           False",
      "text/html": "<div>\n<style scoped>\n    .dataframe tbody tr th:only-of-type {\n        vertical-align: middle;\n    }\n\n    .dataframe tbody tr th {\n        vertical-align: top;\n    }\n\n    .dataframe thead th {\n        text-align: right;\n    }\n</style>\n<table border=\"1\" class=\"dataframe\">\n  <thead>\n    <tr style=\"text-align: right;\">\n      <th></th>\n      <th>target</th>\n      <th>ratio</th>\n      <th>threshold</th>\n      <th>correspondance</th>\n    </tr>\n  </thead>\n  <tbody>\n    <tr>\n      <th>1</th>\n      <td>EME</td>\n      <td>100</td>\n      <td>100.000000</td>\n      <td>True</td>\n    </tr>\n    <tr>\n      <th>15</th>\n      <td>Lennox-Gastaut</td>\n      <td>100</td>\n      <td>92.857143</td>\n      <td>True</td>\n    </tr>\n    <tr>\n      <th>18</th>\n      <td>tonic-clonic</td>\n      <td>100</td>\n      <td>91.666667</td>\n      <td>True</td>\n    </tr>\n    <tr>\n      <th>31</th>\n      <td>multifocal</td>\n      <td>100</td>\n      <td>90.000000</td>\n      <td>True</td>\n    </tr>\n    <tr>\n      <th>37</th>\n      <td>temporal occipital</td>\n      <td>100</td>\n      <td>88.888889</td>\n      <td>True</td>\n    </tr>\n    <tr>\n      <th>24</th>\n      <td>Rasmussen</td>\n      <td>100</td>\n      <td>88.888889</td>\n      <td>True</td>\n    </tr>\n    <tr>\n      <th>32</th>\n      <td>occipital</td>\n      <td>100</td>\n      <td>88.888889</td>\n      <td>True</td>\n    </tr>\n    <tr>\n      <th>4</th>\n      <td>infantile</td>\n      <td>100</td>\n      <td>88.888889</td>\n      <td>True</td>\n    </tr>\n    <tr>\n      <th>33</th>\n      <td>parietal</td>\n      <td>100</td>\n      <td>87.500000</td>\n      <td>True</td>\n    </tr>\n    <tr>\n      <th>36</th>\n      <td>temporal</td>\n      <td>100</td>\n      <td>87.500000</td>\n      <td>True</td>\n    </tr>\n    <tr>\n      <th>29</th>\n      <td>fontral temporal</td>\n      <td>94</td>\n      <td>87.500000</td>\n      <td>True</td>\n    </tr>\n    <tr>\n      <th>28</th>\n      <td>frontal</td>\n      <td>100</td>\n      <td>85.714286</td>\n      <td>True</td>\n    </tr>\n    <tr>\n      <th>25</th>\n      <td>central</td>\n      <td>100</td>\n      <td>85.714286</td>\n      <td>True</td>\n    </tr>\n    <tr>\n      <th>17</th>\n      <td>temporal lobe</td>\n      <td>100</td>\n      <td>84.615385</td>\n      <td>True</td>\n    </tr>\n    <tr>\n      <th>11</th>\n      <td>Gastaut type</td>\n      <td>100</td>\n      <td>83.333333</td>\n      <td>True</td>\n    </tr>\n    <tr>\n      <th>23</th>\n      <td>Reflex</td>\n      <td>83</td>\n      <td>100.000000</td>\n      <td>False</td>\n    </tr>\n    <tr>\n      <th>8</th>\n      <td>Dravet</td>\n      <td>83</td>\n      <td>100.000000</td>\n      <td>False</td>\n    </tr>\n    <tr>\n      <th>6</th>\n      <td>Unkown</td>\n      <td>83</td>\n      <td>100.000000</td>\n      <td>False</td>\n    </tr>\n    <tr>\n      <th>12</th>\n      <td>CAE</td>\n      <td>80</td>\n      <td>100.000000</td>\n      <td>False</td>\n    </tr>\n    <tr>\n      <th>9</th>\n      <td>West</td>\n      <td>75</td>\n      <td>100.000000</td>\n      <td>False</td>\n    </tr>\n    <tr>\n      <th>19</th>\n      <td>jAE</td>\n      <td>67</td>\n      <td>100.000000</td>\n      <td>False</td>\n    </tr>\n    <tr>\n      <th>21</th>\n      <td>JME</td>\n      <td>67</td>\n      <td>100.000000</td>\n      <td>False</td>\n    </tr>\n    <tr>\n      <th>7</th>\n      <td>MEI</td>\n      <td>67</td>\n      <td>100.000000</td>\n      <td>False</td>\n    </tr>\n    <tr>\n      <th>20</th>\n      <td>ADEAF</td>\n      <td>60</td>\n      <td>100.000000</td>\n      <td>False</td>\n    </tr>\n    <tr>\n      <th>0</th>\n      <td>BFNE</td>\n      <td>50</td>\n      <td>100.000000</td>\n      <td>False</td>\n    </tr>\n    <tr>\n      <th>16</th>\n      <td>Panayiotopoulos</td>\n      <td>60</td>\n      <td>93.333333</td>\n      <td>False</td>\n    </tr>\n    <tr>\n      <th>14</th>\n      <td>Landau-Kleffner</td>\n      <td>60</td>\n      <td>93.333333</td>\n      <td>False</td>\n    </tr>\n    <tr>\n      <th>3</th>\n      <td>Myoclonic encephalopathy</td>\n      <td>84</td>\n      <td>91.666667</td>\n      <td>False</td>\n    </tr>\n    <tr>\n      <th>26</th>\n      <td>supplementary motor area</td>\n      <td>83</td>\n      <td>91.666667</td>\n      <td>False</td>\n    </tr>\n    <tr>\n      <th>27</th>\n      <td>Temporoparietal junction</td>\n      <td>78</td>\n      <td>91.666667</td>\n      <td>False</td>\n    </tr>\n    <tr>\n      <th>13</th>\n      <td>myoclonic absences</td>\n      <td>78</td>\n      <td>88.888889</td>\n      <td>False</td>\n    </tr>\n    <tr>\n      <th>34</th>\n      <td>external temporal</td>\n      <td>82</td>\n      <td>88.235294</td>\n      <td>False</td>\n    </tr>\n    <tr>\n      <th>10</th>\n      <td>myoclonic atonic</td>\n      <td>81</td>\n      <td>87.500000</td>\n      <td>False</td>\n    </tr>\n    <tr>\n      <th>22</th>\n      <td>Gelastic</td>\n      <td>75</td>\n      <td>87.500000</td>\n      <td>False</td>\n    </tr>\n    <tr>\n      <th>2</th>\n      <td>Ohtahara</td>\n      <td>62</td>\n      <td>87.500000</td>\n      <td>False</td>\n    </tr>\n    <tr>\n      <th>5</th>\n      <td>migrating focal</td>\n      <td>80</td>\n      <td>86.666667</td>\n      <td>False</td>\n    </tr>\n    <tr>\n      <th>30</th>\n      <td>insular</td>\n      <td>77</td>\n      <td>85.714286</td>\n      <td>False</td>\n    </tr>\n    <tr>\n      <th>35</th>\n      <td>MTLE with HS</td>\n      <td>67</td>\n      <td>83.333333</td>\n      <td>False</td>\n    </tr>\n  </tbody>\n</table>\n</div>"
     },
     "metadata": {},
     "execution_count": 9
    }
   ],
   "source": [
    "# defining threshold\n",
    "\n",
    "df_results_hashtag['threshold'] = df_results_hashtag['target'].apply(lambda x: 100 if len(x) <= 6 else \n",
    "((len(x)-1)*100/len(x) if x.find(\" \") == -1 else\n",
    "((len(x)-2)*100/len(x)))\n",
    ")\n",
    "df_results_hashtag['correspondance'] = df_results_hashtag['ratio'] >= df_results_hashtag['threshold']\n",
    "\n",
    "# Sorting values\n",
    "df_results_hashtag = df_results_hashtag.sort_values(by=['correspondance', 'threshold'], ascending=False)\n",
    "df_results_hashtag.to_csv('2. Results/df_results_hashtag.csv', index=False)\n",
    "df_results_hashtag"
   ]
  },
  {
   "cell_type": "code",
   "execution_count": 10,
   "metadata": {
    "tags": []
   },
   "outputs": [
    {
     "output_type": "stream",
     "name": "stderr",
     "text": "0%|          | 0/38 [00:00<?, ?it/s]100.0\n  3%|▎         | 1/38 [00:01<00:56,  1.54s/it]100.0\n  5%|▌         | 2/38 [00:03<00:55,  1.55s/it]87.5\n  8%|▊         | 3/38 [00:04<00:50,  1.46s/it]91.66666666666667\n 11%|█         | 4/38 [00:05<00:47,  1.38s/it]88.88888888888889\n 13%|█▎        | 5/38 [00:06<00:43,  1.31s/it]86.66666666666667\n 16%|█▌        | 6/38 [00:07<00:40,  1.26s/it]100.0\n 18%|█▊        | 7/38 [00:09<00:38,  1.25s/it]100.0\n 21%|██        | 8/38 [00:10<00:36,  1.23s/it]100.0\n 24%|██▎       | 9/38 [00:11<00:34,  1.20s/it]100.0\n 26%|██▋       | 10/38 [00:12<00:33,  1.19s/it]87.5\n 29%|██▉       | 11/38 [00:13<00:31,  1.17s/it]83.33333333333333\n 32%|███▏      | 12/38 [00:14<00:30,  1.16s/it]100.0\n 34%|███▍      | 13/38 [00:15<00:28,  1.15s/it]88.88888888888889\n 37%|███▋      | 14/38 [00:17<00:28,  1.17s/it]93.33333333333333\n 39%|███▉      | 15/38 [00:18<00:27,  1.21s/it]92.85714285714286\n 42%|████▏     | 16/38 [00:19<00:28,  1.28s/it]93.33333333333333\n 45%|████▍     | 17/38 [00:21<00:26,  1.27s/it]84.61538461538461\n 47%|████▋     | 18/38 [00:22<00:25,  1.29s/it]91.66666666666667\n 50%|█████     | 19/38 [00:23<00:24,  1.30s/it]100.0\n 53%|█████▎    | 20/38 [00:25<00:23,  1.31s/it]100.0\n 55%|█████▌    | 21/38 [00:26<00:22,  1.35s/it]100.0\n 58%|█████▊    | 22/38 [00:28<00:22,  1.39s/it]87.5\n 61%|██████    | 23/38 [00:29<00:21,  1.46s/it]100.0\n 63%|██████▎   | 24/38 [00:31<00:22,  1.59s/it]88.88888888888889\n 66%|██████▌   | 25/38 [00:34<00:27,  2.09s/it]85.71428571428571\n 68%|██████▊   | 26/38 [00:37<00:26,  2.21s/it]91.66666666666667\n 71%|███████   | 27/38 [00:39<00:22,  2.08s/it]91.66666666666667\n 74%|███████▎  | 28/38 [00:43<00:28,  2.90s/it]85.71428571428571\n 76%|███████▋  | 29/38 [00:48<00:29,  3.28s/it]87.5\n 79%|███████▉  | 30/38 [00:50<00:24,  3.12s/it]85.71428571428571\n 82%|████████▏ | 31/38 [00:52<00:19,  2.74s/it]90.0\n 84%|████████▍ | 32/38 [00:54<00:15,  2.58s/it]88.88888888888889\n 87%|████████▋ | 33/38 [00:56<00:11,  2.31s/it]87.5\n 89%|████████▉ | 34/38 [00:57<00:08,  2.02s/it]88.23529411764706\n 92%|█████████▏| 35/38 [00:59<00:05,  1.80s/it]83.33333333333333\n 95%|█████████▍| 36/38 [01:00<00:03,  1.60s/it]87.5\n 97%|█████████▋| 37/38 [01:01<00:01,  1.47s/it]88.88888888888889\n100%|██████████| 38/38 [01:02<00:00,  1.65s/it]\n"
    },
    {
     "output_type": "execute_result",
     "data": {
      "text/plain": "                                               filepath  \\\n0     1. Data/CR_Patients_info_patients-v0_4/edf/dev...   \n1     1. Data/CR_Patients_info_patients-v0_4/edf/dev...   \n2     1. Data/CR_Patients_info_patients-v0_4/edf/dev...   \n3     1. Data/CR_Patients_info_patients-v0_4/edf/dev...   \n4     1. Data/CR_Patients_info_patients-v0_4/edf/dev...   \n...                                                 ...   \n1418  1. Data/CR_Patients_info_patients-v0_4/edf/tra...   \n1419  1. Data/CR_Patients_info_patients-v0_4/edf/tra...   \n1420  1. Data/CR_Patients_info_patients-v0_4/edf/tra...   \n1421  1. Data/CR_Patients_info_patients-v0_4/edf/tra...   \n1422  1. Data/CR_Patients_info_patients-v0_4/edf/tra...   \n\n                                                 report  BFNE  EME  Ohtahara  \\\n0      Description: 2.5 to 5 hz spike/wave and polys...     0    0         0   \n1      LENGTH OF THE RECORDING:  22 minutes and 53 s...     0    0         0   \n2      MEDICATIONS:  Vimpat, Norvasc, Felbamate, Car...     0    0         0   \n3      CLINICAL HISTORY:  27 year old gentleman with...     0    0         0   \n4      MEDICATIONS:  Vimpat, Norvasc, Felbamate, Car...     0    0         0   \n...                                                 ...   ...  ...       ...   \n1418   CLINICAL HISTORY: 49 year old female with alc...     0    0         0   \n1419   CLINICAL HISTORY: A25 year old male with a si...     0    0         0   \n1420   CLINICAL HISTORY: 69 year old woman with onse...     0    0         0   \n1421   CLINICAL HISTORY: 68 year old woman with righ...     0    0         0   \n1422   CLINICAL HISTORY: 69 year old woman with myel...     0    0         0   \n\n      Myoclonic encephalopathy  infantile  migrating focal  Unkown  MEI  ...  \\\n0                            0          0                0       0    0  ...   \n1                            0          0                0       0    0  ...   \n2                            0          0                0       0    0  ...   \n3                            0          0                0       0    0  ...   \n4                            0          0                0       0    0  ...   \n...                        ...        ...              ...     ...  ...  ...   \n1418                         0          0                0       0    0  ...   \n1419                         0          0                0       0    0  ...   \n1420                         0          0                0       0    0  ...   \n1421                         0          0                0       0    0  ...   \n1422                         0          0                0       0    0  ...   \n\n      frontal  fontral temporal  insular  multifocal  occipital  parietal  \\\n0           0                 0        0           0          0         0   \n1           1                 0        0           0          0         0   \n2           0                 0        0           0          0         0   \n3           1                 0        0           0          0         0   \n4           0                 0        0           0          0         0   \n...       ...               ...      ...         ...        ...       ...   \n1418        0                 0        0           0          0         1   \n1419        0                 0        0           0          0         0   \n1420        1                 0        0           0          1         0   \n1421        0                 0        0           0          0         0   \n1422        1                 0        0           0          0         0   \n\n      external temporal  MTLE with HS  temporal  temporal occipital  \n0                     0             0         0                   0  \n1                     0             0         1                   0  \n2                     0             0         0                   0  \n3                     0             0         0                   0  \n4                     0             0         0                   0  \n...                 ...           ...       ...                 ...  \n1418                  0             0         1                   0  \n1419                  0             0         1                   0  \n1420                  0             0         0                   0  \n1421                  0             0         0                   0  \n1422                  0             0         0                   0  \n\n[1423 rows x 40 columns]",
      "text/html": "<div>\n<style scoped>\n    .dataframe tbody tr th:only-of-type {\n        vertical-align: middle;\n    }\n\n    .dataframe tbody tr th {\n        vertical-align: top;\n    }\n\n    .dataframe thead th {\n        text-align: right;\n    }\n</style>\n<table border=\"1\" class=\"dataframe\">\n  <thead>\n    <tr style=\"text-align: right;\">\n      <th></th>\n      <th>filepath</th>\n      <th>report</th>\n      <th>BFNE</th>\n      <th>EME</th>\n      <th>Ohtahara</th>\n      <th>Myoclonic encephalopathy</th>\n      <th>infantile</th>\n      <th>migrating focal</th>\n      <th>Unkown</th>\n      <th>MEI</th>\n      <th>...</th>\n      <th>frontal</th>\n      <th>fontral temporal</th>\n      <th>insular</th>\n      <th>multifocal</th>\n      <th>occipital</th>\n      <th>parietal</th>\n      <th>external temporal</th>\n      <th>MTLE with HS</th>\n      <th>temporal</th>\n      <th>temporal occipital</th>\n    </tr>\n  </thead>\n  <tbody>\n    <tr>\n      <th>0</th>\n      <td>1. Data/CR_Patients_info_patients-v0_4/edf/dev...</td>\n      <td>Description: 2.5 to 5 hz spike/wave and polys...</td>\n      <td>0</td>\n      <td>0</td>\n      <td>0</td>\n      <td>0</td>\n      <td>0</td>\n      <td>0</td>\n      <td>0</td>\n      <td>0</td>\n      <td>...</td>\n      <td>0</td>\n      <td>0</td>\n      <td>0</td>\n      <td>0</td>\n      <td>0</td>\n      <td>0</td>\n      <td>0</td>\n      <td>0</td>\n      <td>0</td>\n      <td>0</td>\n    </tr>\n    <tr>\n      <th>1</th>\n      <td>1. Data/CR_Patients_info_patients-v0_4/edf/dev...</td>\n      <td>LENGTH OF THE RECORDING:  22 minutes and 53 s...</td>\n      <td>0</td>\n      <td>0</td>\n      <td>0</td>\n      <td>0</td>\n      <td>0</td>\n      <td>0</td>\n      <td>0</td>\n      <td>0</td>\n      <td>...</td>\n      <td>1</td>\n      <td>0</td>\n      <td>0</td>\n      <td>0</td>\n      <td>0</td>\n      <td>0</td>\n      <td>0</td>\n      <td>0</td>\n      <td>1</td>\n      <td>0</td>\n    </tr>\n    <tr>\n      <th>2</th>\n      <td>1. Data/CR_Patients_info_patients-v0_4/edf/dev...</td>\n      <td>MEDICATIONS:  Vimpat, Norvasc, Felbamate, Car...</td>\n      <td>0</td>\n      <td>0</td>\n      <td>0</td>\n      <td>0</td>\n      <td>0</td>\n      <td>0</td>\n      <td>0</td>\n      <td>0</td>\n      <td>...</td>\n      <td>0</td>\n      <td>0</td>\n      <td>0</td>\n      <td>0</td>\n      <td>0</td>\n      <td>0</td>\n      <td>0</td>\n      <td>0</td>\n      <td>0</td>\n      <td>0</td>\n    </tr>\n    <tr>\n      <th>3</th>\n      <td>1. Data/CR_Patients_info_patients-v0_4/edf/dev...</td>\n      <td>CLINICAL HISTORY:  27 year old gentleman with...</td>\n      <td>0</td>\n      <td>0</td>\n      <td>0</td>\n      <td>0</td>\n      <td>0</td>\n      <td>0</td>\n      <td>0</td>\n      <td>0</td>\n      <td>...</td>\n      <td>1</td>\n      <td>0</td>\n      <td>0</td>\n      <td>0</td>\n      <td>0</td>\n      <td>0</td>\n      <td>0</td>\n      <td>0</td>\n      <td>0</td>\n      <td>0</td>\n    </tr>\n    <tr>\n      <th>4</th>\n      <td>1. Data/CR_Patients_info_patients-v0_4/edf/dev...</td>\n      <td>MEDICATIONS:  Vimpat, Norvasc, Felbamate, Car...</td>\n      <td>0</td>\n      <td>0</td>\n      <td>0</td>\n      <td>0</td>\n      <td>0</td>\n      <td>0</td>\n      <td>0</td>\n      <td>0</td>\n      <td>...</td>\n      <td>0</td>\n      <td>0</td>\n      <td>0</td>\n      <td>0</td>\n      <td>0</td>\n      <td>0</td>\n      <td>0</td>\n      <td>0</td>\n      <td>0</td>\n      <td>0</td>\n    </tr>\n    <tr>\n      <th>...</th>\n      <td>...</td>\n      <td>...</td>\n      <td>...</td>\n      <td>...</td>\n      <td>...</td>\n      <td>...</td>\n      <td>...</td>\n      <td>...</td>\n      <td>...</td>\n      <td>...</td>\n      <td>...</td>\n      <td>...</td>\n      <td>...</td>\n      <td>...</td>\n      <td>...</td>\n      <td>...</td>\n      <td>...</td>\n      <td>...</td>\n      <td>...</td>\n      <td>...</td>\n      <td>...</td>\n    </tr>\n    <tr>\n      <th>1418</th>\n      <td>1. Data/CR_Patients_info_patients-v0_4/edf/tra...</td>\n      <td>CLINICAL HISTORY: 49 year old female with alc...</td>\n      <td>0</td>\n      <td>0</td>\n      <td>0</td>\n      <td>0</td>\n      <td>0</td>\n      <td>0</td>\n      <td>0</td>\n      <td>0</td>\n      <td>...</td>\n      <td>0</td>\n      <td>0</td>\n      <td>0</td>\n      <td>0</td>\n      <td>0</td>\n      <td>1</td>\n      <td>0</td>\n      <td>0</td>\n      <td>1</td>\n      <td>0</td>\n    </tr>\n    <tr>\n      <th>1419</th>\n      <td>1. Data/CR_Patients_info_patients-v0_4/edf/tra...</td>\n      <td>CLINICAL HISTORY: A25 year old male with a si...</td>\n      <td>0</td>\n      <td>0</td>\n      <td>0</td>\n      <td>0</td>\n      <td>0</td>\n      <td>0</td>\n      <td>0</td>\n      <td>0</td>\n      <td>...</td>\n      <td>0</td>\n      <td>0</td>\n      <td>0</td>\n      <td>0</td>\n      <td>0</td>\n      <td>0</td>\n      <td>0</td>\n      <td>0</td>\n      <td>1</td>\n      <td>0</td>\n    </tr>\n    <tr>\n      <th>1420</th>\n      <td>1. Data/CR_Patients_info_patients-v0_4/edf/tra...</td>\n      <td>CLINICAL HISTORY: 69 year old woman with onse...</td>\n      <td>0</td>\n      <td>0</td>\n      <td>0</td>\n      <td>0</td>\n      <td>0</td>\n      <td>0</td>\n      <td>0</td>\n      <td>0</td>\n      <td>...</td>\n      <td>1</td>\n      <td>0</td>\n      <td>0</td>\n      <td>0</td>\n      <td>1</td>\n      <td>0</td>\n      <td>0</td>\n      <td>0</td>\n      <td>0</td>\n      <td>0</td>\n    </tr>\n    <tr>\n      <th>1421</th>\n      <td>1. Data/CR_Patients_info_patients-v0_4/edf/tra...</td>\n      <td>CLINICAL HISTORY: 68 year old woman with righ...</td>\n      <td>0</td>\n      <td>0</td>\n      <td>0</td>\n      <td>0</td>\n      <td>0</td>\n      <td>0</td>\n      <td>0</td>\n      <td>0</td>\n      <td>...</td>\n      <td>0</td>\n      <td>0</td>\n      <td>0</td>\n      <td>0</td>\n      <td>0</td>\n      <td>0</td>\n      <td>0</td>\n      <td>0</td>\n      <td>0</td>\n      <td>0</td>\n    </tr>\n    <tr>\n      <th>1422</th>\n      <td>1. Data/CR_Patients_info_patients-v0_4/edf/tra...</td>\n      <td>CLINICAL HISTORY: 69 year old woman with myel...</td>\n      <td>0</td>\n      <td>0</td>\n      <td>0</td>\n      <td>0</td>\n      <td>0</td>\n      <td>0</td>\n      <td>0</td>\n      <td>0</td>\n      <td>...</td>\n      <td>1</td>\n      <td>0</td>\n      <td>0</td>\n      <td>0</td>\n      <td>0</td>\n      <td>0</td>\n      <td>0</td>\n      <td>0</td>\n      <td>0</td>\n      <td>0</td>\n    </tr>\n  </tbody>\n</table>\n<p>1423 rows × 40 columns</p>\n</div>"
     },
     "metadata": {},
     "execution_count": 10
    }
   ],
   "source": [
    "# For each typology, inputing 1 if the local Levenshtein partial ratio is correct\n",
    "\n",
    "for i in tqdm(classification_dataset_hashtag.columns[2:]):\n",
    "    threshold = df_results_hashtag[df_results_hashtag['target'] == i]['threshold'].iloc[0]\n",
    "    print(threshold)\n",
    "    classification_dataset_hashtag[i] = classification_dataset_hashtag[i].apply(lambda x: 1 if (x >= df_results_hashtag[df_results_hashtag['target'] == i]['threshold'].iloc[0])==True else 0)\n",
    "classification_dataset_hashtag.to_csv('2. Results/classification_dataset_hashtag.csv', index=False)\n",
    "classification_dataset_hashtag"
   ]
  },
  {
   "cell_type": "markdown",
   "metadata": {},
   "source": [
    "## B - Making file with hashtags the simplified hashtags"
   ]
  },
  {
   "cell_type": "code",
   "execution_count": 46,
   "metadata": {},
   "outputs": [
    {
     "output_type": "execute_result",
     "data": {
      "text/plain": "                                            filepath  \\\n0  1. Data/CR_Patients_info_patients-v0_4/edf/dev...   \n1  1. Data/CR_Patients_info_patients-v0_4/edf/dev...   \n2  1. Data/CR_Patients_info_patients-v0_4/edf/dev...   \n3  1. Data/CR_Patients_info_patients-v0_4/edf/dev...   \n4  1. Data/CR_Patients_info_patients-v0_4/edf/dev...   \n\n                                              report  BFNE  EME  Ohtahara  \\\n0   Description: 2.5 to 5 hz spike/wave and polys...     0    0         0   \n1   LENGTH OF THE RECORDING:  22 minutes and 53 s...     0    0         0   \n2   MEDICATIONS:  Vimpat, Norvasc, Felbamate, Car...     0    0         0   \n3   CLINICAL HISTORY:  27 year old gentleman with...     0    0         0   \n4   MEDICATIONS:  Vimpat, Norvasc, Felbamate, Car...     0    0         0   \n\n   Myoclonic encephalopathy  infantile  migrating focal  Unkown  MEI  ...  \\\n0                         0          0                0       0    0  ...   \n1                         0          0                0       0    0  ...   \n2                         0          0                0       0    0  ...   \n3                         0          0                0       0    0  ...   \n4                         0          0                0       0    0  ...   \n\n   frontal  fontral temporal  insular  multifocal  occipital  parietal  \\\n0        0                 0        0           0          0         0   \n1        1                 0        0           0          0         0   \n2        0                 0        0           0          0         0   \n3        1                 0        0           0          0         0   \n4        0                 0        0           0          0         0   \n\n   external temporal  MTLE with HS  temporal  temporal occipital  \n0                  0             0         0                   0  \n1                  0             0         1                   0  \n2                  0             0         0                   0  \n3                  0             0         0                   0  \n4                  0             0         0                   0  \n\n[5 rows x 40 columns]",
      "text/html": "<div>\n<style scoped>\n    .dataframe tbody tr th:only-of-type {\n        vertical-align: middle;\n    }\n\n    .dataframe tbody tr th {\n        vertical-align: top;\n    }\n\n    .dataframe thead th {\n        text-align: right;\n    }\n</style>\n<table border=\"1\" class=\"dataframe\">\n  <thead>\n    <tr style=\"text-align: right;\">\n      <th></th>\n      <th>filepath</th>\n      <th>report</th>\n      <th>BFNE</th>\n      <th>EME</th>\n      <th>Ohtahara</th>\n      <th>Myoclonic encephalopathy</th>\n      <th>infantile</th>\n      <th>migrating focal</th>\n      <th>Unkown</th>\n      <th>MEI</th>\n      <th>...</th>\n      <th>frontal</th>\n      <th>fontral temporal</th>\n      <th>insular</th>\n      <th>multifocal</th>\n      <th>occipital</th>\n      <th>parietal</th>\n      <th>external temporal</th>\n      <th>MTLE with HS</th>\n      <th>temporal</th>\n      <th>temporal occipital</th>\n    </tr>\n  </thead>\n  <tbody>\n    <tr>\n      <th>0</th>\n      <td>1. Data/CR_Patients_info_patients-v0_4/edf/dev...</td>\n      <td>Description: 2.5 to 5 hz spike/wave and polys...</td>\n      <td>0</td>\n      <td>0</td>\n      <td>0</td>\n      <td>0</td>\n      <td>0</td>\n      <td>0</td>\n      <td>0</td>\n      <td>0</td>\n      <td>...</td>\n      <td>0</td>\n      <td>0</td>\n      <td>0</td>\n      <td>0</td>\n      <td>0</td>\n      <td>0</td>\n      <td>0</td>\n      <td>0</td>\n      <td>0</td>\n      <td>0</td>\n    </tr>\n    <tr>\n      <th>1</th>\n      <td>1. Data/CR_Patients_info_patients-v0_4/edf/dev...</td>\n      <td>LENGTH OF THE RECORDING:  22 minutes and 53 s...</td>\n      <td>0</td>\n      <td>0</td>\n      <td>0</td>\n      <td>0</td>\n      <td>0</td>\n      <td>0</td>\n      <td>0</td>\n      <td>0</td>\n      <td>...</td>\n      <td>1</td>\n      <td>0</td>\n      <td>0</td>\n      <td>0</td>\n      <td>0</td>\n      <td>0</td>\n      <td>0</td>\n      <td>0</td>\n      <td>1</td>\n      <td>0</td>\n    </tr>\n    <tr>\n      <th>2</th>\n      <td>1. Data/CR_Patients_info_patients-v0_4/edf/dev...</td>\n      <td>MEDICATIONS:  Vimpat, Norvasc, Felbamate, Car...</td>\n      <td>0</td>\n      <td>0</td>\n      <td>0</td>\n      <td>0</td>\n      <td>0</td>\n      <td>0</td>\n      <td>0</td>\n      <td>0</td>\n      <td>...</td>\n      <td>0</td>\n      <td>0</td>\n      <td>0</td>\n      <td>0</td>\n      <td>0</td>\n      <td>0</td>\n      <td>0</td>\n      <td>0</td>\n      <td>0</td>\n      <td>0</td>\n    </tr>\n    <tr>\n      <th>3</th>\n      <td>1. Data/CR_Patients_info_patients-v0_4/edf/dev...</td>\n      <td>CLINICAL HISTORY:  27 year old gentleman with...</td>\n      <td>0</td>\n      <td>0</td>\n      <td>0</td>\n      <td>0</td>\n      <td>0</td>\n      <td>0</td>\n      <td>0</td>\n      <td>0</td>\n      <td>...</td>\n      <td>1</td>\n      <td>0</td>\n      <td>0</td>\n      <td>0</td>\n      <td>0</td>\n      <td>0</td>\n      <td>0</td>\n      <td>0</td>\n      <td>0</td>\n      <td>0</td>\n    </tr>\n    <tr>\n      <th>4</th>\n      <td>1. Data/CR_Patients_info_patients-v0_4/edf/dev...</td>\n      <td>MEDICATIONS:  Vimpat, Norvasc, Felbamate, Car...</td>\n      <td>0</td>\n      <td>0</td>\n      <td>0</td>\n      <td>0</td>\n      <td>0</td>\n      <td>0</td>\n      <td>0</td>\n      <td>0</td>\n      <td>...</td>\n      <td>0</td>\n      <td>0</td>\n      <td>0</td>\n      <td>0</td>\n      <td>0</td>\n      <td>0</td>\n      <td>0</td>\n      <td>0</td>\n      <td>0</td>\n      <td>0</td>\n    </tr>\n  </tbody>\n</table>\n<p>5 rows × 40 columns</p>\n</div>"
     },
     "metadata": {},
     "execution_count": 46
    }
   ],
   "source": [
    "classification_dataset_hashtag = pd.read_csv('2. Results/classification_dataset_hashtag.csv')\n",
    "classification_dataset_hashtag.head()"
   ]
  },
  {
   "cell_type": "code",
   "execution_count": 47,
   "metadata": {
    "tags": []
   },
   "outputs": [
    {
     "output_type": "stream",
     "name": "stderr",
     "text": "100%|██████████| 40/40 [00:00<00:00, 514.43it/s]\n"
    },
    {
     "output_type": "execute_result",
     "data": {
      "text/plain": "array(['', 'central, frontal, temporal', 'frontal',\n       'tonic-clonic, temporal', 'temporal lobe, central, temporal',\n       'central, temporal', 'temporal lobe, central, frontal, temporal',\n       'temporal lobe, temporal', 'frontal, temporal', 'temporal',\n       'frontal, fontral temporal, temporal',\n       'temporal lobe, frontal, temporal',\n       'tonic-clonic, frontal, temporal',\n       'central, frontal, parietal, temporal',\n       'Lennox-Gastaut, central, frontal, multifocal, temporal',\n       'Lennox-Gastaut, occipital', 'central, multifocal, temporal',\n       'occipital, temporal', 'central', 'frontal, occipital',\n       'central, frontal', 'Rasmussen, central, parietal, temporal',\n       'central, fontral temporal, occipital, parietal, temporal',\n       'parietal, temporal',\n       'temporal lobe, Rasmussen, frontal, temporal', 'Rasmussen',\n       'Rasmussen, temporal', 'Rasmussen, central, temporal',\n       'tonic-clonic, Rasmussen, parietal, temporal',\n       'central, frontal, multifocal, temporal',\n       'tonic-clonic, central, temporal',\n       'tonic-clonic, occipital, temporal, temporal occipital',\n       'tonic-clonic', 'central, frontal, occipital',\n       'central, occipital', 'central, frontal, occipital, temporal',\n       'Gastaut type, Lennox-Gastaut, frontal, parietal, temporal',\n       'tonic-clonic, central, frontal, temporal',\n       'frontal, parietal, temporal', 'central, occipital, parietal',\n       'frontal, occipital, temporal',\n       'central, occipital, parietal, temporal', 'occipital',\n       'central, parietal, temporal',\n       'central, frontal, occipital, parietal, temporal',\n       'frontal, parietal', 'central, multifocal, occipital, parietal',\n       'tonic-clonic, central, frontal',\n       'tonic-clonic, occipital, parietal',\n       'tonic-clonic, frontal, occipital',\n       'tonic-clonic, central, parietal, temporal',\n       'Lennox-Gastaut, tonic-clonic, central, frontal, multifocal, occipital',\n       'central, parietal',\n       'Gastaut type, Lennox-Gastaut, frontal, multifocal, occipital',\n       'occipital, parietal, temporal', 'tonic-clonic, central',\n       'central, frontal, fontral temporal, temporal',\n       'tonic-clonic, central, fontral temporal, temporal',\n       'temporal lobe, frontal, occipital, temporal',\n       'Lennox-Gastaut, frontal', 'occipital, parietal',\n       'central, fontral temporal, parietal, temporal',\n       'temporal lobe, occipital, temporal',\n       'central, frontal, occipital, parietal',\n       'central, occipital, parietal, temporal, temporal occipital',\n       'EME, frontal, temporal',\n       'Lennox-Gastaut, tonic-clonic, central, temporal',\n       'occipital, temporal, temporal occipital',\n       'temporal lobe, central, frontal, parietal, temporal',\n       'central, frontal, multifocal, occipital, temporal',\n       'tonic-clonic, frontal, occipital, temporal',\n       'tonic-clonic, occipital, temporal',\n       'temporal lobe, tonic-clonic, frontal, temporal',\n       'central, fontral temporal, multifocal, temporal',\n       'central, fontral temporal, temporal',\n       'temporal lobe, parietal, temporal',\n       'Rasmussen, parietal, temporal',\n       'tonic-clonic, central, frontal, multifocal, temporal',\n       'multifocal, temporal',\n       'frontal, fontral temporal, parietal, temporal',\n       'Gastaut type, Lennox-Gastaut, central, frontal',\n       'tonic-clonic, frontal, fontral temporal, temporal', 'parietal',\n       'temporal lobe, central, parietal, temporal', 'EME, temporal',\n       'temporal lobe, tonic-clonic, central, frontal, fontral temporal, temporal',\n       'tonic-clonic, frontal',\n       'temporal lobe, tonic-clonic, occipital, temporal',\n       'Lennox-Gastaut, central, frontal',\n       'frontal, multifocal, occipital',\n       'temporal lobe, central, fontral temporal, temporal',\n       'central, occipital, temporal, temporal occipital',\n       'tonic-clonic, occipital', 'central, occipital, temporal',\n       'temporal lobe, central, occipital, temporal',\n       'temporal lobe, central, fontral temporal, parietal, temporal',\n       'tonic-clonic, central, frontal, occipital, temporal',\n       'Lennox-Gastaut, central, frontal, temporal',\n       'tonic-clonic, central, fontral temporal, occipital, temporal',\n       'temporal lobe, central, frontal, fontral temporal, temporal',\n       'temporal lobe, central, occipital, temporal, temporal occipital',\n       'central, fontral temporal, occipital, temporal',\n       'central, frontal, parietal', 'EME, frontal',\n       'Lennox-Gastaut, central, occipital', 'multifocal, occipital',\n       'temporal lobe, tonic-clonic, central, frontal, temporal',\n       'frontal, occipital, parietal, temporal',\n       'Lennox-Gastaut, central, multifocal',\n       'Gastaut type, Lennox-Gastaut, frontal',\n       'Lennox-Gastaut, frontal, temporal',\n       'Lennox-Gastaut, central, frontal, occipital, temporal',\n       'frontal, occipital, parietal',\n       'infantile, Lennox-Gastaut, central, occipital, temporal',\n       'multifocal', 'temporal lobe, tonic-clonic, central, temporal',\n       'frontal, multifocal, temporal'], dtype=object)"
     },
     "metadata": {},
     "execution_count": 47
    }
   ],
   "source": [
    "# Inputing keywords\n",
    "\n",
    "classification_dataset_hashtag['hashtag'] = ''\n",
    "classification_dataset_hashtag['temp'] = ''\n",
    "\n",
    "for i in tqdm(classification_dataset_hashtag.columns[2:]):\n",
    "    classification_dataset_hashtag ['temp'] = classification_dataset_hashtag[i]\n",
    "    classification_dataset_hashtag['temp'] = classification_dataset_hashtag['temp'].apply(lambda x: (i + \", \") if x == 1 else \"\")\n",
    "    classification_dataset_hashtag['hashtag'] = classification_dataset_hashtag['hashtag'] + classification_dataset_hashtag['temp']\n",
    "\n",
    "classification_dataset_hashtag['hashtag'] = classification_dataset_hashtag['hashtag'].apply(lambda x: x[:-2] if len(x) >2 else x)\n",
    "classification_dataset_hashtag_exported = classification_dataset_hashtag[['filepath', 'report', 'hashtag']]\n",
    "classification_dataset_hashtag_exported.to_csv('2. Results/classification_dataset_hashtag_exported.csv', index=False)\n",
    "classification_dataset_hashtag_exported ['hashtag'].unique()"
   ]
  },
  {
   "cell_type": "markdown",
   "metadata": {},
   "source": [
    "## C. Extracting keywords and position, and type of crisis"
   ]
  },
  {
   "cell_type": "code",
   "execution_count": 48,
   "metadata": {},
   "outputs": [],
   "source": [
    "def surline_keyword_info_extractor(text, target, threshold):\n",
    "    max = 0\n",
    "    keyword_list = []\n",
    "    position_list = []\n",
    "    for i in text.split('.'):\n",
    "        if fuzz.partial_ratio(i, target) >= threshold:\n",
    "            for j in re.split(';|,|:| |:',i):\n",
    "                # CONFIRM PARTIAL RATIO\n",
    "                if fuzz.partial_ratio(j, target) >= threshold and len(j)>4:\n",
    "                    keyword_list.append(j)\n",
    "                    position_list.append(text.find(j,text.find(i)))\n",
    "    \n",
    "    return keyword_list, position_list\n",
    "\n",
    "\n",
    "def crisis_type_correspondance(symptomes, thesaurus_simplified):\n",
    "    try:\n",
    "        symptome_list = symptomes.split(', ')\n",
    "        crisis_type_list = []\n",
    "\n",
    "        for symptome in symptome_list:\n",
    "            crisis_type = thesaurus_simplified[thesaurus_simplified['symptome-en-simple'] == symptome]['type of crisis'].iloc[0]\n",
    "            if crisis_type not in crisis_type_list:\n",
    "                crisis_type_list.append(crisis_type)\n",
    "        # return string \n",
    "        if len(crisis_type_list) == 2:\n",
    "            crisis_types = crisis_type_list[0] + ', '+ crisis_type_list[1]\n",
    "        if len(crisis_type_list) == 1:\n",
    "            crisis_types = crisis_type_list[0]\n",
    "\n",
    "        return crisis_types\n",
    "\n",
    "    except:\n",
    "        return ''"
   ]
  },
  {
   "cell_type": "code",
   "execution_count": 49,
   "metadata": {},
   "outputs": [
    {
     "output_type": "execute_result",
     "data": {
      "text/plain": "                                            filepath  \\\n0  1. Data/CR_Patients_info_patients-v0_4/edf/dev...   \n1  1. Data/CR_Patients_info_patients-v0_4/edf/dev...   \n2  1. Data/CR_Patients_info_patients-v0_4/edf/dev...   \n3  1. Data/CR_Patients_info_patients-v0_4/edf/dev...   \n4  1. Data/CR_Patients_info_patients-v0_4/edf/dev...   \n\n                                              report  \\\n0   Description: 2.5 to 5 hz spike/wave and polys...   \n1   LENGTH OF THE RECORDING:  22 minutes and 53 s...   \n2   MEDICATIONS:  Vimpat, Norvasc, Felbamate, Car...   \n3   CLINICAL HISTORY:  27 year old gentleman with...   \n4   MEDICATIONS:  Vimpat, Norvasc, Felbamate, Car...   \n\n                      hashtag crisis_type  \n0                                          \n1  central, frontal, temporal       focal  \n2                                          \n3                     frontal       focal  \n4                                          ",
      "text/html": "<div>\n<style scoped>\n    .dataframe tbody tr th:only-of-type {\n        vertical-align: middle;\n    }\n\n    .dataframe tbody tr th {\n        vertical-align: top;\n    }\n\n    .dataframe thead th {\n        text-align: right;\n    }\n</style>\n<table border=\"1\" class=\"dataframe\">\n  <thead>\n    <tr style=\"text-align: right;\">\n      <th></th>\n      <th>filepath</th>\n      <th>report</th>\n      <th>hashtag</th>\n      <th>crisis_type</th>\n    </tr>\n  </thead>\n  <tbody>\n    <tr>\n      <th>0</th>\n      <td>1. Data/CR_Patients_info_patients-v0_4/edf/dev...</td>\n      <td>Description: 2.5 to 5 hz spike/wave and polys...</td>\n      <td></td>\n      <td></td>\n    </tr>\n    <tr>\n      <th>1</th>\n      <td>1. Data/CR_Patients_info_patients-v0_4/edf/dev...</td>\n      <td>LENGTH OF THE RECORDING:  22 minutes and 53 s...</td>\n      <td>central, frontal, temporal</td>\n      <td>focal</td>\n    </tr>\n    <tr>\n      <th>2</th>\n      <td>1. Data/CR_Patients_info_patients-v0_4/edf/dev...</td>\n      <td>MEDICATIONS:  Vimpat, Norvasc, Felbamate, Car...</td>\n      <td></td>\n      <td></td>\n    </tr>\n    <tr>\n      <th>3</th>\n      <td>1. Data/CR_Patients_info_patients-v0_4/edf/dev...</td>\n      <td>CLINICAL HISTORY:  27 year old gentleman with...</td>\n      <td>frontal</td>\n      <td>focal</td>\n    </tr>\n    <tr>\n      <th>4</th>\n      <td>1. Data/CR_Patients_info_patients-v0_4/edf/dev...</td>\n      <td>MEDICATIONS:  Vimpat, Norvasc, Felbamate, Car...</td>\n      <td></td>\n      <td></td>\n    </tr>\n  </tbody>\n</table>\n</div>"
     },
     "metadata": {},
     "execution_count": 49
    }
   ],
   "source": [
    "# Addint crisis type\n",
    "classification_dataset_hashtag_exported['crisis_type'] = classification_dataset_hashtag_exported['hashtag'].apply(lambda x: crisis_type_correspondance(x, thesaurus_simplified))\n",
    "classification_dataset_hashtag_exported.head()"
   ]
  },
  {
   "cell_type": "code",
   "execution_count": 50,
   "metadata": {
    "tags": []
   },
   "outputs": [
    {
     "output_type": "stream",
     "name": "stderr",
     "text": "100%|██████████| 1423/1423 [00:29<00:00, 48.66it/s]\n"
    }
   ],
   "source": [
    "classification_dataset_hashtag_exported['surline_data'] = ''\n",
    "\n",
    "for i in tqdm(range(classification_dataset_hashtag_exported.shape[0])):\n",
    "    list = []\n",
    "    targets = classification_dataset_hashtag_exported.iloc[i].hashtag\n",
    "    text = classification_dataset_hashtag_exported.iloc[i].report\n",
    "\n",
    "    try:\n",
    "        for target in targets.split(', '):\n",
    "            # modify for threshold\n",
    "            threshold = df_results_hashtag[df_results_hashtag['target'] == target]['threshold'].iloc[0]\n",
    "            list.append(surline_keyword_info_extractor(text, target, threshold))\n",
    "        classification_dataset_hashtag_exported['surline_data'].iloc[i] = list\n",
    "        \n",
    "    except:\n",
    "        pass\n",
    "\n",
    "classification_dataset_hashtag_exported.to_csv('2. Results/classification_dataset_hashtag_exported.csv', index=False)"
   ]
  },
  {
   "cell_type": "code",
   "execution_count": 52,
   "metadata": {},
   "outputs": [
    {
     "output_type": "execute_result",
     "data": {
      "text/plain": "                                               filepath  \\\n0     1. Data/CR_Patients_info_patients-v0_4/edf/dev...   \n1     1. Data/CR_Patients_info_patients-v0_4/edf/dev...   \n2     1. Data/CR_Patients_info_patients-v0_4/edf/dev...   \n3     1. Data/CR_Patients_info_patients-v0_4/edf/dev...   \n4     1. Data/CR_Patients_info_patients-v0_4/edf/dev...   \n...                                                 ...   \n1418  1. Data/CR_Patients_info_patients-v0_4/edf/tra...   \n1419  1. Data/CR_Patients_info_patients-v0_4/edf/tra...   \n1420  1. Data/CR_Patients_info_patients-v0_4/edf/tra...   \n1421  1. Data/CR_Patients_info_patients-v0_4/edf/tra...   \n1422  1. Data/CR_Patients_info_patients-v0_4/edf/tra...   \n\n                                                 report  \\\n0      Description: 2.5 to 5 hz spike/wave and polys...   \n1      LENGTH OF THE RECORDING:  22 minutes and 53 s...   \n2      MEDICATIONS:  Vimpat, Norvasc, Felbamate, Car...   \n3      CLINICAL HISTORY:  27 year old gentleman with...   \n4      MEDICATIONS:  Vimpat, Norvasc, Felbamate, Car...   \n...                                                 ...   \n1418   CLINICAL HISTORY: 49 year old female with alc...   \n1419   CLINICAL HISTORY: A25 year old male with a si...   \n1420   CLINICAL HISTORY: 69 year old woman with onse...   \n1421   CLINICAL HISTORY: 68 year old woman with righ...   \n1422   CLINICAL HISTORY: 69 year old woman with myel...   \n\n                          hashtag         crisis_type  \\\n0                                                       \n1      central, frontal, temporal               focal   \n2                                                       \n3                         frontal               focal   \n4                                                       \n...                           ...                 ...   \n1418           parietal, temporal               focal   \n1419       tonic-clonic, temporal  Generalized, focal   \n1420  central, frontal, occipital               focal   \n1421                                                    \n1422             central, frontal               focal   \n\n                                           surline_data  \n0                                                        \n1     [([central, frontocentral, frontocentral], [87...  \n2                                                        \n3                 [([frontally, frontal], [959, 1760])]  \n4                                                        \n...                                                 ...  \n1418         [([parietal], [929]), ([temporal], [938])]  \n1419  [([Tonic-clonic], [225]), ([temporal, temporal...  \n1420  [([central, central], [565, 824]), ([frontal, ...  \n1421                                                     \n1422            [([central], [994]), ([frontal], [68])]  \n\n[1423 rows x 5 columns]",
      "text/html": "<div>\n<style scoped>\n    .dataframe tbody tr th:only-of-type {\n        vertical-align: middle;\n    }\n\n    .dataframe tbody tr th {\n        vertical-align: top;\n    }\n\n    .dataframe thead th {\n        text-align: right;\n    }\n</style>\n<table border=\"1\" class=\"dataframe\">\n  <thead>\n    <tr style=\"text-align: right;\">\n      <th></th>\n      <th>filepath</th>\n      <th>report</th>\n      <th>hashtag</th>\n      <th>crisis_type</th>\n      <th>surline_data</th>\n    </tr>\n  </thead>\n  <tbody>\n    <tr>\n      <th>0</th>\n      <td>1. Data/CR_Patients_info_patients-v0_4/edf/dev...</td>\n      <td>Description: 2.5 to 5 hz spike/wave and polys...</td>\n      <td></td>\n      <td></td>\n      <td></td>\n    </tr>\n    <tr>\n      <th>1</th>\n      <td>1. Data/CR_Patients_info_patients-v0_4/edf/dev...</td>\n      <td>LENGTH OF THE RECORDING:  22 minutes and 53 s...</td>\n      <td>central, frontal, temporal</td>\n      <td>focal</td>\n      <td>[([central, frontocentral, frontocentral], [87...</td>\n    </tr>\n    <tr>\n      <th>2</th>\n      <td>1. Data/CR_Patients_info_patients-v0_4/edf/dev...</td>\n      <td>MEDICATIONS:  Vimpat, Norvasc, Felbamate, Car...</td>\n      <td></td>\n      <td></td>\n      <td></td>\n    </tr>\n    <tr>\n      <th>3</th>\n      <td>1. Data/CR_Patients_info_patients-v0_4/edf/dev...</td>\n      <td>CLINICAL HISTORY:  27 year old gentleman with...</td>\n      <td>frontal</td>\n      <td>focal</td>\n      <td>[([frontally, frontal], [959, 1760])]</td>\n    </tr>\n    <tr>\n      <th>4</th>\n      <td>1. Data/CR_Patients_info_patients-v0_4/edf/dev...</td>\n      <td>MEDICATIONS:  Vimpat, Norvasc, Felbamate, Car...</td>\n      <td></td>\n      <td></td>\n      <td></td>\n    </tr>\n    <tr>\n      <th>...</th>\n      <td>...</td>\n      <td>...</td>\n      <td>...</td>\n      <td>...</td>\n      <td>...</td>\n    </tr>\n    <tr>\n      <th>1418</th>\n      <td>1. Data/CR_Patients_info_patients-v0_4/edf/tra...</td>\n      <td>CLINICAL HISTORY: 49 year old female with alc...</td>\n      <td>parietal, temporal</td>\n      <td>focal</td>\n      <td>[([parietal], [929]), ([temporal], [938])]</td>\n    </tr>\n    <tr>\n      <th>1419</th>\n      <td>1. Data/CR_Patients_info_patients-v0_4/edf/tra...</td>\n      <td>CLINICAL HISTORY: A25 year old male with a si...</td>\n      <td>tonic-clonic, temporal</td>\n      <td>Generalized, focal</td>\n      <td>[([Tonic-clonic], [225]), ([temporal, temporal...</td>\n    </tr>\n    <tr>\n      <th>1420</th>\n      <td>1. Data/CR_Patients_info_patients-v0_4/edf/tra...</td>\n      <td>CLINICAL HISTORY: 69 year old woman with onse...</td>\n      <td>central, frontal, occipital</td>\n      <td>focal</td>\n      <td>[([central, central], [565, 824]), ([frontal, ...</td>\n    </tr>\n    <tr>\n      <th>1421</th>\n      <td>1. Data/CR_Patients_info_patients-v0_4/edf/tra...</td>\n      <td>CLINICAL HISTORY: 68 year old woman with righ...</td>\n      <td></td>\n      <td></td>\n      <td></td>\n    </tr>\n    <tr>\n      <th>1422</th>\n      <td>1. Data/CR_Patients_info_patients-v0_4/edf/tra...</td>\n      <td>CLINICAL HISTORY: 69 year old woman with myel...</td>\n      <td>central, frontal</td>\n      <td>focal</td>\n      <td>[([central], [994]), ([frontal], [68])]</td>\n    </tr>\n  </tbody>\n</table>\n<p>1423 rows × 5 columns</p>\n</div>"
     },
     "metadata": {},
     "execution_count": 52
    }
   ],
   "source": [
    "classification_dataset_hashtag_exported"
   ]
  }
 ]
}