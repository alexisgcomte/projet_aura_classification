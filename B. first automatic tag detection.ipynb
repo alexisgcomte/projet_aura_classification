{
 "cells": [
  {
   "cell_type": "markdown",
   "metadata": {},
   "source": [
    "# B. first automatic tag detection "
   ]
  },
  {
   "cell_type": "markdown",
   "metadata": {},
   "source": [
    "## Intro - Importing libraries and datasets"
   ]
  },
  {
   "cell_type": "code",
   "execution_count": 45,
   "metadata": {},
   "outputs": [],
   "source": [
    "# import of libraries\n",
    "import pandas as pd\n",
    "from fuzzywuzzy import fuzz\n",
    "from tqdm import tqdm"
   ]
  },
  {
   "cell_type": "code",
   "execution_count": 2,
   "metadata": {},
   "outputs": [
    {
     "output_type": "execute_result",
     "data": {
      "text/plain": "  classification_E          catégorie  \\\n0               E1  Période néonatale   \n1               E2  Période néonatale   \n2               E3  Période néonatale   \n3              E31         Nourrisons   \n4              E33         Nourrisons   \n\n                                         symptome-fr  \\\n0                Encéphalopathie myoclonique précoce   \n1       Epilepsie néonatale familiale bénigne (BFNE)   \n2                                Syndrome d'ohtahara   \n3  Encépahlopathie myoclonique des affections non...   \n4                     Epilepsie benigne du nourisson   \n\n                                         symptome-en CIM_10    CIM11  Orphanet  \n0           Benign familial neonatal epilepsy (BFNE)  G40.8  8A61.0Y    1935.0  \n1               Early myoclonic encephalopathy (EME)  G40.8  8A61.10    1949.0  \n2                                  Ohtahara syndrome  G40.8   8A62.Y    1934.0  \n3  Myoclonic encephalopathy in nonprogressive dis...  G40.4   8A62.Y   86913.0  \n4                          Benign infantile epilepsy  G40.3  8A61.1Z  166302.0  ",
      "text/html": "<div>\n<style scoped>\n    .dataframe tbody tr th:only-of-type {\n        vertical-align: middle;\n    }\n\n    .dataframe tbody tr th {\n        vertical-align: top;\n    }\n\n    .dataframe thead th {\n        text-align: right;\n    }\n</style>\n<table border=\"1\" class=\"dataframe\">\n  <thead>\n    <tr style=\"text-align: right;\">\n      <th></th>\n      <th>classification_E</th>\n      <th>catégorie</th>\n      <th>symptome-fr</th>\n      <th>symptome-en</th>\n      <th>CIM_10</th>\n      <th>CIM11</th>\n      <th>Orphanet</th>\n    </tr>\n  </thead>\n  <tbody>\n    <tr>\n      <th>0</th>\n      <td>E1</td>\n      <td>Période néonatale</td>\n      <td>Encéphalopathie myoclonique précoce</td>\n      <td>Benign familial neonatal epilepsy (BFNE)</td>\n      <td>G40.8</td>\n      <td>8A61.0Y</td>\n      <td>1935.0</td>\n    </tr>\n    <tr>\n      <th>1</th>\n      <td>E2</td>\n      <td>Période néonatale</td>\n      <td>Epilepsie néonatale familiale bénigne (BFNE)</td>\n      <td>Early myoclonic encephalopathy (EME)</td>\n      <td>G40.8</td>\n      <td>8A61.10</td>\n      <td>1949.0</td>\n    </tr>\n    <tr>\n      <th>2</th>\n      <td>E3</td>\n      <td>Période néonatale</td>\n      <td>Syndrome d'ohtahara</td>\n      <td>Ohtahara syndrome</td>\n      <td>G40.8</td>\n      <td>8A62.Y</td>\n      <td>1934.0</td>\n    </tr>\n    <tr>\n      <th>3</th>\n      <td>E31</td>\n      <td>Nourrisons</td>\n      <td>Encépahlopathie myoclonique des affections non...</td>\n      <td>Myoclonic encephalopathy in nonprogressive dis...</td>\n      <td>G40.4</td>\n      <td>8A62.Y</td>\n      <td>86913.0</td>\n    </tr>\n    <tr>\n      <th>4</th>\n      <td>E33</td>\n      <td>Nourrisons</td>\n      <td>Epilepsie benigne du nourisson</td>\n      <td>Benign infantile epilepsy</td>\n      <td>G40.3</td>\n      <td>8A61.1Z</td>\n      <td>166302.0</td>\n    </tr>\n  </tbody>\n</table>\n</div>"
     },
     "metadata": {},
     "execution_count": 2
    }
   ],
   "source": [
    "# import of thesaurus\n",
    "thesaurus = pd.read_csv('data/thesaurus_key_words.csv', encoding=\"ISO-8859-1\", sep=';')\n",
    "thesaurus.head()"
   ]
  },
  {
   "cell_type": "code",
   "execution_count": 3,
   "metadata": {},
   "outputs": [
    {
     "output_type": "execute_result",
     "data": {
      "text/plain": "                                            filepath  \\\n0  CR_Patients_info_patients-v0_4/edf/dev/01_tcp_...   \n1  CR_Patients_info_patients-v0_4/edf/dev/01_tcp_...   \n2  CR_Patients_info_patients-v0_4/edf/dev/01_tcp_...   \n3  CR_Patients_info_patients-v0_4/edf/dev/01_tcp_...   \n4  CR_Patients_info_patients-v0_4/edf/dev/01_tcp_...   \n\n                                              report  \n0   Description: 2.5 to 5 hz spike/wave and polys...  \n1   LENGTH OF THE RECORDING:  22 minutes and 53 s...  \n2   MEDICATIONS:  Vimpat, Norvasc, Felbamate, Car...  \n3   CLINICAL HISTORY:  27 year old gentleman with...  \n4   MEDICATIONS:  Vimpat, Norvasc, Felbamate, Car...  ",
      "text/html": "<div>\n<style scoped>\n    .dataframe tbody tr th:only-of-type {\n        vertical-align: middle;\n    }\n\n    .dataframe tbody tr th {\n        vertical-align: top;\n    }\n\n    .dataframe thead th {\n        text-align: right;\n    }\n</style>\n<table border=\"1\" class=\"dataframe\">\n  <thead>\n    <tr style=\"text-align: right;\">\n      <th></th>\n      <th>filepath</th>\n      <th>report</th>\n    </tr>\n  </thead>\n  <tbody>\n    <tr>\n      <th>0</th>\n      <td>CR_Patients_info_patients-v0_4/edf/dev/01_tcp_...</td>\n      <td>Description: 2.5 to 5 hz spike/wave and polys...</td>\n    </tr>\n    <tr>\n      <th>1</th>\n      <td>CR_Patients_info_patients-v0_4/edf/dev/01_tcp_...</td>\n      <td>LENGTH OF THE RECORDING:  22 minutes and 53 s...</td>\n    </tr>\n    <tr>\n      <th>2</th>\n      <td>CR_Patients_info_patients-v0_4/edf/dev/01_tcp_...</td>\n      <td>MEDICATIONS:  Vimpat, Norvasc, Felbamate, Car...</td>\n    </tr>\n    <tr>\n      <th>3</th>\n      <td>CR_Patients_info_patients-v0_4/edf/dev/01_tcp_...</td>\n      <td>CLINICAL HISTORY:  27 year old gentleman with...</td>\n    </tr>\n    <tr>\n      <th>4</th>\n      <td>CR_Patients_info_patients-v0_4/edf/dev/01_tcp_...</td>\n      <td>MEDICATIONS:  Vimpat, Norvasc, Felbamate, Car...</td>\n    </tr>\n  </tbody>\n</table>\n</div>"
     },
     "metadata": {},
     "execution_count": 3
    }
   ],
   "source": [
    "# import of classification dataset\n",
    "classification_dataset = pd.read_csv('data/classification_dataset.csv')\n",
    "classification_dataset.head()"
   ]
  },
  {
   "cell_type": "markdown",
   "metadata": {},
   "source": [
    "# I - Working with Levenshtein distance"
   ]
  },
  {
   "cell_type": "code",
   "execution_count": 79,
   "metadata": {
    "tags": []
   },
   "outputs": [
    {
     "output_type": "stream",
     "name": "stderr",
     "text": "100%|██████████| 46/46 [00:47<00:00,  1.03s/it]CPU times: user 47 s, sys: 46.9 ms, total: 47.1 s\nWall time: 47.3 s\n\n"
    },
    {
     "output_type": "execute_result",
     "data": {
      "text/plain": "                                               target  ratio\n13                            Lennox-Gastaut syndrome    100\n16  Epilepsy with generalized tonicclonic seizure...     81\n7                                       West syndrome     77\n31                                  temporal epilepsy     76\n23                                   central epilepsy     75\n26                                   frontal epilepsy     75\n27                                   insular epilepsy     75\n6                                     Dravet syndrome     73\n2                           Benign infantile epilepsy     72\n30                                  parietal epilepsy     71\n22                                 Rasmussen syndrome     67\n15            Other familial temporal lobe epilepsies     67\n29                                 occipital epilepsy     67\n0                                   Ohtahara syndrome     65\n21                                  Reflex epilepsies     65\n32                         external temporal epilepsy     65\n37                                     Other location     64\n28                                multifocal epilepsy     63\n35                        temporal occipital epilepsy     63\n36         temporal epilepsy without precise location     62\n10                   Childhood absence epilepsy (CAE)     62\n19                  Juvenile myoclonic epilepsy (JME)     61\n38                                    Unkown location     60\n5                 Myoclonic epilepsy in infancy (MEI)     60\n25                           Temporoparietal junction     58\n20      Gelastic seizures with hypothalamic hamartoma     58\n3   Epilepsy of infancy with migrating focal seizures     57\n4                  Benign familial infantile epilepsy     56\n11                   Epilepsy with myoclonic absences     56\n17                    Juvenile absence epilepsy (JAE)     55\n18  Autosomal dominant epilepsy with auditory feat...     52\n8   Epilepsy with myoclonic atonic (previously ast...     52\n14                           Panayiotopoulos syndrome     50\n1   Myoclonic encephalopathy in nonprogressive dis...     50\n33  Mesial temporal lobe epilepsy with hippocampal...     50\n34  Mesial temporal lobe epilepsy without  hippoca...     50\n24                           supplementary motor area     50\n9   Late onset childhood occipital epilepsy (Gasta...     48\n12                     Landau-Kleffner syndrome (LKS)     47",
      "text/html": "<div>\n<style scoped>\n    .dataframe tbody tr th:only-of-type {\n        vertical-align: middle;\n    }\n\n    .dataframe tbody tr th {\n        vertical-align: top;\n    }\n\n    .dataframe thead th {\n        text-align: right;\n    }\n</style>\n<table border=\"1\" class=\"dataframe\">\n  <thead>\n    <tr style=\"text-align: right;\">\n      <th></th>\n      <th>target</th>\n      <th>ratio</th>\n    </tr>\n  </thead>\n  <tbody>\n    <tr>\n      <th>13</th>\n      <td>Lennox-Gastaut syndrome</td>\n      <td>100</td>\n    </tr>\n    <tr>\n      <th>16</th>\n      <td>Epilepsy with generalized tonicclonic seizure...</td>\n      <td>81</td>\n    </tr>\n    <tr>\n      <th>7</th>\n      <td>West syndrome</td>\n      <td>77</td>\n    </tr>\n    <tr>\n      <th>31</th>\n      <td>temporal epilepsy</td>\n      <td>76</td>\n    </tr>\n    <tr>\n      <th>23</th>\n      <td>central epilepsy</td>\n      <td>75</td>\n    </tr>\n    <tr>\n      <th>26</th>\n      <td>frontal epilepsy</td>\n      <td>75</td>\n    </tr>\n    <tr>\n      <th>27</th>\n      <td>insular epilepsy</td>\n      <td>75</td>\n    </tr>\n    <tr>\n      <th>6</th>\n      <td>Dravet syndrome</td>\n      <td>73</td>\n    </tr>\n    <tr>\n      <th>2</th>\n      <td>Benign infantile epilepsy</td>\n      <td>72</td>\n    </tr>\n    <tr>\n      <th>30</th>\n      <td>parietal epilepsy</td>\n      <td>71</td>\n    </tr>\n    <tr>\n      <th>22</th>\n      <td>Rasmussen syndrome</td>\n      <td>67</td>\n    </tr>\n    <tr>\n      <th>15</th>\n      <td>Other familial temporal lobe epilepsies</td>\n      <td>67</td>\n    </tr>\n    <tr>\n      <th>29</th>\n      <td>occipital epilepsy</td>\n      <td>67</td>\n    </tr>\n    <tr>\n      <th>0</th>\n      <td>Ohtahara syndrome</td>\n      <td>65</td>\n    </tr>\n    <tr>\n      <th>21</th>\n      <td>Reflex epilepsies</td>\n      <td>65</td>\n    </tr>\n    <tr>\n      <th>32</th>\n      <td>external temporal epilepsy</td>\n      <td>65</td>\n    </tr>\n    <tr>\n      <th>37</th>\n      <td>Other location</td>\n      <td>64</td>\n    </tr>\n    <tr>\n      <th>28</th>\n      <td>multifocal epilepsy</td>\n      <td>63</td>\n    </tr>\n    <tr>\n      <th>35</th>\n      <td>temporal occipital epilepsy</td>\n      <td>63</td>\n    </tr>\n    <tr>\n      <th>36</th>\n      <td>temporal epilepsy without precise location</td>\n      <td>62</td>\n    </tr>\n    <tr>\n      <th>10</th>\n      <td>Childhood absence epilepsy (CAE)</td>\n      <td>62</td>\n    </tr>\n    <tr>\n      <th>19</th>\n      <td>Juvenile myoclonic epilepsy (JME)</td>\n      <td>61</td>\n    </tr>\n    <tr>\n      <th>38</th>\n      <td>Unkown location</td>\n      <td>60</td>\n    </tr>\n    <tr>\n      <th>5</th>\n      <td>Myoclonic epilepsy in infancy (MEI)</td>\n      <td>60</td>\n    </tr>\n    <tr>\n      <th>25</th>\n      <td>Temporoparietal junction</td>\n      <td>58</td>\n    </tr>\n    <tr>\n      <th>20</th>\n      <td>Gelastic seizures with hypothalamic hamartoma</td>\n      <td>58</td>\n    </tr>\n    <tr>\n      <th>3</th>\n      <td>Epilepsy of infancy with migrating focal seizures</td>\n      <td>57</td>\n    </tr>\n    <tr>\n      <th>4</th>\n      <td>Benign familial infantile epilepsy</td>\n      <td>56</td>\n    </tr>\n    <tr>\n      <th>11</th>\n      <td>Epilepsy with myoclonic absences</td>\n      <td>56</td>\n    </tr>\n    <tr>\n      <th>17</th>\n      <td>Juvenile absence epilepsy (JAE)</td>\n      <td>55</td>\n    </tr>\n    <tr>\n      <th>18</th>\n      <td>Autosomal dominant epilepsy with auditory feat...</td>\n      <td>52</td>\n    </tr>\n    <tr>\n      <th>8</th>\n      <td>Epilepsy with myoclonic atonic (previously ast...</td>\n      <td>52</td>\n    </tr>\n    <tr>\n      <th>14</th>\n      <td>Panayiotopoulos syndrome</td>\n      <td>50</td>\n    </tr>\n    <tr>\n      <th>1</th>\n      <td>Myoclonic encephalopathy in nonprogressive dis...</td>\n      <td>50</td>\n    </tr>\n    <tr>\n      <th>33</th>\n      <td>Mesial temporal lobe epilepsy with hippocampal...</td>\n      <td>50</td>\n    </tr>\n    <tr>\n      <th>34</th>\n      <td>Mesial temporal lobe epilepsy without  hippoca...</td>\n      <td>50</td>\n    </tr>\n    <tr>\n      <th>24</th>\n      <td>supplementary motor area</td>\n      <td>50</td>\n    </tr>\n    <tr>\n      <th>9</th>\n      <td>Late onset childhood occipital epilepsy (Gasta...</td>\n      <td>48</td>\n    </tr>\n    <tr>\n      <th>12</th>\n      <td>Landau-Kleffner syndrome (LKS)</td>\n      <td>47</td>\n    </tr>\n  </tbody>\n</table>\n</div>"
     },
     "metadata": {},
     "execution_count": 79
    }
   ],
   "source": [
    "\n",
    "# We will calculate the partial_ratio for each thesaury therme and update it in a result dataset\n",
    "\n",
    "%%time\n",
    "\n",
    "for i in tqdm(list(thesaurus['symptome-en'])):\n",
    "    classification_dataset[i] = classification_dataset['report'].apply(lambda x: fuzz.partial_ratio(x, i)) \n",
    "\n",
    "df_results = pd.DataFrame(data=classification_dataset.columns[4:], columns=['target'])\n",
    "df_results['ratio'] = df_results['target'].apply(lambda x: max(classification_dataset[x]))\n",
    "\n",
    "# What can we predict at best?\n",
    "df_results.sort_values(by='ratio', ascending=False)"
   ]
  },
  {
   "cell_type": "code",
   "execution_count": 133,
   "metadata": {},
   "outputs": [
    {
     "output_type": "execute_result",
     "data": {
      "text/plain": "' CLINICAL HISTORY: This is a 29-year-old, mentally retarded female with seizures since age 7, after removal of an occipital tumor.  Last seizure one week ago. MEDICATIONS: Dilantin. INTRODUCTION: Digital video EEG is performed in the lab using standard 10-20 system of electrode placement with one channel of EKG. Hyperventilation and photic stimulation were not performed.  This is an awake and light sleep record. DESCRIPTION OF THE RECORD: The background EEG is diffusely slow with theta activity and disorganized.  A rare, slow alpha rhythm of 7 Hz, 20 V is seen. Low voltage, frontocentral beta activity is also seen.  Soon after the EEG starts, bursts of 2 to 4 Hz frontally predominant sharp and slow wave complexes lasting for one to two seconds are seen.  In addition, frequent right focal spike and wave complexes are seen in the right hemisphere, mostly in the temporal region, but also in the occipital area.  This focal spike and wave activity occasionally generalized. Drowsiness is characterized by a decrease in the amplitude as well as a mixed frequency of activity, with bursts of frontally predominant 2 to 3 Hz sharp and slow wave activity. Deeper stages of sleep were not achieved.  When the patient is aroused, she has some spastic facial movements, but no EEG correlates were recorded. HR:  78 BPM. IMPRESSION: Abnormal EEG due to: Diffusely slow and disorganized background. Bursts of frontally predominant sharp and slow wave activity. Focal spike and wave activity in the right temporal and occipital area. CLINICAL CORRELATION: This tracing is consistent with a diffuse disorder of cerebral dysfunction involving both gray and white matter.  The epileptiform discharges found in the right hemisphere, as well as the frontally predominant sharp and slow waves supports a partial mechanism for epilepsy in this patient. This EEG pattern is usually seen in patients with refractory epilepsy.  The clinical differential should also include Lennox-Gastaut syndrome.'"
     },
     "metadata": {},
     "execution_count": 133
    }
   ],
   "source": [
    "# For a target, output the related reports sorted by partial_ratio\n",
    "\n",
    "def research_similarity(target):\n",
    "    df = pd.DataFrame(classification_dataset['report'])\n",
    "    df['partial_ratio'] = df['report'].apply(lambda x: fuzz.partial_ratio(x, target))\n",
    "    df = df.sort_values(by='partial_ratio', ascending=False)\n",
    "    return df"
   ]
  },
  {
   "cell_type": "markdown",
   "metadata": {},
   "source": [
    "## A - Focus on Lennox-Gastaut"
   ]
  },
  {
   "cell_type": "code",
   "execution_count": 137,
   "metadata": {},
   "outputs": [
    {
     "output_type": "execute_result",
     "data": {
      "text/plain": "838     100\n117     100\n45      100\n46      100\n47      100\n48      100\n49      100\n51      100\n1258    100\n843     100\n220     100\n1315    100\n372     100\n44      100\n1107    100\n276     100\n1302    100\n227     100\n1211    100\n547     100\n1167    100\n684     100\n1269    100\n597      50\n596      50\n595      50\n594      50\n593      50\n598      50\n809      43\nName: partial_ratio, dtype: int64"
     },
     "metadata": {},
     "execution_count": 137
    }
   ],
   "source": [
    "\n",
    "research_similarity('Lennox-Gastaut')['partial_ratio'].head(30)"
   ]
  },
  {
   "cell_type": "code",
   "execution_count": 140,
   "metadata": {},
   "outputs": [
    {
     "output_type": "execute_result",
     "data": {
      "text/plain": "' CLINICAL HISTORY: This is a 27-year-old male with a history of severe MR, multiple medical problems with multiple brief seizures per month.  Seizures characterized by generalized shaking lasting 20 seconds. MEDICATIONS: Lamictal, Tegretol, Tranxene, and many others. INTRODUCTION: Digital video EEG is performed in the lab using standard 10-20 system of electrode placement with one channel of EKG. The patient is drowsy or somnolent. Photic stimulation is performed. DESCRIPTION OF THE RECORD: The background EEG is markedly abnormal and is primarily a mixture of rhythmic 3 Hz activity with smaller amounts of 2 Hz activity and some 4 to 5 Hz theta.  There are multifocal spike and slow wave complexes identified in the record including bifrontal, high amplitude spike and slow wave complexes with an approximately 2 Hz after going slow wave.  Focal epileptiform activity is also seen in the occipital regions, sometimes maximum at O2 and at other times with a poly spike wave component at O1-O2.  The epileptiform activity may be seen independently in the right or left hemisphere including T5, FP1, F7, and C3. The patient is noted to snore occasionally, but there isnâ\\x80\\x99t a significant difference in terms of awake or asleep pattern, although there may be more frontally predominant delta in drowsiness.  There are occasional high amplitude, bifrontal poly spike and slow wave complexes. Photic stimulation does not activate the record. There are some shifting asymmetries in terms of the amount of theta or delta seen in the background. HR:  78 BPM. IMPRESSION: Abnormal EEG due to: Generalized slowing. Slow spike and wave activity. Multifocal spikes. CLINICAL CORRELATION: For this individual who had a childhood history of infantile spasms, the pattern described is compatible with a Lennox-Gastaut-type syndrome and/or a diffuse disorder of cerebral function.'"
     },
     "metadata": {},
     "execution_count": 140
    }
   ],
   "source": [
    "research_similarity('Lennox-Gastaut').report[227]"
   ]
  },
  {
   "cell_type": "markdown",
   "metadata": {},
   "source": [
    "it works with 100 partial ratio"
   ]
  },
  {
   "cell_type": "code",
   "execution_count": 141,
   "metadata": {},
   "outputs": [
    {
     "output_type": "execute_result",
     "data": {
      "text/plain": "' History: The patient is a 28 year old man with a long-standing history of medically refractory epilepsy. Patient is admitted to continuous audio-video EEG monitoring for event characterization and potential seizure localization and  lateralization as a part of presurgical evaluation for potential epilepsy surgery. Seizure semiology: Type 1: No Aura. Head shaking side-to-side.  Stares blankly, loss of awareness, does not respond to stimuli during the event. Lasts about 1O min, occasionally eyes roll backwards. Type 2: Type 1with shaking of the arms and legs associated with the staring for about 2 min. Post event confusion for 30min. Admission  Medications: Lamictal 200 mg BID Zonisamide 300 mg qHS Conditions of the recording: A routine 21 channel digital EEG was recorded at the onset of monitoring. The patient then underwent continuous CCTV/EEG monitoring using a cable telemetry system. Scalp electrodes were placed and secured with collodion according to the 10-20 international electrode system. Additionally, T1, F9, T9, P9, T2, F10,T10, and P1O electrodes were placed in this patient. Sphenoidal electrodes were not used in this case. Impedances were measured and verified to be below 5 Kohms. EEG activity was recorded referentially to vertex reference, digitized, and stored to computer hard drive. Periods of interest were subsequently reformatted to the montage of interest and reviewed in detail. Staff supervision, patient-initiated event buttons and computerized algorithms allowed detection of epileptiform EEG activity and correlation with behavior. For approximately 8 hours each day the patient was attended by an EEG technician.  A neurologist was available in person or on call 24 hours per day. The patient was monitored via video 24 hours per day by a registered nurse with special training in seizure recognition and testing. During times when a technician was not available, EEG recording, video recording, and computer analysis continued, and nursing performed seizure testing and electrode maintenance . The Getman spike and seizure detection computer program (trademark named \"Stellate\") was used to screen the EEG in real time for electrographic seizures and interictal discharges.  Samples of EEG were recorded periodically. Detections were reviewed in detail by attending neurologist.  All events and detections, as well as selected samples, were stored to external hard drive media. DESCRIPTION OF EMU EVALUATION: Description of daily interictal EEGs: 8/24- lnterictal background: The posterior dominant rhythm is a symmetric moderate voltage 10 Hz alpha 8/25 Epileptiform activity: activity that attenuates with eye opening. None Sleep: Sleep elements including symmetrical vertex waves, sleep spindles,SWS and Seizures/events: REM sleep. None AEDs: LTG 200 mg BID, ZNS 300 mg qHS 8/25- lnterictal background: The posterior dominant rhythm is a symmetric moderate voltage 10 Hz alpha 8/26 Epileptiform activity: activity that attenuates with eye opening none Sleep: Normal sleep architecture Seizures/events : None. Sleep deprived AEDs: LTG 100 mg BID, ZNS 300 mg qHS 8/26- lnterictal background: The posterior dominant rhythm is a symmetric moderate voltage 10 Hz alpha 8127 activity that attenuates with eye opening . Epileptiform activity: none Sleep: Normal sleep architecture Seizures/events : none AEDs: LTG 50 mg BID, ZNS 100 mg qHS 8127- lnterictal background: The posterior dominant rhythm is a symmetric moderate voltage 10 Hz alpha 8/28 Epileptiform activity: activity that attenuates with eye opening . none Sleep: Normal sleep architecture Seizures/events: none AEDs: LTG 50 mg qam, ZNS OFF 8/28- lnterictal background: The posterior dominant rhythm is a symmetric moderate voltage 10 Hz alpha 8/29 Epileptiform activity: activity that attenuates with eye opening . none Sleep: Normal sleep architecture Seizures/events: None, sleep deprived AEDs: LTG OFF,ZNS OFF 8/29- lnterictal background: The posterior dominant rhythm is a symmetric moderate voltage 10 Hz alpha 8/30 activity that attenuates with eye opening . Epileptiform activity: none Sleep: Normal sleep architecture Seizures/events: none AEDs: LTG OFF, ZNS OFF 8/30- lnterictal background: The posterior dominant rhythm is a symmetric moderate voltage 10 Hz alpha 8/31 activity that attenuates with eye opening . Epileptiform activity: none Sleep: Normal sleep architecture Seizures/events : none AEDs: LTG OFF, ZNS OFF 8/31-\\tlnterictal background:9/01Epileptiform activity: Sleep: Seizures/events :AEDs:The posterior dominant rhythm is a symmetric moderate voltage 10 Hz alpha activity that attenuates with eye opening . none Normal sleep architecture none LTG restarted, ZNS restarted 8/31-\\tlnterictal background: 9/01 Epileptiform activity: Sleep: Seizures/events : AEDs: The posterior dominant rhythm is a symmetric moderate voltage 10 Hz alpha activity that attenuates with eye opening . none Normal sleep architecture none LTG restarted, ZNS restarted Clinical and EEG Characteristics During Seizures and Events: No events INDUCTION PROCEDURES: Sleep deprivation Exercise SUMMARY OF VIDEO EEG FINDINGS: lnterictal Findings: The posterior dominant rhythm is a symmetric moderate voltage 10 Hz alpha activity that attenuates with eye opening. No epileptiform discharges observed. lctal Findings: No events captured SEIZURE DIAGNOSIS: 1.\\tsuspected complex partial seizures EPILEPSY DIAGNOSIS: 1.\\tsuspected focal onset seizures CONCLUSION: This was an inconclusive 8-day EMU monitoring session because no events were captured and EEG remained normal.  Even though longer EEG monitored was recommended to the patient and his mother, became emotional (tearful) and requested to be discharged. Patient\\'s outpatient\\'s AEDs were restarted and patient was discharged to home in stable condition. Medication changes: none (the patient was discharged on his home dose of Lamictal 200 mg BID and Zonisamide 300 mg qHS)'"
     },
     "metadata": {},
     "execution_count": 141
    }
   ],
   "source": [
    "research_similarity('Lennox-Gastaut').report[597]"
   ]
  },
  {
   "cell_type": "markdown",
   "metadata": {},
   "source": [
    "It's not working on 50 partial ratio."
   ]
  },
  {
   "cell_type": "markdown",
   "metadata": {},
   "source": [
    "## B - Focus on temporal epilepsy"
   ]
  },
  {
   "cell_type": "code",
   "execution_count": 154,
   "metadata": {},
   "outputs": [
    {
     "output_type": "execute_result",
     "data": {
      "text/plain": "                                                 report  partial_ratio\n377    EEG REMARKS: 7 L temporal Spikes but seems se...             76\n191    CLINICAL HISTORY: 40 year old right handed ma...             71\n194    CLINICAL HISTORY: 40 year old right handed ma...             71\n1133   CLINICAL HISTORY: \\tForty-seven-year-old male...             71\n523    HISTORY:  A 62-year-old woman with adult-onse...             71\n...                                                 ...            ...\n145    CLINICAL HISTORY:  A 25-year-old man, with hi...              0\n426    REASON FOR STUDY:  Seizures. CLINICAL HISTORY...              0\n118    CLINICAL HISTORY:  A 35-year-old woman with c...              0\n688    REASON FOR STUDY:  Change in mental status. C...              0\n833    CLINICAL HISTORY:  Known initially as an  unk...              0\n\n[1423 rows x 2 columns]",
      "text/html": "<div>\n<style scoped>\n    .dataframe tbody tr th:only-of-type {\n        vertical-align: middle;\n    }\n\n    .dataframe tbody tr th {\n        vertical-align: top;\n    }\n\n    .dataframe thead th {\n        text-align: right;\n    }\n</style>\n<table border=\"1\" class=\"dataframe\">\n  <thead>\n    <tr style=\"text-align: right;\">\n      <th></th>\n      <th>report</th>\n      <th>partial_ratio</th>\n    </tr>\n  </thead>\n  <tbody>\n    <tr>\n      <th>377</th>\n      <td>EEG REMARKS: 7 L temporal Spikes but seems se...</td>\n      <td>76</td>\n    </tr>\n    <tr>\n      <th>191</th>\n      <td>CLINICAL HISTORY: 40 year old right handed ma...</td>\n      <td>71</td>\n    </tr>\n    <tr>\n      <th>194</th>\n      <td>CLINICAL HISTORY: 40 year old right handed ma...</td>\n      <td>71</td>\n    </tr>\n    <tr>\n      <th>1133</th>\n      <td>CLINICAL HISTORY: \\tForty-seven-year-old male...</td>\n      <td>71</td>\n    </tr>\n    <tr>\n      <th>523</th>\n      <td>HISTORY:  A 62-year-old woman with adult-onse...</td>\n      <td>71</td>\n    </tr>\n    <tr>\n      <th>...</th>\n      <td>...</td>\n      <td>...</td>\n    </tr>\n    <tr>\n      <th>145</th>\n      <td>CLINICAL HISTORY:  A 25-year-old man, with hi...</td>\n      <td>0</td>\n    </tr>\n    <tr>\n      <th>426</th>\n      <td>REASON FOR STUDY:  Seizures. CLINICAL HISTORY...</td>\n      <td>0</td>\n    </tr>\n    <tr>\n      <th>118</th>\n      <td>CLINICAL HISTORY:  A 35-year-old woman with c...</td>\n      <td>0</td>\n    </tr>\n    <tr>\n      <th>688</th>\n      <td>REASON FOR STUDY:  Change in mental status. C...</td>\n      <td>0</td>\n    </tr>\n    <tr>\n      <th>833</th>\n      <td>CLINICAL HISTORY:  Known initially as an  unk...</td>\n      <td>0</td>\n    </tr>\n  </tbody>\n</table>\n<p>1423 rows × 2 columns</p>\n</div>"
     },
     "metadata": {},
     "execution_count": 154
    }
   ],
   "source": [
    "research_similarity('temporal epilepsy')"
   ]
  },
  {
   "cell_type": "code",
   "execution_count": 155,
   "metadata": {},
   "outputs": [
    {
     "output_type": "execute_result",
     "data": {
      "text/plain": "' CLINICAL HISTORY: 40 year old right handed male with encephalitis and recurrent seizures. MEDICATIONS: Lacosamide, dilantin, Ativan, Klonopin INTRODUCTION: Continuous digital video EEG monitoring was performed at bedside using standard 10-20 system of electrode placement with 1 channel of EKG. As this section of the records begins, the patient reports \"he is feeling great\" as if he is not having more seizures. Then subsequently he has 2 events that he describes as auras, which are seizures with impairment of awareness. He does have occasional myoclonic jerks. DESCRIPTION OF THE RECORD: This section of the 24-hour period includes more of the rhythmic repetitive slowing than noted at other times. Isolated high amplitude right hemispheric spike and wave activity is observed. Push button times include 5:20 which includes actually a seizure. Although the patient describes this as an aura, it is really a focal motor seizure with loss of axial tone and stiffening of the right leg. The patient seems to know that it is coming at 10:20:40 before he pushes the button and he seems to be a little bit confused. Unfortunately, he is moving about and there is muscle and movement artifact until he has loss of axial tone and stiffening on the right at 10:20:56. Characteristic tonic clonic activity obscures the EEG and although he is most jerking on the right, it seems to obscure the entire EEG. By 10:23:00 it seems to be over. The patient is back in bed and responsive to the nurses, helping them with the blood pressure cuff by 10:24. Seizure time 13:30. The patient is sitting in a chair. He puts his left hand to his nose at 13:29, but does not seem to be uncomfortable. For this seizure, the dad seems to know what is going on and pushes the button at 13:30, even before there is much that seems to be going on with the patient. The patient seems to be fine at 13:30:05, moving about. Additional sharp waves are noted at 13:34. This EEG monitor ends at 15:35 and at that time there is prominent sharp waves and rhythmic slowing. IMPRESSION: This EEG monitoring was remarkable for: 1. High amplitude sharp waves and spikes in the left hemisphere, particularly parietal occipital region. 2. Some things which the patient describes as \"auras\" which are in the borderline between simple and complex partial seizures, which are associated with more rhythmic mixed theta delta. 3. A third seizure type, which seemed to be a focal motor seizure. 4. That same rhythmic discharge which was not always associated with change in awareness. CLINICAL CORRELATION: These findings are similar to previous EEG monitoring and support a localization related mechanism for epilepsy.'"
     },
     "metadata": {},
     "execution_count": 155
    }
   ],
   "source": [
    "research_similarity('temporal epilepsy')['report'][191]"
   ]
  },
  {
   "cell_type": "markdown",
   "metadata": {},
   "source": [
    "## B - Other research"
   ]
  },
  {
   "cell_type": "code",
   "execution_count": 171,
   "metadata": {},
   "outputs": [
    {
     "output_type": "execute_result",
     "data": {
      "text/plain": "                                                 report  partial_ratio\n44     DURATION OF STUDY:  Study date 03/26/2013 thr...             90\n51     DURATION OF STUDY:  Study date 03/26/2013 thr...             90\n48     REASON FOR STUDY:  Seizures. CLINICAL HISTORY...             90\n47     REASON FOR STUDY:  Seizures. CLINICAL HISTORY...             90\n46     DURATION OF STUDY:  Study date 03/26/2013 thr...             90\n45     REASON FOR STUDY:  Seizures. CLINICAL HISTORY...             90\n52     REASON FOR STUDY:  Seizures. CLINICAL HISTORY...             54\n652    CLINICAL HISTORY: 60 year old right handed fe...             53\n1071   CLINICAL HISTORY: 60 year old right handed fe...             53\n1070   CLINICAL HISTORY: 60 year old right handed fe...             53\n650    CLINICAL HISTORY: 60 year old right handed fe...             53\n136    CLINICAL HISTORY: A 25-year-old man with prev...             51\n152    CLINICAL HISTORY: A 25-year-old man with prev...             51\n1267   CLINICAL HISTORY: 56 year old male with a sma...             49\n1268   CLINICAL HISTORY: 56 year old male with a sma...             49\n287    CLINICAL HISTORY: 64 year old right handed ge...             47\n1202   CLINICAL HISTORY: 67 year old ambidextrous fe...             47\n915    CLINICAL HISTORY:  51 year old male admitted ...             47\n288    REASON FOR STUDY:  Change of mental status. C...             46\n1334   CLINICAL HISTORY: 57 year old right handed ma...             46\n600    CLINICAL HISTORY:  69 year old right handed f...             46\n841    REASON FOR STUDY:  Altered mental status. INT...             46\n779    History:\\t54 year old male with history of su...             46\n731    REASON FOR STUDY:  Follow-up EEG for seizures...             46\n909    CLINICAL HISTORY:  The patient is a young wom...             46\n353    REASON FOR STUDY:  Seizures. CLINICAL HISTORY...             44\n1282   CLINICAL HISTORY:   21 year old with epilepsy...             44\n50     REASON FOR STUDY:  History of seizures. CLINI...             44\n983    MEDICINES: Rufinamide, Keppra, Lamictal, Prot...             44\n926    LENGTH OF THE RECORDING:  21 minutes, 35 seco...             44",
      "text/html": "<div>\n<style scoped>\n    .dataframe tbody tr th:only-of-type {\n        vertical-align: middle;\n    }\n\n    .dataframe tbody tr th {\n        vertical-align: top;\n    }\n\n    .dataframe thead th {\n        text-align: right;\n    }\n</style>\n<table border=\"1\" class=\"dataframe\">\n  <thead>\n    <tr style=\"text-align: right;\">\n      <th></th>\n      <th>report</th>\n      <th>partial_ratio</th>\n    </tr>\n  </thead>\n  <tbody>\n    <tr>\n      <th>44</th>\n      <td>DURATION OF STUDY:  Study date 03/26/2013 thr...</td>\n      <td>90</td>\n    </tr>\n    <tr>\n      <th>51</th>\n      <td>DURATION OF STUDY:  Study date 03/26/2013 thr...</td>\n      <td>90</td>\n    </tr>\n    <tr>\n      <th>48</th>\n      <td>REASON FOR STUDY:  Seizures. CLINICAL HISTORY...</td>\n      <td>90</td>\n    </tr>\n    <tr>\n      <th>47</th>\n      <td>REASON FOR STUDY:  Seizures. CLINICAL HISTORY...</td>\n      <td>90</td>\n    </tr>\n    <tr>\n      <th>46</th>\n      <td>DURATION OF STUDY:  Study date 03/26/2013 thr...</td>\n      <td>90</td>\n    </tr>\n    <tr>\n      <th>45</th>\n      <td>REASON FOR STUDY:  Seizures. CLINICAL HISTORY...</td>\n      <td>90</td>\n    </tr>\n    <tr>\n      <th>52</th>\n      <td>REASON FOR STUDY:  Seizures. CLINICAL HISTORY...</td>\n      <td>54</td>\n    </tr>\n    <tr>\n      <th>652</th>\n      <td>CLINICAL HISTORY: 60 year old right handed fe...</td>\n      <td>53</td>\n    </tr>\n    <tr>\n      <th>1071</th>\n      <td>CLINICAL HISTORY: 60 year old right handed fe...</td>\n      <td>53</td>\n    </tr>\n    <tr>\n      <th>1070</th>\n      <td>CLINICAL HISTORY: 60 year old right handed fe...</td>\n      <td>53</td>\n    </tr>\n    <tr>\n      <th>650</th>\n      <td>CLINICAL HISTORY: 60 year old right handed fe...</td>\n      <td>53</td>\n    </tr>\n    <tr>\n      <th>136</th>\n      <td>CLINICAL HISTORY: A 25-year-old man with prev...</td>\n      <td>51</td>\n    </tr>\n    <tr>\n      <th>152</th>\n      <td>CLINICAL HISTORY: A 25-year-old man with prev...</td>\n      <td>51</td>\n    </tr>\n    <tr>\n      <th>1267</th>\n      <td>CLINICAL HISTORY: 56 year old male with a sma...</td>\n      <td>49</td>\n    </tr>\n    <tr>\n      <th>1268</th>\n      <td>CLINICAL HISTORY: 56 year old male with a sma...</td>\n      <td>49</td>\n    </tr>\n    <tr>\n      <th>287</th>\n      <td>CLINICAL HISTORY: 64 year old right handed ge...</td>\n      <td>47</td>\n    </tr>\n    <tr>\n      <th>1202</th>\n      <td>CLINICAL HISTORY: 67 year old ambidextrous fe...</td>\n      <td>47</td>\n    </tr>\n    <tr>\n      <th>915</th>\n      <td>CLINICAL HISTORY:  51 year old male admitted ...</td>\n      <td>47</td>\n    </tr>\n    <tr>\n      <th>288</th>\n      <td>REASON FOR STUDY:  Change of mental status. C...</td>\n      <td>46</td>\n    </tr>\n    <tr>\n      <th>1334</th>\n      <td>CLINICAL HISTORY: 57 year old right handed ma...</td>\n      <td>46</td>\n    </tr>\n    <tr>\n      <th>600</th>\n      <td>CLINICAL HISTORY:  69 year old right handed f...</td>\n      <td>46</td>\n    </tr>\n    <tr>\n      <th>841</th>\n      <td>REASON FOR STUDY:  Altered mental status. INT...</td>\n      <td>46</td>\n    </tr>\n    <tr>\n      <th>779</th>\n      <td>History:\\t54 year old male with history of su...</td>\n      <td>46</td>\n    </tr>\n    <tr>\n      <th>731</th>\n      <td>REASON FOR STUDY:  Follow-up EEG for seizures...</td>\n      <td>46</td>\n    </tr>\n    <tr>\n      <th>909</th>\n      <td>CLINICAL HISTORY:  The patient is a young wom...</td>\n      <td>46</td>\n    </tr>\n    <tr>\n      <th>353</th>\n      <td>REASON FOR STUDY:  Seizures. CLINICAL HISTORY...</td>\n      <td>44</td>\n    </tr>\n    <tr>\n      <th>1282</th>\n      <td>CLINICAL HISTORY:   21 year old with epilepsy...</td>\n      <td>44</td>\n    </tr>\n    <tr>\n      <th>50</th>\n      <td>REASON FOR STUDY:  History of seizures. CLINI...</td>\n      <td>44</td>\n    </tr>\n    <tr>\n      <th>983</th>\n      <td>MEDICINES: Rufinamide, Keppra, Lamictal, Prot...</td>\n      <td>44</td>\n    </tr>\n    <tr>\n      <th>926</th>\n      <td>LENGTH OF THE RECORDING:  21 minutes, 35 seco...</td>\n      <td>44</td>\n    </tr>\n  </tbody>\n</table>\n</div>"
     },
     "metadata": {},
     "execution_count": 171
    }
   ],
   "source": [
    "research_similarity('Keppra Ativan famotidine Lovenox topiramate Flagyl Depakote').head(30)"
   ]
  },
  {
   "cell_type": "markdown",
   "metadata": {},
   "source": [
    "## Using rake"
   ]
  },
  {
   "cell_type": "code",
   "execution_count": 176,
   "metadata": {},
   "outputs": [
    {
     "output_type": "execute_result",
     "data": {
      "text/plain": "' CLINICAL HISTORY: 40 year old right handed male with encephalitis and recurrent seizures. MEDICATIONS: Lacosamide, dilantin, Ativan, Klonopin INTRODUCTION: Continuous digital video EEG monitoring was performed at bedside using standard 10-20 system of electrode placement with 1 channel of EKG. As this section of the records begins, the patient reports \"he is feeling great\" as if he is not having more seizures. Then subsequently he has 2 events that he describes as auras, which are seizures with impairment of awareness. He does have occasional myoclonic jerks. DESCRIPTION OF THE RECORD: This section of the 24-hour period includes more of the rhythmic repetitive slowing than noted at other times. Isolated high amplitude right hemispheric spike and wave activity is observed. Push button times include 5:20 which includes actually a seizure. Although the patient describes this as an aura, it is really a focal motor seizure with loss of axial tone and stiffening of the right leg. The patient seems to know that it is coming at 10:20:40 before he pushes the button and he seems to be a little bit confused. Unfortunately, he is moving about and there is muscle and movement artifact until he has loss of axial tone and stiffening on the right at 10:20:56. Characteristic tonic clonic activity obscures the EEG and although he is most jerking on the right, it seems to obscure the entire EEG. By 10:23:00 it seems to be over. The patient is back in bed and responsive to the nurses, helping them with the blood pressure cuff by 10:24. Seizure time 13:30. The patient is sitting in a chair. He puts his left hand to his nose at 13:29, but does not seem to be uncomfortable. For this seizure, the dad seems to know what is going on and pushes the button at 13:30, even before there is much that seems to be going on with the patient. The patient seems to be fine at 13:30:05, moving about. Additional sharp waves are noted at 13:34. This EEG monitor ends at 15:35 and at that time there is prominent sharp waves and rhythmic slowing. IMPRESSION: This EEG monitoring was remarkable for: 1. High amplitude sharp waves and spikes in the left hemisphere, particularly parietal occipital region. 2. Some things which the patient describes as \"auras\" which are in the borderline between simple and complex partial seizures, which are associated with more rhythmic mixed theta delta. 3. A third seizure type, which seemed to be a focal motor seizure. 4. That same rhythmic discharge which was not always associated with change in awareness. CLINICAL CORRELATION: These findings are similar to previous EEG monitoring and support a localization related mechanism for epilepsy.'"
     },
     "metadata": {},
     "execution_count": 176
    }
   ],
   "source": [
    "research_similarity('temporal epilepsy')['report'][191]"
   ]
  },
  {
   "cell_type": "code",
   "execution_count": null,
   "metadata": {},
   "outputs": [],
   "source": []
  },
  {
   "cell_type": "code",
   "execution_count": 173,
   "metadata": {},
   "outputs": [
    {
     "output_type": "execute_result",
     "data": {
      "text/plain": "['isolated high amplitude right hemispheric spike',\n '40 year old right handed male',\n 'characteristic tonic clonic activity obscures',\n 'push button times include 5',\n 'continuous digital video eeg monitoring',\n 'high amplitude sharp waves',\n 'particularly parietal occipital region',\n 'rhythmic mixed theta delta',\n 'bedside using standard 10',\n 'prominent sharp waves',\n 'additional sharp waves',\n 'previous eeg monitoring',\n 'occasional myoclonic jerks',\n 'localization related mechanism',\n 'little bit confused',\n 'blood pressure cuff',\n 'eeg monitor ends',\n 'third seizure type',\n 'hour period includes',\n 'focal motor seizure',\n 'rhythmic repetitive slowing',\n 'complex partial seizures',\n 'seizure time 13',\n 'eeg monitoring',\n 'right leg',\n 'wave activity',\n 'rhythmic slowing',\n 'rhythmic discharge',\n 'entire eeg',\n 'includes actually',\n 'recurrent seizures',\n 'records begins',\n 'movement artifact',\n 'left hemisphere',\n 'left hand',\n 'klonopin introduction',\n 'feeling great',\n 'electrode placement',\n 'clinical history',\n 'clinical correlation',\n 'axial tone',\n 'right',\n 'patient reports',\n 'dad seems',\n 'always associated',\n '40',\n '20 system',\n '2 events',\n '1 channel',\n 'patient seems',\n 'patient describes',\n 'times',\n 'button',\n 'eeg',\n 'seizure',\n '10',\n 'time',\n 'seizures',\n '13',\n 'patient',\n 'seems',\n 'describes',\n 'associated',\n '20',\n '2',\n '1',\n 'unfortunately',\n 'uncomfortable',\n 'things',\n 'support',\n 'subsequently',\n 'stiffening',\n 'spikes',\n 'sitting',\n 'simple',\n 'similar',\n 'seemed',\n 'seem',\n 'section',\n 'responsive',\n 'remarkable',\n 'record',\n 'really',\n 'puts',\n 'pushes',\n 'performed',\n 'observed',\n 'obscure',\n 'nurses',\n 'noted',\n 'nose',\n 'muscle',\n 'much',\n 'moving',\n 'medications',\n 'loss',\n 'lacosamide',\n 'know',\n 'jerking',\n 'impression',\n 'impairment',\n 'helping',\n 'going',\n 'fine',\n 'findings',\n 'even',\n 'epilepsy',\n 'encephalitis',\n 'ekg',\n 'dilantin',\n 'description',\n 'coming',\n 'change',\n 'chair',\n 'borderline',\n 'bed',\n 'back',\n 'awareness',\n 'auras',\n 'aura',\n 'ativan',\n 'although',\n '56',\n '4',\n '35',\n '34',\n '30',\n '3',\n '29',\n '24',\n '23',\n '15',\n '05',\n '00']"
     },
     "metadata": {},
     "execution_count": 173
    }
   ],
   "source": [
    "from rake_nltk import Rake\n",
    "\n",
    "r = Rake() # Uses stopwords for english from NLTK, and all puntuation characters.\n",
    "\n",
    "r.extract_keywords_from_text(research_similarity('temporal epilepsy')['report'][191])\n",
    "\n",
    "r.get_ranked_phrases() # To get keyword phrases ranked highest to lowest."
   ]
  },
  {
   "cell_type": "markdown",
   "metadata": {},
   "source": [
    "Keppra, Ativan, famotidine, Lovenox, topiramate, Flagyl, Depakote, and Vimpat.\n",
    "Carbatrol, Topamax\n",
    "Keppra, Ativan, famotidine, Lovenox, topiramate, Flagyl, Depakote, and Vimpat\n",
    "Keppra, Ativan, famotidine, Lovenox, topiramate, Flagyl, Depakote"
   ]
  },
  {
   "cell_type": "code",
   "execution_count": 180,
   "metadata": {},
   "outputs": [
    {
     "output_type": "execute_result",
     "data": {
      "text/plain": "' CLINICAL HISTORY: 40 year old right handed male with encephalitis and recurrent seizures. MEDICATIONS: Lacosamide, dilantin, Ativan, Klonopin INTRODUCTION: Continuous digital video EEG monitoring was performed at bedside using standard 10-20 system of electrode placement with 1 channel of EKG. As this section of the records begins, the patient reports \"he is feeling great\" as if he is not having more seizures. Then subsequently he has 2 events that he describes as auras, which are seizures with impairment of awareness. He does have occasional myoclonic jerks. DESCRIPTION OF THE RECORD: This section of the 24-hour period includes more of the rhythmic repetitive slowing than noted at other times. Isolated high amplitude right hemispheric spike and wave activity is observed. Push button times include 5:20 which includes actually a seizure. Although the patient describes this as an aura, it is really a focal motor seizure with loss of axial tone and stiffening of the right leg. The patient seems to know that it is coming at 10:20:40 before he pushes the button and he seems to be a little bit confused. Unfortunately, he is moving about and there is muscle and movement artifact until he has loss of axial tone and stiffening on the right at 10:20:56. Characteristic tonic clonic activity obscures the EEG and although he is most jerking on the right, it seems to obscure the entire EEG. By 10:23:00 it seems to be over. The patient is back in bed and responsive to the nurses, helping them with the blood pressure cuff by 10:24. Seizure time 13:30. The patient is sitting in a chair. He puts his left hand to his nose at 13:29, but does not seem to be uncomfortable. For this seizure, the dad seems to know what is going on and pushes the button at 13:30, even before there is much that seems to be going on with the patient. The patient seems to be fine at 13:30:05, moving about. Additional sharp waves are noted at 13:34. This EEG monitor ends at 15:35 and at that time there is prominent sharp waves and rhythmic slowing. IMPRESSION: This EEG monitoring was remarkable for: 1. High amplitude sharp waves and spikes in the left hemisphere, particularly parietal occipital region. 2. Some things which the patient describes as \"auras\" which are in the borderline between simple and complex partial seizures, which are associated with more rhythmic mixed theta delta. 3. A third seizure type, which seemed to be a focal motor seizure. 4. That same rhythmic discharge which was not always associated with change in awareness. CLINICAL CORRELATION: These findings are similar to previous EEG monitoring and support a localization related mechanism for epilepsy.'"
     },
     "metadata": {},
     "execution_count": 180
    }
   ],
   "source": [
    "research_similarity('temporal epilepsy')['report'][191]"
   ]
  },
  {
   "cell_type": "markdown",
   "metadata": {},
   "source": [
    "## New optic: doing by sentence"
   ]
  },
  {
   "cell_type": "code",
   "execution_count": 179,
   "metadata": {},
   "outputs": [
    {
     "output_type": "execute_result",
     "data": {
      "text/plain": "100"
     },
     "metadata": {},
     "execution_count": 179
    }
   ],
   "source": [
    "fuzz.partial_ratio('He does have occasional myoclonic jerks', 'myoclonic')"
   ]
  },
  {
   "cell_type": "code",
   "execution_count": 186,
   "metadata": {},
   "outputs": [
    {
     "output_type": "execute_result",
     "data": {
      "text/plain": "33"
     },
     "metadata": {},
     "execution_count": 186
    }
   ],
   "source": [
    "fuzz.partial_ratio('myoclonic', research_similarity('temporal epilepsy')['report'][191])"
   ]
  },
  {
   "cell_type": "code",
   "execution_count": 309,
   "metadata": {},
   "outputs": [],
   "source": [
    "def partial_ratio_by_sentence(texte, target):\n",
    "    max = 0\n",
    "    for i in texte.split('.'):\n",
    "        if fuzz.partial_ratio(i, target) > max:\n",
    "            if len(i) > 5:\n",
    "                max = fuzz.partial_ratio(i, target)\n",
    "    return max\n"
   ]
  },
  {
   "cell_type": "code",
   "execution_count": 312,
   "metadata": {
    "tags": []
   },
   "outputs": [
    {
     "output_type": "execute_result",
     "data": {
      "text/plain": "100"
     },
     "metadata": {},
     "execution_count": 312
    }
   ],
   "source": [
    "partial_ratio_by_sentence(classification_dataset.report.iloc[191] , 'myoclonic')"
   ]
  },
  {
   "cell_type": "code",
   "execution_count": 313,
   "metadata": {},
   "outputs": [
    {
     "output_type": "execute_result",
     "data": {
      "text/plain": "56"
     },
     "metadata": {},
     "execution_count": 313
    }
   ],
   "source": [
    "texte = classification_dataset_by_sentence['report'][1]\n",
    "partial_ratio_by_sentence(texte, 'myoclonic')\n"
   ]
  },
  {
   "cell_type": "code",
   "execution_count": 306,
   "metadata": {},
   "outputs": [],
   "source": [
    "# For a target, output the related reports sorted by partial_ratio\n",
    "\n",
    "def research_similarity_by_sentence(target):\n",
    "    df = pd.DataFrame(classification_dataset['report'])\n",
    "    df['partial_ratio'] = df['report'].apply(lambda x: partial_ratio_by_sentence(x, target))\n",
    "    df = df.sort_values(by='partial_ratio', ascending=False)\n",
    "    return df"
   ]
  },
  {
   "cell_type": "code",
   "execution_count": 307,
   "metadata": {
    "tags": []
   },
   "outputs": [
    {
     "output_type": "stream",
     "name": "stderr",
     "text": "0%|          | 0/1 [00:00<?, ?it/s]CPU times: user 0 ns, sys: 0 ns, total: 0 ns\nWall time: 10.3 µs\nEarly myoclonic encephalopathy (EME)\n100%|██████████| 1/1 [01:06<00:00, 67.00s/it]\n"
    },
    {
     "output_type": "execute_result",
     "data": {
      "text/plain": "                                 target  ratio\n0  Early myoclonic encephalopathy (EME)     70",
      "text/html": "<div>\n<style scoped>\n    .dataframe tbody tr th:only-of-type {\n        vertical-align: middle;\n    }\n\n    .dataframe tbody tr th {\n        vertical-align: top;\n    }\n\n    .dataframe thead th {\n        text-align: right;\n    }\n</style>\n<table border=\"1\" class=\"dataframe\">\n  <thead>\n    <tr style=\"text-align: right;\">\n      <th></th>\n      <th>target</th>\n      <th>ratio</th>\n    </tr>\n  </thead>\n  <tbody>\n    <tr>\n      <th>0</th>\n      <td>Early myoclonic encephalopathy (EME)</td>\n      <td>70</td>\n    </tr>\n  </tbody>\n</table>\n</div>"
     },
     "metadata": {},
     "execution_count": 307
    }
   ],
   "source": [
    "\n",
    "# We will calculate the partial_ratio for each thesaury therme and update it in a result dataset\n",
    "%time\n",
    "\n",
    "classification_dataset_by_sentence = classification_dataset[['filepath', 'report']]\n",
    "\n",
    "for i in tqdm(list(thesaurus['symptome-en'])[1:2]):\n",
    "    print(i)\n",
    "    classification_dataset_by_sentence[i] = classification_dataset_by_sentence['report'].apply(lambda x: partial_ratio_by_sentence(x, i)) \n",
    "\n",
    "df_results_by_sentence = pd.DataFrame(data=classification_dataset_by_sentence.columns[2:], columns=['target'])\n",
    "df_results_by_sentence['ratio'] = df_results_by_sentence['target'].apply(lambda x: classification_dataset_by_sentence[x].max())\n",
    "\n",
    "# What can we predict at best?\n",
    "df_results_by_sentence.sort_values(by='ratio', ascending=False)"
   ]
  },
  {
   "cell_type": "code",
   "execution_count": 311,
   "metadata": {},
   "outputs": [
    {
     "output_type": "display_data",
     "data": {
      "text/plain": "' CLINICAL HISTORY: 61 year old left handed gentleman with a right MCA infarct,seizures characterized by right-sided twitching, acute fever, encephalopathy, critical illness. MEDICATIONS: Dilantin, Lamotrigine, Digoxin, Zocor, Flomax, Citalopram, ASA, Risperidone, Miralax, Protonix, Baclofen, Seroquel, Aldactone, Midodrine, Vancomycin, Lasix, Dobutamine INTRODUCTION: Digital video EEG was performed at bedside using standard 10-20 system of electrode placement with 1 channel of EKG. The patient is febrile and poorly responsive. DESCRIPTION OF THE RECORD: The background EEG is markedly abnormal. The overall pattern is a mixture of theta and delta. The previously described asymmetry is not as prominent in terms of disruption of activity from the right hemisphere. There are frontally predominant triphasic waves which are asymmetric, left more so than right. There are also left temporal and frontal sharp waves noted intermittently. They have a periodic nature to them but do not evolve. On occasion they occur with bursts or trains. In addition, the patient also has behaviors where he lifts his right hand, shakes it rapidly for a second or two, and then puts it down. These do not carry an EEG signature. In addition, the hand movements are in two planes. The technologist tests the patient for responsiveness but had difficulty determining whether or not there is a change or evidence of interactivity. At least on one occasional there seems to be a bit more theta with auditory stimulation. HR: 114 bpm IMPRESSION: Abnormal EEG due to: 1. Generalized background slowing and disorganization. 2. Frontally predominant triphasic waves. 3. Left frontotemporal sharp waves and frontocentral sharp waves. CLINICAL CORRELATION: This EEG supports a bihemispheric disturbance. The triphasic wave may be part of a metabolic encephalopathy. The sharp waves on the left are of concern in this individual with a previous left MCA infarct. The episodes of hand tremor do not appear to carry an EEG signature. In this critically ill individual with epileptiform activity, the hand movements are unusual for ictal type behavior and were evidence of responsiveness to the technician.'"
     },
     "metadata": {}
    },
    {
     "output_type": "display_data",
     "data": {
      "text/plain": "' CLINICAL HISTORY: 61 year old left handed gentleman with a right MCA infarct,seizures characterized by right-sided twitching, acute fever, encephalopathy, critical illness. MEDICATIONS: Dilantin, Lamotrigine, Digoxin, Zocor, Flomax, Citalopram, ASA, Risperidone, Miralax, Protonix, Baclofen, Seroquel, Aldactone, Midodrine, Vancomycin, Lasix, Dobutamine INTRODUCTION: Digital video EEG was performed at bedside using standard 10-20 system of electrode placement with 1 channel of EKG. The patient is febrile and poorly responsive. DESCRIPTION OF THE RECORD: The background EEG is markedly abnormal. The overall pattern is a mixture of theta and delta. The previously described asymmetry is not as prominent in terms of disruption of activity from the right hemisphere. There are frontally predominant triphasic waves which are asymmetric, left more so than right. There are also left temporal and frontal sharp waves noted intermittently. They have a periodic nature to them but do not evolve. On occasion they occur with bursts or trains. In addition, the patient also has behaviors where he lifts his right hand, shakes it rapidly for a second or two, and then puts it down. These do not carry an EEG signature. In addition, the hand movements are in two planes. The technologist tests the patient for responsiveness but had difficulty determining whether or not there is a change or evidence of interactivity. At least on one occasional there seems to be a bit more theta with auditory stimulation. HR: 114 bpm IMPRESSION: Abnormal EEG due to: 1. Generalized background slowing and disorganization. 2. Frontally predominant triphasic waves. 3. Left frontotemporal sharp waves and frontocentral sharp waves. CLINICAL CORRELATION: This EEG supports a bihemispheric disturbance. The triphasic wave may be part of a metabolic encephalopathy. The sharp waves on the left are of concern in this individual with a previous left MCA infarct. The episodes of hand tremor do not appear to carry an EEG signature. In this critically ill individual with epileptiform activity, the hand movements are unusual for ictal type behavior and were evidence of responsiveness to the technician.'"
     },
     "metadata": {}
    },
    {
     "output_type": "display_data",
     "data": {
      "text/plain": "' CLINICAL HISTORY: 61 year old left handed gentleman with a right MCA infarct,seizures characterized by right-sided twitching, acute fever, encephalopathy, critical illness. MEDICATIONS: Dilantin, Lamotrigine, Digoxin, Zocor, Flomax, Citalopram, ASA, Risperidone, Miralax, Protonix, Baclofen, Seroquel, Aldactone, Midodrine, Vancomycin, Lasix, Dobutamine INTRODUCTION: Digital video EEG was performed at bedside using standard 10-20 system of electrode placement with 1 channel of EKG. The patient is febrile and poorly responsive. DESCRIPTION OF THE RECORD: The background EEG is markedly abnormal. The overall pattern is a mixture of theta and delta. The previously described asymmetry is not as prominent in terms of disruption of activity from the right hemisphere. There are frontally predominant triphasic waves which are asymmetric, left more so than right. There are also left temporal and frontal sharp waves noted intermittently. They have a periodic nature to them but do not evolve. On occasion they occur with bursts or trains. In addition, the patient also has behaviors where he lifts his right hand, shakes it rapidly for a second or two, and then puts it down. These do not carry an EEG signature. In addition, the hand movements are in two planes. The technologist tests the patient for responsiveness but had difficulty determining whether or not there is a change or evidence of interactivity. At least on one occasional there seems to be a bit more theta with auditory stimulation. HR: 114 bpm IMPRESSION: Abnormal EEG due to: 1. Generalized background slowing and disorganization. 2. Frontally predominant triphasic waves. 3. Left frontotemporal sharp waves and frontocentral sharp waves. CLINICAL CORRELATION: This EEG supports a bihemispheric disturbance. The triphasic wave may be part of a metabolic encephalopathy. The sharp waves on the left are of concern in this individual with a previous left MCA infarct. The episodes of hand tremor do not appear to carry an EEG signature. In this critically ill individual with epileptiform activity, the hand movements are unusual for ictal type behavior and were evidence of responsiveness to the technician.'"
     },
     "metadata": {}
    },
    {
     "output_type": "display_data",
     "data": {
      "text/plain": "' CLINICAL HISTORY: 61 year old left handed gentleman with a right MCA infarct,seizures characterized by right-sided twitching, acute fever, encephalopathy, critical illness. MEDICATIONS: Dilantin, Lamotrigine, Digoxin, Zocor, Flomax, Citalopram, ASA, Risperidone, Miralax, Protonix, Baclofen, Seroquel, Aldactone, Midodrine, Vancomycin, Lasix, Dobutamine INTRODUCTION: Digital video EEG was performed at bedside using standard 10-20 system of electrode placement with 1 channel of EKG. The patient is febrile and poorly responsive. DESCRIPTION OF THE RECORD: The background EEG is markedly abnormal. The overall pattern is a mixture of theta and delta. The previously described asymmetry is not as prominent in terms of disruption of activity from the right hemisphere. There are frontally predominant triphasic waves which are asymmetric, left more so than right. There are also left temporal and frontal sharp waves noted intermittently. They have a periodic nature to them but do not evolve. On occasion they occur with bursts or trains. In addition, the patient also has behaviors where he lifts his right hand, shakes it rapidly for a second or two, and then puts it down. These do not carry an EEG signature. In addition, the hand movements are in two planes. The technologist tests the patient for responsiveness but had difficulty determining whether or not there is a change or evidence of interactivity. At least on one occasional there seems to be a bit more theta with auditory stimulation. HR: 114 bpm IMPRESSION: Abnormal EEG due to: 1. Generalized background slowing and disorganization. 2. Frontally predominant triphasic waves. 3. Left frontotemporal sharp waves and frontocentral sharp waves. CLINICAL CORRELATION: This EEG supports a bihemispheric disturbance. The triphasic wave may be part of a metabolic encephalopathy. The sharp waves on the left are of concern in this individual with a previous left MCA infarct. The episodes of hand tremor do not appear to carry an EEG signature. In this critically ill individual with epileptiform activity, the hand movements are unusual for ictal type behavior and were evidence of responsiveness to the technician.'"
     },
     "metadata": {}
    },
    {
     "output_type": "display_data",
     "data": {
      "text/plain": "' CLINICAL HISTORY: 61 year old left handed gentleman with a right MCA infarct,seizures characterized by right-sided twitching, acute fever, encephalopathy, critical illness. MEDICATIONS: Dilantin, Lamotrigine, Digoxin, Zocor, Flomax, Citalopram, ASA, Risperidone, Miralax, Protonix, Baclofen, Seroquel, Aldactone, Midodrine, Vancomycin, Lasix, Dobutamine INTRODUCTION: Digital video EEG was performed at bedside using standard 10-20 system of electrode placement with 1 channel of EKG. The patient is febrile and poorly responsive. DESCRIPTION OF THE RECORD: The background EEG is markedly abnormal. The overall pattern is a mixture of theta and delta. The previously described asymmetry is not as prominent in terms of disruption of activity from the right hemisphere. There are frontally predominant triphasic waves which are asymmetric, left more so than right. There are also left temporal and frontal sharp waves noted intermittently. They have a periodic nature to them but do not evolve. On occasion they occur with bursts or trains. In addition, the patient also has behaviors where he lifts his right hand, shakes it rapidly for a second or two, and then puts it down. These do not carry an EEG signature. In addition, the hand movements are in two planes. The technologist tests the patient for responsiveness but had difficulty determining whether or not there is a change or evidence of interactivity. At least on one occasional there seems to be a bit more theta with auditory stimulation. HR: 114 bpm IMPRESSION: Abnormal EEG due to: 1. Generalized background slowing and disorganization. 2. Frontally predominant triphasic waves. 3. Left frontotemporal sharp waves and frontocentral sharp waves. CLINICAL CORRELATION: This EEG supports a bihemispheric disturbance. The triphasic wave may be part of a metabolic encephalopathy. The sharp waves on the left are of concern in this individual with a previous left MCA infarct. The episodes of hand tremor do not appear to carry an EEG signature. In this critically ill individual with epileptiform activity, the hand movements are unusual for ictal type behavior and were evidence of responsiveness to the technician.'"
     },
     "metadata": {}
    }
   ],
   "source": [
    "for i in range(5):\n",
    "    display(classification_dataset_by_sentence.sort_values(by='Early myoclonic encephalopathy (EME)', ascending=False)['report'].iloc[0])"
   ]
  },
  {
   "cell_type": "code",
   "execution_count": 295,
   "metadata": {},
   "outputs": [],
   "source": [
    "def partial_ratio_by_sentence_bis(texte, target):\n",
    "    max = 0\n",
    "    for i in texte.split('.'):\n",
    "        if fuzz.partial_ratio(i, target) > max:\n",
    "            if len(i) > 10:\n",
    "                print(i)\n",
    "                max = fuzz.partial_ratio(i, target)\n",
    "                print(max)\n",
    "    return max\n"
   ]
  },
  {
   "cell_type": "code",
   "execution_count": 293,
   "metadata": {},
   "outputs": [],
   "source": [
    "texte = classification_dataset_by_sentence['report'][1]"
   ]
  },
  {
   "cell_type": "code",
   "execution_count": 296,
   "metadata": {
    "tags": []
   },
   "outputs": [
    {
     "output_type": "stream",
     "name": "stdout",
     "text": "LENGTH OF THE RECORDING:  22 minutes and 53 seconds CLINICAL HISTORY:  The patient is a 27-year-old man with past medical history of cognitive delay, mitochondrial disorder, seizure disorder\n33\n MEDICATIONS:  Ativan, Dilantin, clonazepam, chlorpromazine, amlodipine\n39\n  The majority of the background, however, consists of low amplitude fast activity admixed with polymorphic frequently sharply contoured central theta and delta activity\n44\n"
    },
    {
     "output_type": "execute_result",
     "data": {
      "text/plain": "44"
     },
     "metadata": {},
     "execution_count": 296
    }
   ],
   "source": [
    "partial_ratio_by_sentence_bis(texte, 'Early myoclonic encephalopathy (EME)')"
   ]
  },
  {
   "cell_type": "code",
   "execution_count": null,
   "metadata": {},
   "outputs": [],
   "source": []
  }
 ],
 "metadata": {
  "language_info": {
   "codemirror_mode": {
    "name": "ipython",
    "version": 3
   },
   "file_extension": ".py",
   "mimetype": "text/x-python",
   "name": "python",
   "nbconvert_exporter": "python",
   "pygments_lexer": "ipython3",
   "version": 3
  },
  "orig_nbformat": 2,
  "kernelspec": {
   "name": "python_defaultSpec_1594054992997",
   "display_name": "Python 3.8.3 64-bit ('datascience': conda)"
  }
 },
 "nbformat": 4,
 "nbformat_minor": 2
}