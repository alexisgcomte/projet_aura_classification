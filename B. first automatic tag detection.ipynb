{
 "cells": [
  {
   "cell_type": "markdown",
   "metadata": {},
   "source": [
    "# B. first automatic tag detection "
   ]
  },
  {
   "cell_type": "markdown",
   "metadata": {},
   "source": [
    "## Intro - Importing libraries and datasets"
   ]
  },
  {
   "cell_type": "code",
   "execution_count": 45,
   "metadata": {},
   "outputs": [],
   "source": [
    "# import of libraries\n",
    "import pandas as pd\n",
    "from fuzzywuzzy import fuzz\n",
    "from tqdm import tqdm"
   ]
  },
  {
   "cell_type": "markdown",
   "metadata": {},
   "source": [
    "## A - Exemple for fuzz (Levenshtein distance)"
   ]
  },
  {
   "cell_type": "code",
   "execution_count": 6,
   "metadata": {
    "tags": []
   },
   "outputs": [
    {
     "output_type": "stream",
     "name": "stdout",
     "text": "ratio :  76\nratio :  100\n"
    }
   ],
   "source": [
    "# Example of fuzz # 1\n",
    "input1 = 'New York City'\n",
    "input2 = 'New York'\n",
    "\n",
    "print('ratio : ', fuzz.ratio(input1, input2))\n",
    "print('ratio : ', fuzz.partial_ratio(input1, input2))"
   ]
  },
  {
   "cell_type": "code",
   "execution_count": 24,
   "metadata": {
    "tags": []
   },
   "outputs": [
    {
     "output_type": "stream",
     "name": "stdout",
     "text": "ratio :  39\npartial ratio :  100\n"
    }
   ],
   "source": [
    "# Example of fuzz # 2\n",
    "input1 = 'New York City is a beautiful city'\n",
    "input2 = 'New York'\n",
    "\n",
    "print('ratio : ', fuzz.ratio(input1, input2))\n",
    "print('partial ratio : ', fuzz.partial_ratio(input1, input2))"
   ]
  },
  {
   "cell_type": "code",
   "execution_count": 25,
   "metadata": {},
   "outputs": [
    {
     "output_type": "execute_result",
     "data": {
      "text/plain": "0.24242424242424243"
     },
     "metadata": {},
     "execution_count": 25
    }
   ],
   "source": [
    "len(input2)/len(input1)"
   ]
  },
  {
   "cell_type": "code",
   "execution_count": 43,
   "metadata": {
    "tags": []
   },
   "outputs": [
    {
     "output_type": "stream",
     "name": "stdout",
     "text": "ratio :  38\npartial ratio :  78\n"
    }
   ],
   "source": [
    "# Example of fuzz # 3\n",
    "input1 = 'New York City is a beautiful city'\n",
    "input2 = 'New Yokss'\n",
    "\n",
    "print('ratio : ', fuzz.ratio(input1, input2))\n",
    "print('partial ratio : ', fuzz.partial_ratio(input1, input2))"
   ]
  },
  {
   "cell_type": "code",
   "execution_count": 19,
   "metadata": {},
   "outputs": [
    {
     "output_type": "execute_result",
     "data": {
      "text/plain": "0.7777777777777778"
     },
     "metadata": {},
     "execution_count": 19
    }
   ],
   "source": [
    "(len(input2)-2)/len(input2)"
   ]
  },
  {
   "cell_type": "code",
   "execution_count": 46,
   "metadata": {},
   "outputs": [
    {
     "output_type": "execute_result",
     "data": {
      "text/plain": "  classification_E          catégorie  \\\n0               E1  Période néonatale   \n1               E2  Période néonatale   \n2               E3  Période néonatale   \n3              E31         Nourrisons   \n4              E33         Nourrisons   \n\n                                         symptome-fr  \\\n0                Encéphalopathie myoclonique précoce   \n1       Epilepsie néonatale familiale bénigne (BFNE)   \n2                                Syndrome d'ohtahara   \n3  Encépahlopathie myoclonique des affections non...   \n4                     Epilepsie benigne du nourisson   \n\n                                         symptome-en CIM_10    CIM11  Orphanet  \n0           Benign familial neonatal epilepsy (BFNE)  G40.8  8A61.0Y    1935.0  \n1               Early myoclonic encephalopathy (EME)  G40.8  8A61.10    1949.0  \n2                                  Ohtahara syndrome  G40.8   8A62.Y    1934.0  \n3  Myoclonic encephalopathy in nonprogressive dis...  G40.4   8A62.Y   86913.0  \n4                          Benign infantile epilepsy  G40.3  8A61.1Z  166302.0  ",
      "text/html": "<div>\n<style scoped>\n    .dataframe tbody tr th:only-of-type {\n        vertical-align: middle;\n    }\n\n    .dataframe tbody tr th {\n        vertical-align: top;\n    }\n\n    .dataframe thead th {\n        text-align: right;\n    }\n</style>\n<table border=\"1\" class=\"dataframe\">\n  <thead>\n    <tr style=\"text-align: right;\">\n      <th></th>\n      <th>classification_E</th>\n      <th>catégorie</th>\n      <th>symptome-fr</th>\n      <th>symptome-en</th>\n      <th>CIM_10</th>\n      <th>CIM11</th>\n      <th>Orphanet</th>\n    </tr>\n  </thead>\n  <tbody>\n    <tr>\n      <th>0</th>\n      <td>E1</td>\n      <td>Période néonatale</td>\n      <td>Encéphalopathie myoclonique précoce</td>\n      <td>Benign familial neonatal epilepsy (BFNE)</td>\n      <td>G40.8</td>\n      <td>8A61.0Y</td>\n      <td>1935.0</td>\n    </tr>\n    <tr>\n      <th>1</th>\n      <td>E2</td>\n      <td>Période néonatale</td>\n      <td>Epilepsie néonatale familiale bénigne (BFNE)</td>\n      <td>Early myoclonic encephalopathy (EME)</td>\n      <td>G40.8</td>\n      <td>8A61.10</td>\n      <td>1949.0</td>\n    </tr>\n    <tr>\n      <th>2</th>\n      <td>E3</td>\n      <td>Période néonatale</td>\n      <td>Syndrome d'ohtahara</td>\n      <td>Ohtahara syndrome</td>\n      <td>G40.8</td>\n      <td>8A62.Y</td>\n      <td>1934.0</td>\n    </tr>\n    <tr>\n      <th>3</th>\n      <td>E31</td>\n      <td>Nourrisons</td>\n      <td>Encépahlopathie myoclonique des affections non...</td>\n      <td>Myoclonic encephalopathy in nonprogressive dis...</td>\n      <td>G40.4</td>\n      <td>8A62.Y</td>\n      <td>86913.0</td>\n    </tr>\n    <tr>\n      <th>4</th>\n      <td>E33</td>\n      <td>Nourrisons</td>\n      <td>Epilepsie benigne du nourisson</td>\n      <td>Benign infantile epilepsy</td>\n      <td>G40.3</td>\n      <td>8A61.1Z</td>\n      <td>166302.0</td>\n    </tr>\n  </tbody>\n</table>\n</div>"
     },
     "metadata": {},
     "execution_count": 46
    }
   ],
   "source": [
    "# import of thesaurus\n",
    "thesaurus = pd.read_csv('data/thesaurus_key_words.csv', encoding=\"ISO-8859-1\", sep=';')\n",
    "thesaurus.head()"
   ]
  },
  {
   "cell_type": "code",
   "execution_count": 31,
   "metadata": {},
   "outputs": [
    {
     "output_type": "execute_result",
     "data": {
      "text/plain": "41"
     },
     "metadata": {},
     "execution_count": 31
    }
   ],
   "source": []
  },
  {
   "cell_type": "code",
   "execution_count": 47,
   "metadata": {},
   "outputs": [
    {
     "output_type": "execute_result",
     "data": {
      "text/plain": "                                            filepath  \\\n0  CR_Patients_info_patients-v0_4/edf/dev/01_tcp_...   \n1  CR_Patients_info_patients-v0_4/edf/dev/01_tcp_...   \n2  CR_Patients_info_patients-v0_4/edf/dev/01_tcp_...   \n3  CR_Patients_info_patients-v0_4/edf/dev/01_tcp_...   \n4  CR_Patients_info_patients-v0_4/edf/dev/01_tcp_...   \n\n                                              report  \n0   Description: 2.5 to 5 hz spike/wave and polys...  \n1   LENGTH OF THE RECORDING:  22 minutes and 53 s...  \n2   MEDICATIONS:  Vimpat, Norvasc, Felbamate, Car...  \n3   CLINICAL HISTORY:  27 year old gentleman with...  \n4   MEDICATIONS:  Vimpat, Norvasc, Felbamate, Car...  ",
      "text/html": "<div>\n<style scoped>\n    .dataframe tbody tr th:only-of-type {\n        vertical-align: middle;\n    }\n\n    .dataframe tbody tr th {\n        vertical-align: top;\n    }\n\n    .dataframe thead th {\n        text-align: right;\n    }\n</style>\n<table border=\"1\" class=\"dataframe\">\n  <thead>\n    <tr style=\"text-align: right;\">\n      <th></th>\n      <th>filepath</th>\n      <th>report</th>\n    </tr>\n  </thead>\n  <tbody>\n    <tr>\n      <th>0</th>\n      <td>CR_Patients_info_patients-v0_4/edf/dev/01_tcp_...</td>\n      <td>Description: 2.5 to 5 hz spike/wave and polys...</td>\n    </tr>\n    <tr>\n      <th>1</th>\n      <td>CR_Patients_info_patients-v0_4/edf/dev/01_tcp_...</td>\n      <td>LENGTH OF THE RECORDING:  22 minutes and 53 s...</td>\n    </tr>\n    <tr>\n      <th>2</th>\n      <td>CR_Patients_info_patients-v0_4/edf/dev/01_tcp_...</td>\n      <td>MEDICATIONS:  Vimpat, Norvasc, Felbamate, Car...</td>\n    </tr>\n    <tr>\n      <th>3</th>\n      <td>CR_Patients_info_patients-v0_4/edf/dev/01_tcp_...</td>\n      <td>CLINICAL HISTORY:  27 year old gentleman with...</td>\n    </tr>\n    <tr>\n      <th>4</th>\n      <td>CR_Patients_info_patients-v0_4/edf/dev/01_tcp_...</td>\n      <td>MEDICATIONS:  Vimpat, Norvasc, Felbamate, Car...</td>\n    </tr>\n  </tbody>\n</table>\n</div>"
     },
     "metadata": {},
     "execution_count": 47
    }
   ],
   "source": [
    "# import of classification dataset\n",
    "classification_dataset = pd.read_csv('data/classification_dataset.csv')\n",
    "classification_dataset.head()"
   ]
  },
  {
   "cell_type": "code",
   "execution_count": 38,
   "metadata": {},
   "outputs": [],
   "source": [
    "classification_dataset['len'] = classification_dataset.report.apply(lambda x: len(x)) "
   ]
  },
  {
   "cell_type": "code",
   "execution_count": 39,
   "metadata": {},
   "outputs": [
    {
     "output_type": "execute_result",
     "data": {
      "text/plain": "                                               filepath  \\\n1173  CR_Patients_info_patients-v0_4/edf/train/02_tc...   \n1245  CR_Patients_info_patients-v0_4/edf/train/02_tc...   \n946   CR_Patients_info_patients-v0_4/edf/train/03_tc...   \n198   CR_Patients_info_patients-v0_4/edf/dev/02_tcp_...   \n199   CR_Patients_info_patients-v0_4/edf/dev/02_tcp_...   \n...                                                 ...   \n491   CR_Patients_info_patients-v0_4/edf/train/01_tc...   \n1363  CR_Patients_info_patients-v0_4/edf/train/02_tc...   \n1330  CR_Patients_info_patients-v0_4/edf/train/02_tc...   \n411   CR_Patients_info_patients-v0_4/edf/train/01_tc...   \n410   CR_Patients_info_patients-v0_4/edf/train/01_tc...   \n\n                                                 report    len  \n1173                                         Not loaded     10  \n1245             FC focal slowing  SPSP  not 20 minutes     39  \n946      GPFA but  canât find clinical seizures today     47  \n198    Xs theta and xs beta and some paroxysmal burs...     62  \n199    Definition: Pharmacologic coma but waking up ...     65  \n...                                                 ...    ...  \n491    History: 63 yo left handed man with h/o seizu...  12281  \n1363   CLINICAL HISTORY: This is a 16-month-old with...  22601  \n1330   CLINICAL HISTORY: This is a 25-year-old woman...  22963  \n411    History: The patient is a 54 year old RH man ...  23592  \n410    History: The patient is a 54 year old RH man ...  23592  \n\n[1423 rows x 3 columns]",
      "text/html": "<div>\n<style scoped>\n    .dataframe tbody tr th:only-of-type {\n        vertical-align: middle;\n    }\n\n    .dataframe tbody tr th {\n        vertical-align: top;\n    }\n\n    .dataframe thead th {\n        text-align: right;\n    }\n</style>\n<table border=\"1\" class=\"dataframe\">\n  <thead>\n    <tr style=\"text-align: right;\">\n      <th></th>\n      <th>filepath</th>\n      <th>report</th>\n      <th>len</th>\n    </tr>\n  </thead>\n  <tbody>\n    <tr>\n      <th>1173</th>\n      <td>CR_Patients_info_patients-v0_4/edf/train/02_tc...</td>\n      <td>Not loaded</td>\n      <td>10</td>\n    </tr>\n    <tr>\n      <th>1245</th>\n      <td>CR_Patients_info_patients-v0_4/edf/train/02_tc...</td>\n      <td>FC focal slowing  SPSP  not 20 minutes</td>\n      <td>39</td>\n    </tr>\n    <tr>\n      <th>946</th>\n      <td>CR_Patients_info_patients-v0_4/edf/train/03_tc...</td>\n      <td>GPFA but  canât find clinical seizures today</td>\n      <td>47</td>\n    </tr>\n    <tr>\n      <th>198</th>\n      <td>CR_Patients_info_patients-v0_4/edf/dev/02_tcp_...</td>\n      <td>Xs theta and xs beta and some paroxysmal burs...</td>\n      <td>62</td>\n    </tr>\n    <tr>\n      <th>199</th>\n      <td>CR_Patients_info_patients-v0_4/edf/dev/02_tcp_...</td>\n      <td>Definition: Pharmacologic coma but waking up ...</td>\n      <td>65</td>\n    </tr>\n    <tr>\n      <th>...</th>\n      <td>...</td>\n      <td>...</td>\n      <td>...</td>\n    </tr>\n    <tr>\n      <th>491</th>\n      <td>CR_Patients_info_patients-v0_4/edf/train/01_tc...</td>\n      <td>History: 63 yo left handed man with h/o seizu...</td>\n      <td>12281</td>\n    </tr>\n    <tr>\n      <th>1363</th>\n      <td>CR_Patients_info_patients-v0_4/edf/train/02_tc...</td>\n      <td>CLINICAL HISTORY: This is a 16-month-old with...</td>\n      <td>22601</td>\n    </tr>\n    <tr>\n      <th>1330</th>\n      <td>CR_Patients_info_patients-v0_4/edf/train/02_tc...</td>\n      <td>CLINICAL HISTORY: This is a 25-year-old woman...</td>\n      <td>22963</td>\n    </tr>\n    <tr>\n      <th>411</th>\n      <td>CR_Patients_info_patients-v0_4/edf/train/01_tc...</td>\n      <td>History: The patient is a 54 year old RH man ...</td>\n      <td>23592</td>\n    </tr>\n    <tr>\n      <th>410</th>\n      <td>CR_Patients_info_patients-v0_4/edf/train/01_tc...</td>\n      <td>History: The patient is a 54 year old RH man ...</td>\n      <td>23592</td>\n    </tr>\n  </tbody>\n</table>\n<p>1423 rows × 3 columns</p>\n</div>"
     },
     "metadata": {},
     "execution_count": 39
    }
   ],
   "source": [
    "classification_dataset.sort_values(by='len',)"
   ]
  },
  {
   "cell_type": "code",
   "execution_count": 42,
   "metadata": {},
   "outputs": [
    {
     "output_type": "execute_result",
     "data": {
      "text/plain": "' FC focal slowing  SPSP  not 20 minutes'"
     },
     "metadata": {},
     "execution_count": 42
    }
   ],
   "source": [
    "classification_dataset.report[1245]"
   ]
  },
  {
   "cell_type": "markdown",
   "metadata": {},
   "source": [
    "# I - Working with Levenshtein distance on full text"
   ]
  },
  {
   "cell_type": "markdown",
   "metadata": {},
   "source": [
    "## A - Using partial ratio on full text"
   ]
  },
  {
   "cell_type": "code",
   "execution_count": null,
   "metadata": {},
   "outputs": [],
   "source": []
  },
  {
   "cell_type": "code",
   "execution_count": 79,
   "metadata": {
    "tags": []
   },
   "outputs": [
    {
     "output_type": "stream",
     "name": "stderr",
     "text": "100%|██████████| 46/46 [00:47<00:00,  1.03s/it]CPU times: user 47 s, sys: 46.9 ms, total: 47.1 s\nWall time: 47.3 s\n\n"
    },
    {
     "output_type": "execute_result",
     "data": {
      "text/plain": "                                               target  ratio\n13                            Lennox-Gastaut syndrome    100\n16  Epilepsy with generalized tonicclonic seizure...     81\n7                                       West syndrome     77\n31                                  temporal epilepsy     76\n23                                   central epilepsy     75\n26                                   frontal epilepsy     75\n27                                   insular epilepsy     75\n6                                     Dravet syndrome     73\n2                           Benign infantile epilepsy     72\n30                                  parietal epilepsy     71\n22                                 Rasmussen syndrome     67\n15            Other familial temporal lobe epilepsies     67\n29                                 occipital epilepsy     67\n0                                   Ohtahara syndrome     65\n21                                  Reflex epilepsies     65\n32                         external temporal epilepsy     65\n37                                     Other location     64\n28                                multifocal epilepsy     63\n35                        temporal occipital epilepsy     63\n36         temporal epilepsy without precise location     62\n10                   Childhood absence epilepsy (CAE)     62\n19                  Juvenile myoclonic epilepsy (JME)     61\n38                                    Unkown location     60\n5                 Myoclonic epilepsy in infancy (MEI)     60\n25                           Temporoparietal junction     58\n20      Gelastic seizures with hypothalamic hamartoma     58\n3   Epilepsy of infancy with migrating focal seizures     57\n4                  Benign familial infantile epilepsy     56\n11                   Epilepsy with myoclonic absences     56\n17                    Juvenile absence epilepsy (JAE)     55\n18  Autosomal dominant epilepsy with auditory feat...     52\n8   Epilepsy with myoclonic atonic (previously ast...     52\n14                           Panayiotopoulos syndrome     50\n1   Myoclonic encephalopathy in nonprogressive dis...     50\n33  Mesial temporal lobe epilepsy with hippocampal...     50\n34  Mesial temporal lobe epilepsy without  hippoca...     50\n24                           supplementary motor area     50\n9   Late onset childhood occipital epilepsy (Gasta...     48\n12                     Landau-Kleffner syndrome (LKS)     47",
      "text/html": "<div>\n<style scoped>\n    .dataframe tbody tr th:only-of-type {\n        vertical-align: middle;\n    }\n\n    .dataframe tbody tr th {\n        vertical-align: top;\n    }\n\n    .dataframe thead th {\n        text-align: right;\n    }\n</style>\n<table border=\"1\" class=\"dataframe\">\n  <thead>\n    <tr style=\"text-align: right;\">\n      <th></th>\n      <th>target</th>\n      <th>ratio</th>\n    </tr>\n  </thead>\n  <tbody>\n    <tr>\n      <th>13</th>\n      <td>Lennox-Gastaut syndrome</td>\n      <td>100</td>\n    </tr>\n    <tr>\n      <th>16</th>\n      <td>Epilepsy with generalized tonicclonic seizure...</td>\n      <td>81</td>\n    </tr>\n    <tr>\n      <th>7</th>\n      <td>West syndrome</td>\n      <td>77</td>\n    </tr>\n    <tr>\n      <th>31</th>\n      <td>temporal epilepsy</td>\n      <td>76</td>\n    </tr>\n    <tr>\n      <th>23</th>\n      <td>central epilepsy</td>\n      <td>75</td>\n    </tr>\n    <tr>\n      <th>26</th>\n      <td>frontal epilepsy</td>\n      <td>75</td>\n    </tr>\n    <tr>\n      <th>27</th>\n      <td>insular epilepsy</td>\n      <td>75</td>\n    </tr>\n    <tr>\n      <th>6</th>\n      <td>Dravet syndrome</td>\n      <td>73</td>\n    </tr>\n    <tr>\n      <th>2</th>\n      <td>Benign infantile epilepsy</td>\n      <td>72</td>\n    </tr>\n    <tr>\n      <th>30</th>\n      <td>parietal epilepsy</td>\n      <td>71</td>\n    </tr>\n    <tr>\n      <th>22</th>\n      <td>Rasmussen syndrome</td>\n      <td>67</td>\n    </tr>\n    <tr>\n      <th>15</th>\n      <td>Other familial temporal lobe epilepsies</td>\n      <td>67</td>\n    </tr>\n    <tr>\n      <th>29</th>\n      <td>occipital epilepsy</td>\n      <td>67</td>\n    </tr>\n    <tr>\n      <th>0</th>\n      <td>Ohtahara syndrome</td>\n      <td>65</td>\n    </tr>\n    <tr>\n      <th>21</th>\n      <td>Reflex epilepsies</td>\n      <td>65</td>\n    </tr>\n    <tr>\n      <th>32</th>\n      <td>external temporal epilepsy</td>\n      <td>65</td>\n    </tr>\n    <tr>\n      <th>37</th>\n      <td>Other location</td>\n      <td>64</td>\n    </tr>\n    <tr>\n      <th>28</th>\n      <td>multifocal epilepsy</td>\n      <td>63</td>\n    </tr>\n    <tr>\n      <th>35</th>\n      <td>temporal occipital epilepsy</td>\n      <td>63</td>\n    </tr>\n    <tr>\n      <th>36</th>\n      <td>temporal epilepsy without precise location</td>\n      <td>62</td>\n    </tr>\n    <tr>\n      <th>10</th>\n      <td>Childhood absence epilepsy (CAE)</td>\n      <td>62</td>\n    </tr>\n    <tr>\n      <th>19</th>\n      <td>Juvenile myoclonic epilepsy (JME)</td>\n      <td>61</td>\n    </tr>\n    <tr>\n      <th>38</th>\n      <td>Unkown location</td>\n      <td>60</td>\n    </tr>\n    <tr>\n      <th>5</th>\n      <td>Myoclonic epilepsy in infancy (MEI)</td>\n      <td>60</td>\n    </tr>\n    <tr>\n      <th>25</th>\n      <td>Temporoparietal junction</td>\n      <td>58</td>\n    </tr>\n    <tr>\n      <th>20</th>\n      <td>Gelastic seizures with hypothalamic hamartoma</td>\n      <td>58</td>\n    </tr>\n    <tr>\n      <th>3</th>\n      <td>Epilepsy of infancy with migrating focal seizures</td>\n      <td>57</td>\n    </tr>\n    <tr>\n      <th>4</th>\n      <td>Benign familial infantile epilepsy</td>\n      <td>56</td>\n    </tr>\n    <tr>\n      <th>11</th>\n      <td>Epilepsy with myoclonic absences</td>\n      <td>56</td>\n    </tr>\n    <tr>\n      <th>17</th>\n      <td>Juvenile absence epilepsy (JAE)</td>\n      <td>55</td>\n    </tr>\n    <tr>\n      <th>18</th>\n      <td>Autosomal dominant epilepsy with auditory feat...</td>\n      <td>52</td>\n    </tr>\n    <tr>\n      <th>8</th>\n      <td>Epilepsy with myoclonic atonic (previously ast...</td>\n      <td>52</td>\n    </tr>\n    <tr>\n      <th>14</th>\n      <td>Panayiotopoulos syndrome</td>\n      <td>50</td>\n    </tr>\n    <tr>\n      <th>1</th>\n      <td>Myoclonic encephalopathy in nonprogressive dis...</td>\n      <td>50</td>\n    </tr>\n    <tr>\n      <th>33</th>\n      <td>Mesial temporal lobe epilepsy with hippocampal...</td>\n      <td>50</td>\n    </tr>\n    <tr>\n      <th>34</th>\n      <td>Mesial temporal lobe epilepsy without  hippoca...</td>\n      <td>50</td>\n    </tr>\n    <tr>\n      <th>24</th>\n      <td>supplementary motor area</td>\n      <td>50</td>\n    </tr>\n    <tr>\n      <th>9</th>\n      <td>Late onset childhood occipital epilepsy (Gasta...</td>\n      <td>48</td>\n    </tr>\n    <tr>\n      <th>12</th>\n      <td>Landau-Kleffner syndrome (LKS)</td>\n      <td>47</td>\n    </tr>\n  </tbody>\n</table>\n</div>"
     },
     "metadata": {},
     "execution_count": 79
    }
   ],
   "source": [
    "\n",
    "# We will calculate the partial_ratio for each thesaury therme and update it in a result dataset\n",
    "\n",
    "%%time\n",
    "\n",
    "for i in tqdm(list(thesaurus['symptome-en'])):\n",
    "    classification_dataset[i] = classification_dataset['report'].apply(lambda x: fuzz.partial_ratio(x, i)) \n",
    "\n",
    "df_results = pd.DataFrame(data=classification_dataset.columns[4:], columns=['target'])\n",
    "df_results['ratio'] = df_results['target'].apply(lambda x: max(classification_dataset[x]))\n",
    "\n",
    "# What can we predict at best?\n",
    "df_results.sort_values(by='ratio', ascending=False)"
   ]
  },
  {
   "cell_type": "markdown",
   "metadata": {},
   "source": [
    "It looks we have \"honest\" results, but in reality other than Lneeox-Gastaut syndrome it does not really works... Ex: for temporal epilsepy, ratio is high thanks to \"epilepsy\" alone. "
   ]
  },
  {
   "cell_type": "code",
   "execution_count": 48,
   "metadata": {},
   "outputs": [],
   "source": [
    "# For a target, output the related reports sorted by partial_ratio\n",
    "\n",
    "def research_similarity(target):\n",
    "    df = pd.DataFrame(classification_dataset['report'])\n",
    "    df['partial_ratio'] = df['report'].apply(lambda x: fuzz.partial_ratio(x, target))\n",
    "    df = df.sort_values(by='partial_ratio', ascending=False)\n",
    "    return df"
   ]
  },
  {
   "cell_type": "markdown",
   "metadata": {},
   "source": [
    "## B - Using token_sort_ratio on full text"
   ]
  },
  {
   "cell_type": "code",
   "execution_count": 318,
   "metadata": {
    "tags": []
   },
   "outputs": [
    {
     "output_type": "stream",
     "name": "stdout",
     "text": "CPU times: user 0 ns, sys: 0 ns, total: 0 ns\nWall time: 9.3 µs\n"
    },
    {
     "output_type": "execute_result",
     "data": {
      "text/plain": "                                               target  ratio\n37                                     Other location     50\n38                                    Unkown location     48\n8   Epilepsy with myoclonic atonic (previously ast...     46\n3   Epilepsy of infancy with migrating focal seizures     44\n18  Autosomal dominant epilepsy with auditory feat...     43\n33  Mesial temporal lobe epilepsy with hippocampal...     41\n34  Mesial temporal lobe epilepsy without  hippoca...     40\n16  Epilepsy with generalized tonicclonic seizure...     40\n20      Gelastic seizures with hypothalamic hamartoma     39\n11                   Epilepsy with myoclonic absences     37\n36         temporal epilepsy without precise location     36\n15            Other familial temporal lobe epilepsies     35\n7                                       West syndrome     35\n35                        temporal occipital epilepsy     35\n23                                   central epilepsy     34\n10                   Childhood absence epilepsy (CAE)     33\n13                            Lennox-Gastaut syndrome     33\n9   Late onset childhood occipital epilepsy (Gasta...     32\n1   Myoclonic encephalopathy in nonprogressive dis...     32\n31                                  temporal epilepsy     30\n30                                  parietal epilepsy     30\n25                           Temporoparietal junction     30\n24                           supplementary motor area     30\n0                                   Ohtahara syndrome     30\n17                    Juvenile absence epilepsy (JAE)     30\n4                  Benign familial infantile epilepsy     29\n32                         external temporal epilepsy     28\n5                 Myoclonic epilepsy in infancy (MEI)     28\n2                           Benign infantile epilepsy     28\n14                           Panayiotopoulos syndrome     27\n29                                 occipital epilepsy     26\n12                     Landau-Kleffner syndrome (LKS)     26\n28                                multifocal epilepsy     24\n6                                     Dravet syndrome     24\n21                                  Reflex epilepsies     23\n26                                   frontal epilepsy     23\n22                                 Rasmussen syndrome     22\n19                  Juvenile myoclonic epilepsy (JME)     21\n27                                   insular epilepsy     19",
      "text/html": "<div>\n<style scoped>\n    .dataframe tbody tr th:only-of-type {\n        vertical-align: middle;\n    }\n\n    .dataframe tbody tr th {\n        vertical-align: top;\n    }\n\n    .dataframe thead th {\n        text-align: right;\n    }\n</style>\n<table border=\"1\" class=\"dataframe\">\n  <thead>\n    <tr style=\"text-align: right;\">\n      <th></th>\n      <th>target</th>\n      <th>ratio</th>\n    </tr>\n  </thead>\n  <tbody>\n    <tr>\n      <th>37</th>\n      <td>Other location</td>\n      <td>50</td>\n    </tr>\n    <tr>\n      <th>38</th>\n      <td>Unkown location</td>\n      <td>48</td>\n    </tr>\n    <tr>\n      <th>8</th>\n      <td>Epilepsy with myoclonic atonic (previously ast...</td>\n      <td>46</td>\n    </tr>\n    <tr>\n      <th>3</th>\n      <td>Epilepsy of infancy with migrating focal seizures</td>\n      <td>44</td>\n    </tr>\n    <tr>\n      <th>18</th>\n      <td>Autosomal dominant epilepsy with auditory feat...</td>\n      <td>43</td>\n    </tr>\n    <tr>\n      <th>33</th>\n      <td>Mesial temporal lobe epilepsy with hippocampal...</td>\n      <td>41</td>\n    </tr>\n    <tr>\n      <th>34</th>\n      <td>Mesial temporal lobe epilepsy without  hippoca...</td>\n      <td>40</td>\n    </tr>\n    <tr>\n      <th>16</th>\n      <td>Epilepsy with generalized tonicclonic seizure...</td>\n      <td>40</td>\n    </tr>\n    <tr>\n      <th>20</th>\n      <td>Gelastic seizures with hypothalamic hamartoma</td>\n      <td>39</td>\n    </tr>\n    <tr>\n      <th>11</th>\n      <td>Epilepsy with myoclonic absences</td>\n      <td>37</td>\n    </tr>\n    <tr>\n      <th>36</th>\n      <td>temporal epilepsy without precise location</td>\n      <td>36</td>\n    </tr>\n    <tr>\n      <th>15</th>\n      <td>Other familial temporal lobe epilepsies</td>\n      <td>35</td>\n    </tr>\n    <tr>\n      <th>7</th>\n      <td>West syndrome</td>\n      <td>35</td>\n    </tr>\n    <tr>\n      <th>35</th>\n      <td>temporal occipital epilepsy</td>\n      <td>35</td>\n    </tr>\n    <tr>\n      <th>23</th>\n      <td>central epilepsy</td>\n      <td>34</td>\n    </tr>\n    <tr>\n      <th>10</th>\n      <td>Childhood absence epilepsy (CAE)</td>\n      <td>33</td>\n    </tr>\n    <tr>\n      <th>13</th>\n      <td>Lennox-Gastaut syndrome</td>\n      <td>33</td>\n    </tr>\n    <tr>\n      <th>9</th>\n      <td>Late onset childhood occipital epilepsy (Gasta...</td>\n      <td>32</td>\n    </tr>\n    <tr>\n      <th>1</th>\n      <td>Myoclonic encephalopathy in nonprogressive dis...</td>\n      <td>32</td>\n    </tr>\n    <tr>\n      <th>31</th>\n      <td>temporal epilepsy</td>\n      <td>30</td>\n    </tr>\n    <tr>\n      <th>30</th>\n      <td>parietal epilepsy</td>\n      <td>30</td>\n    </tr>\n    <tr>\n      <th>25</th>\n      <td>Temporoparietal junction</td>\n      <td>30</td>\n    </tr>\n    <tr>\n      <th>24</th>\n      <td>supplementary motor area</td>\n      <td>30</td>\n    </tr>\n    <tr>\n      <th>0</th>\n      <td>Ohtahara syndrome</td>\n      <td>30</td>\n    </tr>\n    <tr>\n      <th>17</th>\n      <td>Juvenile absence epilepsy (JAE)</td>\n      <td>30</td>\n    </tr>\n    <tr>\n      <th>4</th>\n      <td>Benign familial infantile epilepsy</td>\n      <td>29</td>\n    </tr>\n    <tr>\n      <th>32</th>\n      <td>external temporal epilepsy</td>\n      <td>28</td>\n    </tr>\n    <tr>\n      <th>5</th>\n      <td>Myoclonic epilepsy in infancy (MEI)</td>\n      <td>28</td>\n    </tr>\n    <tr>\n      <th>2</th>\n      <td>Benign infantile epilepsy</td>\n      <td>28</td>\n    </tr>\n    <tr>\n      <th>14</th>\n      <td>Panayiotopoulos syndrome</td>\n      <td>27</td>\n    </tr>\n    <tr>\n      <th>29</th>\n      <td>occipital epilepsy</td>\n      <td>26</td>\n    </tr>\n    <tr>\n      <th>12</th>\n      <td>Landau-Kleffner syndrome (LKS)</td>\n      <td>26</td>\n    </tr>\n    <tr>\n      <th>28</th>\n      <td>multifocal epilepsy</td>\n      <td>24</td>\n    </tr>\n    <tr>\n      <th>6</th>\n      <td>Dravet syndrome</td>\n      <td>24</td>\n    </tr>\n    <tr>\n      <th>21</th>\n      <td>Reflex epilepsies</td>\n      <td>23</td>\n    </tr>\n    <tr>\n      <th>26</th>\n      <td>frontal epilepsy</td>\n      <td>23</td>\n    </tr>\n    <tr>\n      <th>22</th>\n      <td>Rasmussen syndrome</td>\n      <td>22</td>\n    </tr>\n    <tr>\n      <th>19</th>\n      <td>Juvenile myoclonic epilepsy (JME)</td>\n      <td>21</td>\n    </tr>\n    <tr>\n      <th>27</th>\n      <td>insular epilepsy</td>\n      <td>19</td>\n    </tr>\n  </tbody>\n</table>\n</div>"
     },
     "metadata": {},
     "execution_count": 318
    }
   ],
   "source": [
    "\n",
    "# We will calculate the token_sort_ratio for each thesaury therme and update it in a result dataset\n",
    "\n",
    "%time\n",
    "\n",
    "for i in tqdm(list(thesaurus['symptome-en'])):\n",
    "    classification_dataset[i] = classification_dataset['report'].apply(lambda x: fuzz.token_sort_ratio(x, i)) \n",
    "\n",
    "df_results = pd.DataFrame(data=classification_dataset.columns[4:], columns=['target'])\n",
    "df_results['ratio'] = df_results['target'].apply(lambda x: (classification_dataset[x]).max())\n",
    "\n",
    "# What can we predict at best?\n",
    "df_results.sort_values(by='ratio', ascending=False)"
   ]
  },
  {
   "cell_type": "markdown",
   "metadata": {},
   "source": [
    "This method does not really works out."
   ]
  },
  {
   "cell_type": "markdown",
   "metadata": {},
   "source": [
    "## C - Example Cases"
   ]
  },
  {
   "cell_type": "markdown",
   "metadata": {},
   "source": [
    "### 1 - Focus on Lennox-Gastaut"
   ]
  },
  {
   "cell_type": "code",
   "execution_count": 137,
   "metadata": {},
   "outputs": [
    {
     "output_type": "execute_result",
     "data": {
      "text/plain": "838     100\n117     100\n45      100\n46      100\n47      100\n48      100\n49      100\n51      100\n1258    100\n843     100\n220     100\n1315    100\n372     100\n44      100\n1107    100\n276     100\n1302    100\n227     100\n1211    100\n547     100\n1167    100\n684     100\n1269    100\n597      50\n596      50\n595      50\n594      50\n593      50\n598      50\n809      43\nName: partial_ratio, dtype: int64"
     },
     "metadata": {},
     "execution_count": 137
    }
   ],
   "source": [
    "# Looking for the index where the index is high\n",
    "research_similarity('Lennox-Gastaut')['partial_ratio'].head(30)"
   ]
  },
  {
   "cell_type": "code",
   "execution_count": 140,
   "metadata": {},
   "outputs": [
    {
     "output_type": "execute_result",
     "data": {
      "text/plain": "' CLINICAL HISTORY: This is a 27-year-old male with a history of severe MR, multiple medical problems with multiple brief seizures per month.  Seizures characterized by generalized shaking lasting 20 seconds. MEDICATIONS: Lamictal, Tegretol, Tranxene, and many others. INTRODUCTION: Digital video EEG is performed in the lab using standard 10-20 system of electrode placement with one channel of EKG. The patient is drowsy or somnolent. Photic stimulation is performed. DESCRIPTION OF THE RECORD: The background EEG is markedly abnormal and is primarily a mixture of rhythmic 3 Hz activity with smaller amounts of 2 Hz activity and some 4 to 5 Hz theta.  There are multifocal spike and slow wave complexes identified in the record including bifrontal, high amplitude spike and slow wave complexes with an approximately 2 Hz after going slow wave.  Focal epileptiform activity is also seen in the occipital regions, sometimes maximum at O2 and at other times with a poly spike wave component at O1-O2.  The epileptiform activity may be seen independently in the right or left hemisphere including T5, FP1, F7, and C3. The patient is noted to snore occasionally, but there isnâ\\x80\\x99t a significant difference in terms of awake or asleep pattern, although there may be more frontally predominant delta in drowsiness.  There are occasional high amplitude, bifrontal poly spike and slow wave complexes. Photic stimulation does not activate the record. There are some shifting asymmetries in terms of the amount of theta or delta seen in the background. HR:  78 BPM. IMPRESSION: Abnormal EEG due to: Generalized slowing. Slow spike and wave activity. Multifocal spikes. CLINICAL CORRELATION: For this individual who had a childhood history of infantile spasms, the pattern described is compatible with a Lennox-Gastaut-type syndrome and/or a diffuse disorder of cerebral function.'"
     },
     "metadata": {},
     "execution_count": 140
    }
   ],
   "source": [
    "# Looking for the text correlated with the report at index 227 \n",
    "research_similarity('Lennox-Gastaut').report[227]"
   ]
  },
  {
   "cell_type": "markdown",
   "metadata": {},
   "source": [
    "it works with 100 partial ratio"
   ]
  },
  {
   "cell_type": "code",
   "execution_count": null,
   "metadata": {},
   "outputs": [],
   "source": [
    "# Looking for the text correlated with the report at index 227 \n",
    "research_similarity('Lennox-Gastaut').report[597]"
   ]
  },
  {
   "cell_type": "markdown",
   "metadata": {},
   "source": [
    "It's not working on 50 partial ratio."
   ]
  },
  {
   "cell_type": "markdown",
   "metadata": {},
   "source": [
    "### 2 - Focus on temporal epilepsy"
   ]
  },
  {
   "cell_type": "code",
   "execution_count": 154,
   "metadata": {},
   "outputs": [
    {
     "output_type": "execute_result",
     "data": {
      "text/plain": "                                                 report  partial_ratio\n377    EEG REMARKS: 7 L temporal Spikes but seems se...             76\n191    CLINICAL HISTORY: 40 year old right handed ma...             71\n194    CLINICAL HISTORY: 40 year old right handed ma...             71\n1133   CLINICAL HISTORY: \\tForty-seven-year-old male...             71\n523    HISTORY:  A 62-year-old woman with adult-onse...             71\n...                                                 ...            ...\n145    CLINICAL HISTORY:  A 25-year-old man, with hi...              0\n426    REASON FOR STUDY:  Seizures. CLINICAL HISTORY...              0\n118    CLINICAL HISTORY:  A 35-year-old woman with c...              0\n688    REASON FOR STUDY:  Change in mental status. C...              0\n833    CLINICAL HISTORY:  Known initially as an  unk...              0\n\n[1423 rows x 2 columns]",
      "text/html": "<div>\n<style scoped>\n    .dataframe tbody tr th:only-of-type {\n        vertical-align: middle;\n    }\n\n    .dataframe tbody tr th {\n        vertical-align: top;\n    }\n\n    .dataframe thead th {\n        text-align: right;\n    }\n</style>\n<table border=\"1\" class=\"dataframe\">\n  <thead>\n    <tr style=\"text-align: right;\">\n      <th></th>\n      <th>report</th>\n      <th>partial_ratio</th>\n    </tr>\n  </thead>\n  <tbody>\n    <tr>\n      <th>377</th>\n      <td>EEG REMARKS: 7 L temporal Spikes but seems se...</td>\n      <td>76</td>\n    </tr>\n    <tr>\n      <th>191</th>\n      <td>CLINICAL HISTORY: 40 year old right handed ma...</td>\n      <td>71</td>\n    </tr>\n    <tr>\n      <th>194</th>\n      <td>CLINICAL HISTORY: 40 year old right handed ma...</td>\n      <td>71</td>\n    </tr>\n    <tr>\n      <th>1133</th>\n      <td>CLINICAL HISTORY: \\tForty-seven-year-old male...</td>\n      <td>71</td>\n    </tr>\n    <tr>\n      <th>523</th>\n      <td>HISTORY:  A 62-year-old woman with adult-onse...</td>\n      <td>71</td>\n    </tr>\n    <tr>\n      <th>...</th>\n      <td>...</td>\n      <td>...</td>\n    </tr>\n    <tr>\n      <th>145</th>\n      <td>CLINICAL HISTORY:  A 25-year-old man, with hi...</td>\n      <td>0</td>\n    </tr>\n    <tr>\n      <th>426</th>\n      <td>REASON FOR STUDY:  Seizures. CLINICAL HISTORY...</td>\n      <td>0</td>\n    </tr>\n    <tr>\n      <th>118</th>\n      <td>CLINICAL HISTORY:  A 35-year-old woman with c...</td>\n      <td>0</td>\n    </tr>\n    <tr>\n      <th>688</th>\n      <td>REASON FOR STUDY:  Change in mental status. C...</td>\n      <td>0</td>\n    </tr>\n    <tr>\n      <th>833</th>\n      <td>CLINICAL HISTORY:  Known initially as an  unk...</td>\n      <td>0</td>\n    </tr>\n  </tbody>\n</table>\n<p>1423 rows × 2 columns</p>\n</div>"
     },
     "metadata": {},
     "execution_count": 154
    }
   ],
   "source": [
    "research_similarity('temporal epilepsy')"
   ]
  },
  {
   "cell_type": "code",
   "execution_count": 155,
   "metadata": {},
   "outputs": [
    {
     "output_type": "execute_result",
     "data": {
      "text/plain": "' CLINICAL HISTORY: 40 year old right handed male with encephalitis and recurrent seizures. MEDICATIONS: Lacosamide, dilantin, Ativan, Klonopin INTRODUCTION: Continuous digital video EEG monitoring was performed at bedside using standard 10-20 system of electrode placement with 1 channel of EKG. As this section of the records begins, the patient reports \"he is feeling great\" as if he is not having more seizures. Then subsequently he has 2 events that he describes as auras, which are seizures with impairment of awareness. He does have occasional myoclonic jerks. DESCRIPTION OF THE RECORD: This section of the 24-hour period includes more of the rhythmic repetitive slowing than noted at other times. Isolated high amplitude right hemispheric spike and wave activity is observed. Push button times include 5:20 which includes actually a seizure. Although the patient describes this as an aura, it is really a focal motor seizure with loss of axial tone and stiffening of the right leg. The patient seems to know that it is coming at 10:20:40 before he pushes the button and he seems to be a little bit confused. Unfortunately, he is moving about and there is muscle and movement artifact until he has loss of axial tone and stiffening on the right at 10:20:56. Characteristic tonic clonic activity obscures the EEG and although he is most jerking on the right, it seems to obscure the entire EEG. By 10:23:00 it seems to be over. The patient is back in bed and responsive to the nurses, helping them with the blood pressure cuff by 10:24. Seizure time 13:30. The patient is sitting in a chair. He puts his left hand to his nose at 13:29, but does not seem to be uncomfortable. For this seizure, the dad seems to know what is going on and pushes the button at 13:30, even before there is much that seems to be going on with the patient. The patient seems to be fine at 13:30:05, moving about. Additional sharp waves are noted at 13:34. This EEG monitor ends at 15:35 and at that time there is prominent sharp waves and rhythmic slowing. IMPRESSION: This EEG monitoring was remarkable for: 1. High amplitude sharp waves and spikes in the left hemisphere, particularly parietal occipital region. 2. Some things which the patient describes as \"auras\" which are in the borderline between simple and complex partial seizures, which are associated with more rhythmic mixed theta delta. 3. A third seizure type, which seemed to be a focal motor seizure. 4. That same rhythmic discharge which was not always associated with change in awareness. CLINICAL CORRELATION: These findings are similar to previous EEG monitoring and support a localization related mechanism for epilepsy.'"
     },
     "metadata": {},
     "execution_count": 155
    }
   ],
   "source": [
    "research_similarity('temporal epilepsy')['report'][191]"
   ]
  },
  {
   "cell_type": "markdown",
   "metadata": {},
   "source": [
    "No trace of temporal epilepsy: it just does not work out!"
   ]
  },
  {
   "cell_type": "markdown",
   "metadata": {},
   "source": [
    "### 3 - Other research"
   ]
  },
  {
   "cell_type": "markdown",
   "metadata": {},
   "source": [
    "Let's try to research medication associate with one Lennox-Gastaut syndrome: maybe we can find other occurences? "
   ]
  },
  {
   "cell_type": "code",
   "execution_count": 171,
   "metadata": {},
   "outputs": [
    {
     "output_type": "execute_result",
     "data": {
      "text/plain": "                                                 report  partial_ratio\n44     DURATION OF STUDY:  Study date 03/26/2013 thr...             90\n51     DURATION OF STUDY:  Study date 03/26/2013 thr...             90\n48     REASON FOR STUDY:  Seizures. CLINICAL HISTORY...             90\n47     REASON FOR STUDY:  Seizures. CLINICAL HISTORY...             90\n46     DURATION OF STUDY:  Study date 03/26/2013 thr...             90\n45     REASON FOR STUDY:  Seizures. CLINICAL HISTORY...             90\n52     REASON FOR STUDY:  Seizures. CLINICAL HISTORY...             54\n652    CLINICAL HISTORY: 60 year old right handed fe...             53\n1071   CLINICAL HISTORY: 60 year old right handed fe...             53\n1070   CLINICAL HISTORY: 60 year old right handed fe...             53\n650    CLINICAL HISTORY: 60 year old right handed fe...             53\n136    CLINICAL HISTORY: A 25-year-old man with prev...             51\n152    CLINICAL HISTORY: A 25-year-old man with prev...             51\n1267   CLINICAL HISTORY: 56 year old male with a sma...             49\n1268   CLINICAL HISTORY: 56 year old male with a sma...             49\n287    CLINICAL HISTORY: 64 year old right handed ge...             47\n1202   CLINICAL HISTORY: 67 year old ambidextrous fe...             47\n915    CLINICAL HISTORY:  51 year old male admitted ...             47\n288    REASON FOR STUDY:  Change of mental status. C...             46\n1334   CLINICAL HISTORY: 57 year old right handed ma...             46\n600    CLINICAL HISTORY:  69 year old right handed f...             46\n841    REASON FOR STUDY:  Altered mental status. INT...             46\n779    History:\\t54 year old male with history of su...             46\n731    REASON FOR STUDY:  Follow-up EEG for seizures...             46\n909    CLINICAL HISTORY:  The patient is a young wom...             46\n353    REASON FOR STUDY:  Seizures. CLINICAL HISTORY...             44\n1282   CLINICAL HISTORY:   21 year old with epilepsy...             44\n50     REASON FOR STUDY:  History of seizures. CLINI...             44\n983    MEDICINES: Rufinamide, Keppra, Lamictal, Prot...             44\n926    LENGTH OF THE RECORDING:  21 minutes, 35 seco...             44",
      "text/html": "<div>\n<style scoped>\n    .dataframe tbody tr th:only-of-type {\n        vertical-align: middle;\n    }\n\n    .dataframe tbody tr th {\n        vertical-align: top;\n    }\n\n    .dataframe thead th {\n        text-align: right;\n    }\n</style>\n<table border=\"1\" class=\"dataframe\">\n  <thead>\n    <tr style=\"text-align: right;\">\n      <th></th>\n      <th>report</th>\n      <th>partial_ratio</th>\n    </tr>\n  </thead>\n  <tbody>\n    <tr>\n      <th>44</th>\n      <td>DURATION OF STUDY:  Study date 03/26/2013 thr...</td>\n      <td>90</td>\n    </tr>\n    <tr>\n      <th>51</th>\n      <td>DURATION OF STUDY:  Study date 03/26/2013 thr...</td>\n      <td>90</td>\n    </tr>\n    <tr>\n      <th>48</th>\n      <td>REASON FOR STUDY:  Seizures. CLINICAL HISTORY...</td>\n      <td>90</td>\n    </tr>\n    <tr>\n      <th>47</th>\n      <td>REASON FOR STUDY:  Seizures. CLINICAL HISTORY...</td>\n      <td>90</td>\n    </tr>\n    <tr>\n      <th>46</th>\n      <td>DURATION OF STUDY:  Study date 03/26/2013 thr...</td>\n      <td>90</td>\n    </tr>\n    <tr>\n      <th>45</th>\n      <td>REASON FOR STUDY:  Seizures. CLINICAL HISTORY...</td>\n      <td>90</td>\n    </tr>\n    <tr>\n      <th>52</th>\n      <td>REASON FOR STUDY:  Seizures. CLINICAL HISTORY...</td>\n      <td>54</td>\n    </tr>\n    <tr>\n      <th>652</th>\n      <td>CLINICAL HISTORY: 60 year old right handed fe...</td>\n      <td>53</td>\n    </tr>\n    <tr>\n      <th>1071</th>\n      <td>CLINICAL HISTORY: 60 year old right handed fe...</td>\n      <td>53</td>\n    </tr>\n    <tr>\n      <th>1070</th>\n      <td>CLINICAL HISTORY: 60 year old right handed fe...</td>\n      <td>53</td>\n    </tr>\n    <tr>\n      <th>650</th>\n      <td>CLINICAL HISTORY: 60 year old right handed fe...</td>\n      <td>53</td>\n    </tr>\n    <tr>\n      <th>136</th>\n      <td>CLINICAL HISTORY: A 25-year-old man with prev...</td>\n      <td>51</td>\n    </tr>\n    <tr>\n      <th>152</th>\n      <td>CLINICAL HISTORY: A 25-year-old man with prev...</td>\n      <td>51</td>\n    </tr>\n    <tr>\n      <th>1267</th>\n      <td>CLINICAL HISTORY: 56 year old male with a sma...</td>\n      <td>49</td>\n    </tr>\n    <tr>\n      <th>1268</th>\n      <td>CLINICAL HISTORY: 56 year old male with a sma...</td>\n      <td>49</td>\n    </tr>\n    <tr>\n      <th>287</th>\n      <td>CLINICAL HISTORY: 64 year old right handed ge...</td>\n      <td>47</td>\n    </tr>\n    <tr>\n      <th>1202</th>\n      <td>CLINICAL HISTORY: 67 year old ambidextrous fe...</td>\n      <td>47</td>\n    </tr>\n    <tr>\n      <th>915</th>\n      <td>CLINICAL HISTORY:  51 year old male admitted ...</td>\n      <td>47</td>\n    </tr>\n    <tr>\n      <th>288</th>\n      <td>REASON FOR STUDY:  Change of mental status. C...</td>\n      <td>46</td>\n    </tr>\n    <tr>\n      <th>1334</th>\n      <td>CLINICAL HISTORY: 57 year old right handed ma...</td>\n      <td>46</td>\n    </tr>\n    <tr>\n      <th>600</th>\n      <td>CLINICAL HISTORY:  69 year old right handed f...</td>\n      <td>46</td>\n    </tr>\n    <tr>\n      <th>841</th>\n      <td>REASON FOR STUDY:  Altered mental status. INT...</td>\n      <td>46</td>\n    </tr>\n    <tr>\n      <th>779</th>\n      <td>History:\\t54 year old male with history of su...</td>\n      <td>46</td>\n    </tr>\n    <tr>\n      <th>731</th>\n      <td>REASON FOR STUDY:  Follow-up EEG for seizures...</td>\n      <td>46</td>\n    </tr>\n    <tr>\n      <th>909</th>\n      <td>CLINICAL HISTORY:  The patient is a young wom...</td>\n      <td>46</td>\n    </tr>\n    <tr>\n      <th>353</th>\n      <td>REASON FOR STUDY:  Seizures. CLINICAL HISTORY...</td>\n      <td>44</td>\n    </tr>\n    <tr>\n      <th>1282</th>\n      <td>CLINICAL HISTORY:   21 year old with epilepsy...</td>\n      <td>44</td>\n    </tr>\n    <tr>\n      <th>50</th>\n      <td>REASON FOR STUDY:  History of seizures. CLINI...</td>\n      <td>44</td>\n    </tr>\n    <tr>\n      <th>983</th>\n      <td>MEDICINES: Rufinamide, Keppra, Lamictal, Prot...</td>\n      <td>44</td>\n    </tr>\n    <tr>\n      <th>926</th>\n      <td>LENGTH OF THE RECORDING:  21 minutes, 35 seco...</td>\n      <td>44</td>\n    </tr>\n  </tbody>\n</table>\n</div>"
     },
     "metadata": {},
     "execution_count": 171
    }
   ],
   "source": [
    "research_similarity('Keppra Ativan famotidine Lovenox topiramate Flagyl Depakote').head(30)"
   ]
  },
  {
   "cell_type": "markdown",
   "metadata": {},
   "source": [
    "Analysis show it does not really works"
   ]
  },
  {
   "cell_type": "markdown",
   "metadata": {},
   "source": [
    "# II - Working with Levenshtein distance on each sentence of a  text"
   ]
  },
  {
   "cell_type": "markdown",
   "metadata": {},
   "source": [
    "Empiric test have shown that precision can be higher if tested on sentences rather than full text. Let's try the efficiency!"
   ]
  },
  {
   "cell_type": "code",
   "execution_count": 49,
   "metadata": {},
   "outputs": [],
   "source": [
    "# len > 5 to overcome the small words, which have naturally a high ratio\n",
    "def partial_ratio_by_sentence(texte, target):\n",
    "    max = 0\n",
    "    for i in texte.split('.'):\n",
    "        if fuzz.partial_ratio(i, target) > max:\n",
    "            if len(i) > 5:\n",
    "                max = fuzz.partial_ratio(i, target)\n",
    "    return max\n",
    "\n",
    "# For a target, output the related reports sorted by partial_ratio\n",
    "\n",
    "def research_similarity_by_sentence(target):\n",
    "    df = pd.DataFrame(classification_dataset['report'])\n",
    "    df['partial_ratio'] = df['report'].apply(lambda x: partial_ratio_by_sentence(x, target))\n",
    "    df = df.sort_values(by='partial_ratio', ascending=False)\n",
    "    return df\n"
   ]
  },
  {
   "cell_type": "code",
   "execution_count": 321,
   "metadata": {
    "tags": []
   },
   "outputs": [
    {
     "output_type": "stream",
     "name": "stderr",
     "text": "0%|          | 0/46 [00:00<?, ?it/s]CPU times: user 0 ns, sys: 0 ns, total: 0 ns\nWall time: 8.82 µs\nBenign familial neonatal epilepsy (BFNE)\n  2%|▏         | 1/46 [00:42<31:54, 42.55s/it]Early myoclonic encephalopathy (EME)\n  4%|▍         | 2/46 [01:13<28:32, 38.93s/it]Ohtahara syndrome\n  7%|▋         | 3/46 [01:26<22:28, 31.36s/it]Myoclonic encephalopathy in nonprogressive disorders\n  9%|▊         | 4/46 [02:23<27:16, 38.96s/it]Benign infantile epilepsy\n 11%|█         | 5/46 [02:45<23:10, 33.91s/it]Epilepsy of infancy with migrating focal seizures\n 13%|█▎        | 6/46 [03:35<25:46, 38.66s/it]Benign familial infantile epilepsy\n 15%|█▌        | 7/46 [04:07<23:57, 36.87s/it]Myoclonic epilepsy in infancy (MEI)\n 17%|█▋        | 8/46 [04:38<22:03, 34.84s/it]Dravet syndrome\n 20%|█▉        | 9/46 [04:50<17:15, 27.99s/it]West syndrome\n 22%|██▏       | 10/46 [05:00<13:37, 22.71s/it]Epilepsy with myoclonic atonic (previously astatic) seizures\n 24%|██▍       | 11/46 [06:04<20:29, 35.14s/it]Late onset childhood occipital epilepsy (Gastaut type)\n 26%|██▌       | 12/46 [07:01<23:39, 41.74s/it]Childhood absence epilepsy (CAE)\n 28%|██▊       | 13/46 [07:29<20:40, 37.58s/it]Childhood absence epilepsy (CAE)\n 30%|███       | 14/46 [07:57<18:27, 34.61s/it]Epilepsy with myoclonic absences\n 33%|███▎      | 15/46 [08:26<16:58, 32.86s/it]Landau-Kleffner syndrome (LKS)\n 35%|███▍      | 16/46 [08:46<14:37, 29.24s/it]Lennox-Gastaut syndrome\n 37%|███▋      | 17/46 [09:05<12:31, 25.90s/it]Panayiotopoulos syndrome\n 39%|███▉      | 18/46 [09:23<11:06, 23.79s/it]Other familial temporal lobe epilepsies\n 41%|████▏     | 19/46 [10:02<12:38, 28.11s/it]Epilepsy with generalized tonicclonic seizures alone\n 43%|████▎     | 20/46 [11:01<16:15, 37.51s/it]Juvenile absence epilepsy (JAE)\n 46%|████▌     | 21/46 [11:26<14:02, 33.68s/it]Autosomal dominant epilepsy with auditory features (ADEAF)\n 48%|████▊     | 22/46 [12:32<17:21, 43.39s/it]Juvenile myoclonic epilepsy (JME)\n 50%|█████     | 23/46 [13:01<15:01, 39.20s/it]Gelastic seizures with hypothalamic hamartoma\n 52%|█████▏    | 24/46 [13:53<15:42, 42.84s/it]Reflex epilepsies\n 54%|█████▍    | 25/46 [14:09<12:10, 34.81s/it]Rasmussen syndrome\n 57%|█████▋    | 26/46 [14:25<09:45, 29.26s/it]central epilepsy\n 59%|█████▊    | 27/46 [14:40<07:56, 25.09s/it]supplementary motor area\n 61%|██████    | 28/46 [15:05<07:31, 25.11s/it]Temporoparietal junction\n 63%|██████▎   | 29/46 [15:28<06:55, 24.42s/it]frontal epilepsy\n 65%|██████▌   | 30/46 [15:41<05:36, 21.01s/it]frontal epilepsy\n 67%|██████▋   | 31/46 [15:55<04:41, 18.74s/it]frontal epilepsy\n 70%|██████▉   | 32/46 [16:09<04:01, 17.26s/it]frontal epilepsy\n 72%|███████▏  | 33/46 [16:22<03:28, 16.02s/it]frontal epilepsy\n 74%|███████▍  | 34/46 [16:35<03:03, 15.26s/it]insular epilepsy\n 76%|███████▌  | 35/46 [16:48<02:41, 14.65s/it]multifocal epilepsy\n 78%|███████▊  | 36/46 [17:04<02:29, 14.91s/it]occipital epilepsy\n 80%|████████  | 37/46 [17:20<02:18, 15.38s/it]parietal epilepsy\n 83%|████████▎ | 38/46 [17:36<02:03, 15.39s/it]temporal epilepsy\n 85%|████████▍ | 39/46 [17:50<01:44, 14.94s/it]external temporal epilepsy\n 87%|████████▋ | 40/46 [18:15<01:47, 17.98s/it]Mesial temporal lobe epilepsy with hippocampal sclerosis (MTLE with HS)\n 89%|████████▉ | 41/46 [19:44<03:17, 39.46s/it]Mesial temporal lobe epilepsy without  hippocampal sclerosis (MTLE with HS)\n 91%|█████████▏| 42/46 [21:26<03:52, 58.24s/it]temporal occipital epilepsy\n 93%|█████████▎| 43/46 [21:54<02:27, 49.07s/it]temporal epilepsy without precise location\n 96%|█████████▌| 44/46 [22:35<01:33, 46.60s/it]Other location\n 98%|█████████▊| 45/46 [22:45<00:35, 35.67s/it]Unkown location\n100%|██████████| 46/46 [22:56<00:00, 29.91s/it]\n"
    },
    {
     "output_type": "execute_result",
     "data": {
      "text/plain": "                                               target  ratio\n33                                  temporal epilepsy    100\n15                            Lennox-Gastaut syndrome    100\n18  Epilepsy with generalized tonicclonic seizure...     91\n32                                  parietal epilepsy     91\n30                                multifocal epilepsy     89\n31                                 occipital epilepsy     89\n10  Epilepsy with myoclonic atonic (previously ast...     88\n25                                   central epilepsy     88\n22      Gelastic seizures with hypothalamic hamartoma     88\n34                         external temporal epilepsy     88\n5   Epilepsy of infancy with migrating focal seizures     88\n39                                     Other location     86\n9                                       West syndrome     85\n28                                   frontal epilepsy     84\n37                        temporal occipital epilepsy     83\n26                           supplementary motor area     83\n27                           Temporoparietal junction     78\n29                                   insular epilepsy     75\n38         temporal epilepsy without precise location     75\n8                                     Dravet syndrome     73\n4                           Benign infantile epilepsy     73\n24                                 Rasmussen syndrome     73\n17            Other familial temporal lobe epilepsies     72\n6                  Benign familial infantile epilepsy     71\n2                                   Ohtahara syndrome     71\n1                Early myoclonic encephalopathy (EME)     70\n23                                  Reflex epilepsies     69\n13                   Epilepsy with myoclonic absences     69\n12                   Childhood absence epilepsy (CAE)     68\n11  Late onset childhood occipital epilepsy (Gasta...     67\n40                                    Unkown location     67\n36  Mesial temporal lobe epilepsy without  hippoca...     66\n7                 Myoclonic epilepsy in infancy (MEI)     66\n19                    Juvenile absence epilepsy (JAE)     65\n35  Mesial temporal lobe epilepsy with hippocampal...     62\n20  Autosomal dominant epilepsy with auditory feat...     62\n3   Myoclonic encephalopathy in nonprogressive dis...     62\n21                  Juvenile myoclonic epilepsy (JME)     61\n0            Benign familial neonatal epilepsy (BFNE)     61\n16                           Panayiotopoulos syndrome     59\n14                     Landau-Kleffner syndrome (LKS)     56",
      "text/html": "<div>\n<style scoped>\n    .dataframe tbody tr th:only-of-type {\n        vertical-align: middle;\n    }\n\n    .dataframe tbody tr th {\n        vertical-align: top;\n    }\n\n    .dataframe thead th {\n        text-align: right;\n    }\n</style>\n<table border=\"1\" class=\"dataframe\">\n  <thead>\n    <tr style=\"text-align: right;\">\n      <th></th>\n      <th>target</th>\n      <th>ratio</th>\n    </tr>\n  </thead>\n  <tbody>\n    <tr>\n      <th>33</th>\n      <td>temporal epilepsy</td>\n      <td>100</td>\n    </tr>\n    <tr>\n      <th>15</th>\n      <td>Lennox-Gastaut syndrome</td>\n      <td>100</td>\n    </tr>\n    <tr>\n      <th>18</th>\n      <td>Epilepsy with generalized tonicclonic seizure...</td>\n      <td>91</td>\n    </tr>\n    <tr>\n      <th>32</th>\n      <td>parietal epilepsy</td>\n      <td>91</td>\n    </tr>\n    <tr>\n      <th>30</th>\n      <td>multifocal epilepsy</td>\n      <td>89</td>\n    </tr>\n    <tr>\n      <th>31</th>\n      <td>occipital epilepsy</td>\n      <td>89</td>\n    </tr>\n    <tr>\n      <th>10</th>\n      <td>Epilepsy with myoclonic atonic (previously ast...</td>\n      <td>88</td>\n    </tr>\n    <tr>\n      <th>25</th>\n      <td>central epilepsy</td>\n      <td>88</td>\n    </tr>\n    <tr>\n      <th>22</th>\n      <td>Gelastic seizures with hypothalamic hamartoma</td>\n      <td>88</td>\n    </tr>\n    <tr>\n      <th>34</th>\n      <td>external temporal epilepsy</td>\n      <td>88</td>\n    </tr>\n    <tr>\n      <th>5</th>\n      <td>Epilepsy of infancy with migrating focal seizures</td>\n      <td>88</td>\n    </tr>\n    <tr>\n      <th>39</th>\n      <td>Other location</td>\n      <td>86</td>\n    </tr>\n    <tr>\n      <th>9</th>\n      <td>West syndrome</td>\n      <td>85</td>\n    </tr>\n    <tr>\n      <th>28</th>\n      <td>frontal epilepsy</td>\n      <td>84</td>\n    </tr>\n    <tr>\n      <th>37</th>\n      <td>temporal occipital epilepsy</td>\n      <td>83</td>\n    </tr>\n    <tr>\n      <th>26</th>\n      <td>supplementary motor area</td>\n      <td>83</td>\n    </tr>\n    <tr>\n      <th>27</th>\n      <td>Temporoparietal junction</td>\n      <td>78</td>\n    </tr>\n    <tr>\n      <th>29</th>\n      <td>insular epilepsy</td>\n      <td>75</td>\n    </tr>\n    <tr>\n      <th>38</th>\n      <td>temporal epilepsy without precise location</td>\n      <td>75</td>\n    </tr>\n    <tr>\n      <th>8</th>\n      <td>Dravet syndrome</td>\n      <td>73</td>\n    </tr>\n    <tr>\n      <th>4</th>\n      <td>Benign infantile epilepsy</td>\n      <td>73</td>\n    </tr>\n    <tr>\n      <th>24</th>\n      <td>Rasmussen syndrome</td>\n      <td>73</td>\n    </tr>\n    <tr>\n      <th>17</th>\n      <td>Other familial temporal lobe epilepsies</td>\n      <td>72</td>\n    </tr>\n    <tr>\n      <th>6</th>\n      <td>Benign familial infantile epilepsy</td>\n      <td>71</td>\n    </tr>\n    <tr>\n      <th>2</th>\n      <td>Ohtahara syndrome</td>\n      <td>71</td>\n    </tr>\n    <tr>\n      <th>1</th>\n      <td>Early myoclonic encephalopathy (EME)</td>\n      <td>70</td>\n    </tr>\n    <tr>\n      <th>23</th>\n      <td>Reflex epilepsies</td>\n      <td>69</td>\n    </tr>\n    <tr>\n      <th>13</th>\n      <td>Epilepsy with myoclonic absences</td>\n      <td>69</td>\n    </tr>\n    <tr>\n      <th>12</th>\n      <td>Childhood absence epilepsy (CAE)</td>\n      <td>68</td>\n    </tr>\n    <tr>\n      <th>11</th>\n      <td>Late onset childhood occipital epilepsy (Gasta...</td>\n      <td>67</td>\n    </tr>\n    <tr>\n      <th>40</th>\n      <td>Unkown location</td>\n      <td>67</td>\n    </tr>\n    <tr>\n      <th>36</th>\n      <td>Mesial temporal lobe epilepsy without  hippoca...</td>\n      <td>66</td>\n    </tr>\n    <tr>\n      <th>7</th>\n      <td>Myoclonic epilepsy in infancy (MEI)</td>\n      <td>66</td>\n    </tr>\n    <tr>\n      <th>19</th>\n      <td>Juvenile absence epilepsy (JAE)</td>\n      <td>65</td>\n    </tr>\n    <tr>\n      <th>35</th>\n      <td>Mesial temporal lobe epilepsy with hippocampal...</td>\n      <td>62</td>\n    </tr>\n    <tr>\n      <th>20</th>\n      <td>Autosomal dominant epilepsy with auditory feat...</td>\n      <td>62</td>\n    </tr>\n    <tr>\n      <th>3</th>\n      <td>Myoclonic encephalopathy in nonprogressive dis...</td>\n      <td>62</td>\n    </tr>\n    <tr>\n      <th>21</th>\n      <td>Juvenile myoclonic epilepsy (JME)</td>\n      <td>61</td>\n    </tr>\n    <tr>\n      <th>0</th>\n      <td>Benign familial neonatal epilepsy (BFNE)</td>\n      <td>61</td>\n    </tr>\n    <tr>\n      <th>16</th>\n      <td>Panayiotopoulos syndrome</td>\n      <td>59</td>\n    </tr>\n    <tr>\n      <th>14</th>\n      <td>Landau-Kleffner syndrome (LKS)</td>\n      <td>56</td>\n    </tr>\n  </tbody>\n</table>\n</div>"
     },
     "metadata": {},
     "execution_count": 321
    }
   ],
   "source": [
    "\n",
    "# We will calculate the partial_ratio for each thesaury therme and update it in a result dataset\n",
    "%time\n",
    "\n",
    "classification_dataset_by_sentence = classification_dataset[['filepath', 'report']]\n",
    "\n",
    "for i in tqdm(list(thesaurus['symptome-en'])):\n",
    "    print(i)\n",
    "    classification_dataset_by_sentence[i] = classification_dataset_by_sentence['report'].apply(lambda x: partial_ratio_by_sentence(x, i)) \n",
    "\n",
    "df_results_by_sentence = pd.DataFrame(data=classification_dataset_by_sentence.columns[2:], columns=['target'])\n",
    "df_results_by_sentence['ratio'] = df_results_by_sentence['target'].apply(lambda x: classification_dataset_by_sentence[x].max())\n",
    "\n",
    "# What can we predict at best?\n",
    "df_results_by_sentence.sort_values(by='ratio', ascending=False)"
   ]
  },
  {
   "cell_type": "code",
   "execution_count": 323,
   "metadata": {},
   "outputs": [],
   "source": [
    "df_results_by_sentence.to_csv('df_results_by_sentence.csv')"
   ]
  },
  {
   "cell_type": "markdown",
   "metadata": {},
   "source": [
    "# III - Using a simplified Thesaurus"
   ]
  },
  {
   "cell_type": "code",
   "execution_count": 50,
   "metadata": {},
   "outputs": [],
   "source": [
    "# Loading simplified Thesaurus\n",
    "thesaurus_simplified = pd.read_csv('data/thesaurus_key_words - simplified.csv', encoding=\"ISO-8859-1\", sep=';')"
   ]
  },
  {
   "cell_type": "code",
   "execution_count": 51,
   "metadata": {},
   "outputs": [
    {
     "output_type": "execute_result",
     "data": {
      "text/plain": "36"
     },
     "metadata": {},
     "execution_count": 51
    }
   ],
   "source": [
    "len(thesaurus_simplified['symptome-en-simple'].unique())"
   ]
  },
  {
   "cell_type": "code",
   "execution_count": 52,
   "metadata": {},
   "outputs": [
    {
     "output_type": "execute_result",
     "data": {
      "text/plain": "  classification_E          catégorie  \\\n0               E1  Période néonatale   \n1               E2  Période néonatale   \n2               E3  Période néonatale   \n3              E31         Nourrisons   \n4              E33         Nourrisons   \n\n                                         symptome-fr  \\\n0                Encéphalopathie myoclonique précoce   \n1       Epilepsie néonatale familiale bénigne (BFNE)   \n2                                Syndrome d'ohtahara   \n3  Encépahlopathie myoclonique des affections non...   \n4                     Epilepsie benigne du nourisson   \n\n                                         symptome-en  \\\n0           Benign familial neonatal epilepsy (BFNE)   \n1               Early myoclonic encephalopathy (EME)   \n2                                  Ohtahara syndrome   \n3  Myoclonic encephalopathy in nonprogressive dis...   \n4                          Benign infantile epilepsy   \n\n         symptome-en-simple                                Comments CIM_10  \\\n0                      BFNE  Too much common words, keeping acronym  G40.8   \n1                       EME  Too much common words, keeping acronym  G40.8   \n2                  Ohtahara                  syndrome is too common  G40.8   \n3  Myoclonic encephalopathy                          simplification  G40.4   \n4                 infantile                          generalisation  G40.3   \n\n     CIM11  Orphanet  \n0  8A61.0Y    1935.0  \n1  8A61.10    1949.0  \n2   8A62.Y    1934.0  \n3   8A62.Y   86913.0  \n4  8A61.1Z  166302.0  ",
      "text/html": "<div>\n<style scoped>\n    .dataframe tbody tr th:only-of-type {\n        vertical-align: middle;\n    }\n\n    .dataframe tbody tr th {\n        vertical-align: top;\n    }\n\n    .dataframe thead th {\n        text-align: right;\n    }\n</style>\n<table border=\"1\" class=\"dataframe\">\n  <thead>\n    <tr style=\"text-align: right;\">\n      <th></th>\n      <th>classification_E</th>\n      <th>catégorie</th>\n      <th>symptome-fr</th>\n      <th>symptome-en</th>\n      <th>symptome-en-simple</th>\n      <th>Comments</th>\n      <th>CIM_10</th>\n      <th>CIM11</th>\n      <th>Orphanet</th>\n    </tr>\n  </thead>\n  <tbody>\n    <tr>\n      <th>0</th>\n      <td>E1</td>\n      <td>Période néonatale</td>\n      <td>Encéphalopathie myoclonique précoce</td>\n      <td>Benign familial neonatal epilepsy (BFNE)</td>\n      <td>BFNE</td>\n      <td>Too much common words, keeping acronym</td>\n      <td>G40.8</td>\n      <td>8A61.0Y</td>\n      <td>1935.0</td>\n    </tr>\n    <tr>\n      <th>1</th>\n      <td>E2</td>\n      <td>Période néonatale</td>\n      <td>Epilepsie néonatale familiale bénigne (BFNE)</td>\n      <td>Early myoclonic encephalopathy (EME)</td>\n      <td>EME</td>\n      <td>Too much common words, keeping acronym</td>\n      <td>G40.8</td>\n      <td>8A61.10</td>\n      <td>1949.0</td>\n    </tr>\n    <tr>\n      <th>2</th>\n      <td>E3</td>\n      <td>Période néonatale</td>\n      <td>Syndrome d'ohtahara</td>\n      <td>Ohtahara syndrome</td>\n      <td>Ohtahara</td>\n      <td>syndrome is too common</td>\n      <td>G40.8</td>\n      <td>8A62.Y</td>\n      <td>1934.0</td>\n    </tr>\n    <tr>\n      <th>3</th>\n      <td>E31</td>\n      <td>Nourrisons</td>\n      <td>Encépahlopathie myoclonique des affections non...</td>\n      <td>Myoclonic encephalopathy in nonprogressive dis...</td>\n      <td>Myoclonic encephalopathy</td>\n      <td>simplification</td>\n      <td>G40.4</td>\n      <td>8A62.Y</td>\n      <td>86913.0</td>\n    </tr>\n    <tr>\n      <th>4</th>\n      <td>E33</td>\n      <td>Nourrisons</td>\n      <td>Epilepsie benigne du nourisson</td>\n      <td>Benign infantile epilepsy</td>\n      <td>infantile</td>\n      <td>generalisation</td>\n      <td>G40.3</td>\n      <td>8A61.1Z</td>\n      <td>166302.0</td>\n    </tr>\n  </tbody>\n</table>\n</div>"
     },
     "metadata": {},
     "execution_count": 52
    }
   ],
   "source": [
    "thesaurus_simplified.head()"
   ]
  },
  {
   "cell_type": "code",
   "execution_count": 53,
   "metadata": {},
   "outputs": [
    {
     "output_type": "execute_result",
     "data": {
      "text/plain": "                                               filepath  \\\n0     CR_Patients_info_patients-v0_4/edf/dev/01_tcp_...   \n1     CR_Patients_info_patients-v0_4/edf/dev/01_tcp_...   \n2     CR_Patients_info_patients-v0_4/edf/dev/01_tcp_...   \n3     CR_Patients_info_patients-v0_4/edf/dev/01_tcp_...   \n4     CR_Patients_info_patients-v0_4/edf/dev/01_tcp_...   \n...                                                 ...   \n1418  CR_Patients_info_patients-v0_4/edf/train/02_tc...   \n1419  CR_Patients_info_patients-v0_4/edf/train/02_tc...   \n1420  CR_Patients_info_patients-v0_4/edf/train/02_tc...   \n1421  CR_Patients_info_patients-v0_4/edf/train/02_tc...   \n1422  CR_Patients_info_patients-v0_4/edf/train/02_tc...   \n\n                                                 report  \n0      Description: 2.5 to 5 hz spike/wave and polys...  \n1      LENGTH OF THE RECORDING:  22 minutes and 53 s...  \n2      MEDICATIONS:  Vimpat, Norvasc, Felbamate, Car...  \n3      CLINICAL HISTORY:  27 year old gentleman with...  \n4      MEDICATIONS:  Vimpat, Norvasc, Felbamate, Car...  \n...                                                 ...  \n1418   CLINICAL HISTORY: 49 year old female with alc...  \n1419   CLINICAL HISTORY: A25 year old male with a si...  \n1420   CLINICAL HISTORY: 69 year old woman with onse...  \n1421   CLINICAL HISTORY: 68 year old woman with righ...  \n1422   CLINICAL HISTORY: 69 year old woman with myel...  \n\n[1423 rows x 2 columns]",
      "text/html": "<div>\n<style scoped>\n    .dataframe tbody tr th:only-of-type {\n        vertical-align: middle;\n    }\n\n    .dataframe tbody tr th {\n        vertical-align: top;\n    }\n\n    .dataframe thead th {\n        text-align: right;\n    }\n</style>\n<table border=\"1\" class=\"dataframe\">\n  <thead>\n    <tr style=\"text-align: right;\">\n      <th></th>\n      <th>filepath</th>\n      <th>report</th>\n    </tr>\n  </thead>\n  <tbody>\n    <tr>\n      <th>0</th>\n      <td>CR_Patients_info_patients-v0_4/edf/dev/01_tcp_...</td>\n      <td>Description: 2.5 to 5 hz spike/wave and polys...</td>\n    </tr>\n    <tr>\n      <th>1</th>\n      <td>CR_Patients_info_patients-v0_4/edf/dev/01_tcp_...</td>\n      <td>LENGTH OF THE RECORDING:  22 minutes and 53 s...</td>\n    </tr>\n    <tr>\n      <th>2</th>\n      <td>CR_Patients_info_patients-v0_4/edf/dev/01_tcp_...</td>\n      <td>MEDICATIONS:  Vimpat, Norvasc, Felbamate, Car...</td>\n    </tr>\n    <tr>\n      <th>3</th>\n      <td>CR_Patients_info_patients-v0_4/edf/dev/01_tcp_...</td>\n      <td>CLINICAL HISTORY:  27 year old gentleman with...</td>\n    </tr>\n    <tr>\n      <th>4</th>\n      <td>CR_Patients_info_patients-v0_4/edf/dev/01_tcp_...</td>\n      <td>MEDICATIONS:  Vimpat, Norvasc, Felbamate, Car...</td>\n    </tr>\n    <tr>\n      <th>...</th>\n      <td>...</td>\n      <td>...</td>\n    </tr>\n    <tr>\n      <th>1418</th>\n      <td>CR_Patients_info_patients-v0_4/edf/train/02_tc...</td>\n      <td>CLINICAL HISTORY: 49 year old female with alc...</td>\n    </tr>\n    <tr>\n      <th>1419</th>\n      <td>CR_Patients_info_patients-v0_4/edf/train/02_tc...</td>\n      <td>CLINICAL HISTORY: A25 year old male with a si...</td>\n    </tr>\n    <tr>\n      <th>1420</th>\n      <td>CR_Patients_info_patients-v0_4/edf/train/02_tc...</td>\n      <td>CLINICAL HISTORY: 69 year old woman with onse...</td>\n    </tr>\n    <tr>\n      <th>1421</th>\n      <td>CR_Patients_info_patients-v0_4/edf/train/02_tc...</td>\n      <td>CLINICAL HISTORY: 68 year old woman with righ...</td>\n    </tr>\n    <tr>\n      <th>1422</th>\n      <td>CR_Patients_info_patients-v0_4/edf/train/02_tc...</td>\n      <td>CLINICAL HISTORY: 69 year old woman with myel...</td>\n    </tr>\n  </tbody>\n</table>\n<p>1423 rows × 2 columns</p>\n</div>"
     },
     "metadata": {},
     "execution_count": 53
    }
   ],
   "source": [
    "classification_dataset.iloc[:,0:2]"
   ]
  },
  {
   "cell_type": "code",
   "execution_count": 54,
   "metadata": {
    "tags": []
   },
   "outputs": [
    {
     "output_type": "stream",
     "name": "stderr",
     "text": "0%|          | 0/36 [00:00<?, ?it/s]CPU times: user 0 ns, sys: 0 ns, total: 0 ns\nWall time: 5.48 µs\n100%|██████████| 36/36 [04:50<00:00,  8.08s/it]\n"
    },
    {
     "output_type": "execute_result",
     "data": {
      "text/plain": "                      target  ratio\n18              tonic-clonic    100\n11              Gastaut type    100\n32                  parietal    100\n31                 occipital    100\n28                   frontal    100\n25                   central    100\n24                 Rasmussen    100\n1                        EME    100\n17             temporal lobe    100\n15            Lennox-Gastaut    100\n35        temporal occipital    100\n4                  infantile    100\n30                mutlifocal     90\n3   Myoclonic encephalopathy     84\n23                    Reflex     83\n6                     Unkown     83\n8                     Dravet     83\n26  supplementary motor area     83\n33         external temporal     82\n10          myoclonic atonic     81\n12                       CAE     80\n5            migrating focal     80\n27  Temporoparietal junction     78\n13        myoclonic absences     78\n29                   insular     77\n22                  Gelastic     75\n9                       West     75\n21                       JME     67\n19                       jAE     67\n7                        MEI     67\n34              MTLE with HS     67\n2                   Ohtahara     62\n20                     ADEAF     60\n16           Panayiotopoulos     60\n14           Landau-Kleffner     60\n0                       BFNE     50",
      "text/html": "<div>\n<style scoped>\n    .dataframe tbody tr th:only-of-type {\n        vertical-align: middle;\n    }\n\n    .dataframe tbody tr th {\n        vertical-align: top;\n    }\n\n    .dataframe thead th {\n        text-align: right;\n    }\n</style>\n<table border=\"1\" class=\"dataframe\">\n  <thead>\n    <tr style=\"text-align: right;\">\n      <th></th>\n      <th>target</th>\n      <th>ratio</th>\n    </tr>\n  </thead>\n  <tbody>\n    <tr>\n      <th>18</th>\n      <td>tonic-clonic</td>\n      <td>100</td>\n    </tr>\n    <tr>\n      <th>11</th>\n      <td>Gastaut type</td>\n      <td>100</td>\n    </tr>\n    <tr>\n      <th>32</th>\n      <td>parietal</td>\n      <td>100</td>\n    </tr>\n    <tr>\n      <th>31</th>\n      <td>occipital</td>\n      <td>100</td>\n    </tr>\n    <tr>\n      <th>28</th>\n      <td>frontal</td>\n      <td>100</td>\n    </tr>\n    <tr>\n      <th>25</th>\n      <td>central</td>\n      <td>100</td>\n    </tr>\n    <tr>\n      <th>24</th>\n      <td>Rasmussen</td>\n      <td>100</td>\n    </tr>\n    <tr>\n      <th>1</th>\n      <td>EME</td>\n      <td>100</td>\n    </tr>\n    <tr>\n      <th>17</th>\n      <td>temporal lobe</td>\n      <td>100</td>\n    </tr>\n    <tr>\n      <th>15</th>\n      <td>Lennox-Gastaut</td>\n      <td>100</td>\n    </tr>\n    <tr>\n      <th>35</th>\n      <td>temporal occipital</td>\n      <td>100</td>\n    </tr>\n    <tr>\n      <th>4</th>\n      <td>infantile</td>\n      <td>100</td>\n    </tr>\n    <tr>\n      <th>30</th>\n      <td>mutlifocal</td>\n      <td>90</td>\n    </tr>\n    <tr>\n      <th>3</th>\n      <td>Myoclonic encephalopathy</td>\n      <td>84</td>\n    </tr>\n    <tr>\n      <th>23</th>\n      <td>Reflex</td>\n      <td>83</td>\n    </tr>\n    <tr>\n      <th>6</th>\n      <td>Unkown</td>\n      <td>83</td>\n    </tr>\n    <tr>\n      <th>8</th>\n      <td>Dravet</td>\n      <td>83</td>\n    </tr>\n    <tr>\n      <th>26</th>\n      <td>supplementary motor area</td>\n      <td>83</td>\n    </tr>\n    <tr>\n      <th>33</th>\n      <td>external temporal</td>\n      <td>82</td>\n    </tr>\n    <tr>\n      <th>10</th>\n      <td>myoclonic atonic</td>\n      <td>81</td>\n    </tr>\n    <tr>\n      <th>12</th>\n      <td>CAE</td>\n      <td>80</td>\n    </tr>\n    <tr>\n      <th>5</th>\n      <td>migrating focal</td>\n      <td>80</td>\n    </tr>\n    <tr>\n      <th>27</th>\n      <td>Temporoparietal junction</td>\n      <td>78</td>\n    </tr>\n    <tr>\n      <th>13</th>\n      <td>myoclonic absences</td>\n      <td>78</td>\n    </tr>\n    <tr>\n      <th>29</th>\n      <td>insular</td>\n      <td>77</td>\n    </tr>\n    <tr>\n      <th>22</th>\n      <td>Gelastic</td>\n      <td>75</td>\n    </tr>\n    <tr>\n      <th>9</th>\n      <td>West</td>\n      <td>75</td>\n    </tr>\n    <tr>\n      <th>21</th>\n      <td>JME</td>\n      <td>67</td>\n    </tr>\n    <tr>\n      <th>19</th>\n      <td>jAE</td>\n      <td>67</td>\n    </tr>\n    <tr>\n      <th>7</th>\n      <td>MEI</td>\n      <td>67</td>\n    </tr>\n    <tr>\n      <th>34</th>\n      <td>MTLE with HS</td>\n      <td>67</td>\n    </tr>\n    <tr>\n      <th>2</th>\n      <td>Ohtahara</td>\n      <td>62</td>\n    </tr>\n    <tr>\n      <th>20</th>\n      <td>ADEAF</td>\n      <td>60</td>\n    </tr>\n    <tr>\n      <th>16</th>\n      <td>Panayiotopoulos</td>\n      <td>60</td>\n    </tr>\n    <tr>\n      <th>14</th>\n      <td>Landau-Kleffner</td>\n      <td>60</td>\n    </tr>\n    <tr>\n      <th>0</th>\n      <td>BFNE</td>\n      <td>50</td>\n    </tr>\n  </tbody>\n</table>\n</div>"
     },
     "metadata": {},
     "execution_count": 54
    }
   ],
   "source": [
    "\n",
    "# We will calculate the token_sort_ratio for each thesaury therme and update it in a result dataset\n",
    "\n",
    "%time\n",
    "classification_dataset_simple = classification_dataset.iloc[:,0:2]\n",
    "\n",
    "for i in tqdm(list(thesaurus_simplified['symptome-en-simple'].unique())):\n",
    "    classification_dataset_simple[i] = classification_dataset_simple['report'].apply(lambda x: partial_ratio_by_sentence(x, i)) \n",
    "\n",
    "df_results_simple = pd.DataFrame(data=classification_dataset_simple.columns[2:], columns=['target'])\n",
    "df_results_simple['ratio'] = df_results_simple['target'].apply(lambda x: (classification_dataset_simple[x]).max())\n",
    "\n",
    "# What can we predict at best?\n",
    "df_results_simple = df_results_simple.sort_values(by='ratio', ascending=False)\n",
    "df_results_simple.to_csv('df_results_simple.csv')\n",
    "df_results_simple"
   ]
  },
  {
   "cell_type": "markdown",
   "metadata": {},
   "source": [
    "More elements are at 100! We now set the threshold score to keep the results. For a word with n caracters with e number of characters to change, the score is (n-e)/n.\n",
    "For less than 6 characters, we take for principle that there should be no error (ex: acronyms)\n",
    "For more than 6 characters, we can take 2 errors for reference\n",
    "For two words search, we can take 4 errors for reference (2 by words)"
   ]
  },
  {
   "cell_type": "code",
   "execution_count": 55,
   "metadata": {},
   "outputs": [
    {
     "output_type": "execute_result",
     "data": {
      "text/plain": "                      target  ratio   threshold  correspondance\n1                        EME    100  100.000000            True\n15            Lennox-Gastaut    100   92.857143            True\n18              tonic-clonic    100   91.666667            True\n30                mutlifocal     90   90.000000            True\n31                 occipital    100   88.888889            True\n24                 Rasmussen    100   88.888889            True\n35        temporal occipital    100   88.888889            True\n4                  infantile    100   88.888889            True\n32                  parietal    100   87.500000            True\n28                   frontal    100   85.714286            True\n25                   central    100   85.714286            True\n17             temporal lobe    100   84.615385            True\n11              Gastaut type    100   83.333333            True\n23                    Reflex     83  100.000000           False\n6                     Unkown     83  100.000000           False\n8                     Dravet     83  100.000000           False\n12                       CAE     80  100.000000           False\n9                       West     75  100.000000           False\n21                       JME     67  100.000000           False\n19                       jAE     67  100.000000           False\n7                        MEI     67  100.000000           False\n20                     ADEAF     60  100.000000           False\n0                       BFNE     50  100.000000           False\n16           Panayiotopoulos     60   93.333333           False\n14           Landau-Kleffner     60   93.333333           False\n3   Myoclonic encephalopathy     84   91.666667           False\n26  supplementary motor area     83   91.666667           False\n27  Temporoparietal junction     78   91.666667           False\n13        myoclonic absences     78   88.888889           False\n33         external temporal     82   88.235294           False\n10          myoclonic atonic     81   87.500000           False\n22                  Gelastic     75   87.500000           False\n2                   Ohtahara     62   87.500000           False\n5            migrating focal     80   86.666667           False\n29                   insular     77   85.714286           False\n34              MTLE with HS     67   83.333333           False",
      "text/html": "<div>\n<style scoped>\n    .dataframe tbody tr th:only-of-type {\n        vertical-align: middle;\n    }\n\n    .dataframe tbody tr th {\n        vertical-align: top;\n    }\n\n    .dataframe thead th {\n        text-align: right;\n    }\n</style>\n<table border=\"1\" class=\"dataframe\">\n  <thead>\n    <tr style=\"text-align: right;\">\n      <th></th>\n      <th>target</th>\n      <th>ratio</th>\n      <th>threshold</th>\n      <th>correspondance</th>\n    </tr>\n  </thead>\n  <tbody>\n    <tr>\n      <th>1</th>\n      <td>EME</td>\n      <td>100</td>\n      <td>100.000000</td>\n      <td>True</td>\n    </tr>\n    <tr>\n      <th>15</th>\n      <td>Lennox-Gastaut</td>\n      <td>100</td>\n      <td>92.857143</td>\n      <td>True</td>\n    </tr>\n    <tr>\n      <th>18</th>\n      <td>tonic-clonic</td>\n      <td>100</td>\n      <td>91.666667</td>\n      <td>True</td>\n    </tr>\n    <tr>\n      <th>30</th>\n      <td>mutlifocal</td>\n      <td>90</td>\n      <td>90.000000</td>\n      <td>True</td>\n    </tr>\n    <tr>\n      <th>31</th>\n      <td>occipital</td>\n      <td>100</td>\n      <td>88.888889</td>\n      <td>True</td>\n    </tr>\n    <tr>\n      <th>24</th>\n      <td>Rasmussen</td>\n      <td>100</td>\n      <td>88.888889</td>\n      <td>True</td>\n    </tr>\n    <tr>\n      <th>35</th>\n      <td>temporal occipital</td>\n      <td>100</td>\n      <td>88.888889</td>\n      <td>True</td>\n    </tr>\n    <tr>\n      <th>4</th>\n      <td>infantile</td>\n      <td>100</td>\n      <td>88.888889</td>\n      <td>True</td>\n    </tr>\n    <tr>\n      <th>32</th>\n      <td>parietal</td>\n      <td>100</td>\n      <td>87.500000</td>\n      <td>True</td>\n    </tr>\n    <tr>\n      <th>28</th>\n      <td>frontal</td>\n      <td>100</td>\n      <td>85.714286</td>\n      <td>True</td>\n    </tr>\n    <tr>\n      <th>25</th>\n      <td>central</td>\n      <td>100</td>\n      <td>85.714286</td>\n      <td>True</td>\n    </tr>\n    <tr>\n      <th>17</th>\n      <td>temporal lobe</td>\n      <td>100</td>\n      <td>84.615385</td>\n      <td>True</td>\n    </tr>\n    <tr>\n      <th>11</th>\n      <td>Gastaut type</td>\n      <td>100</td>\n      <td>83.333333</td>\n      <td>True</td>\n    </tr>\n    <tr>\n      <th>23</th>\n      <td>Reflex</td>\n      <td>83</td>\n      <td>100.000000</td>\n      <td>False</td>\n    </tr>\n    <tr>\n      <th>6</th>\n      <td>Unkown</td>\n      <td>83</td>\n      <td>100.000000</td>\n      <td>False</td>\n    </tr>\n    <tr>\n      <th>8</th>\n      <td>Dravet</td>\n      <td>83</td>\n      <td>100.000000</td>\n      <td>False</td>\n    </tr>\n    <tr>\n      <th>12</th>\n      <td>CAE</td>\n      <td>80</td>\n      <td>100.000000</td>\n      <td>False</td>\n    </tr>\n    <tr>\n      <th>9</th>\n      <td>West</td>\n      <td>75</td>\n      <td>100.000000</td>\n      <td>False</td>\n    </tr>\n    <tr>\n      <th>21</th>\n      <td>JME</td>\n      <td>67</td>\n      <td>100.000000</td>\n      <td>False</td>\n    </tr>\n    <tr>\n      <th>19</th>\n      <td>jAE</td>\n      <td>67</td>\n      <td>100.000000</td>\n      <td>False</td>\n    </tr>\n    <tr>\n      <th>7</th>\n      <td>MEI</td>\n      <td>67</td>\n      <td>100.000000</td>\n      <td>False</td>\n    </tr>\n    <tr>\n      <th>20</th>\n      <td>ADEAF</td>\n      <td>60</td>\n      <td>100.000000</td>\n      <td>False</td>\n    </tr>\n    <tr>\n      <th>0</th>\n      <td>BFNE</td>\n      <td>50</td>\n      <td>100.000000</td>\n      <td>False</td>\n    </tr>\n    <tr>\n      <th>16</th>\n      <td>Panayiotopoulos</td>\n      <td>60</td>\n      <td>93.333333</td>\n      <td>False</td>\n    </tr>\n    <tr>\n      <th>14</th>\n      <td>Landau-Kleffner</td>\n      <td>60</td>\n      <td>93.333333</td>\n      <td>False</td>\n    </tr>\n    <tr>\n      <th>3</th>\n      <td>Myoclonic encephalopathy</td>\n      <td>84</td>\n      <td>91.666667</td>\n      <td>False</td>\n    </tr>\n    <tr>\n      <th>26</th>\n      <td>supplementary motor area</td>\n      <td>83</td>\n      <td>91.666667</td>\n      <td>False</td>\n    </tr>\n    <tr>\n      <th>27</th>\n      <td>Temporoparietal junction</td>\n      <td>78</td>\n      <td>91.666667</td>\n      <td>False</td>\n    </tr>\n    <tr>\n      <th>13</th>\n      <td>myoclonic absences</td>\n      <td>78</td>\n      <td>88.888889</td>\n      <td>False</td>\n    </tr>\n    <tr>\n      <th>33</th>\n      <td>external temporal</td>\n      <td>82</td>\n      <td>88.235294</td>\n      <td>False</td>\n    </tr>\n    <tr>\n      <th>10</th>\n      <td>myoclonic atonic</td>\n      <td>81</td>\n      <td>87.500000</td>\n      <td>False</td>\n    </tr>\n    <tr>\n      <th>22</th>\n      <td>Gelastic</td>\n      <td>75</td>\n      <td>87.500000</td>\n      <td>False</td>\n    </tr>\n    <tr>\n      <th>2</th>\n      <td>Ohtahara</td>\n      <td>62</td>\n      <td>87.500000</td>\n      <td>False</td>\n    </tr>\n    <tr>\n      <th>5</th>\n      <td>migrating focal</td>\n      <td>80</td>\n      <td>86.666667</td>\n      <td>False</td>\n    </tr>\n    <tr>\n      <th>29</th>\n      <td>insular</td>\n      <td>77</td>\n      <td>85.714286</td>\n      <td>False</td>\n    </tr>\n    <tr>\n      <th>34</th>\n      <td>MTLE with HS</td>\n      <td>67</td>\n      <td>83.333333</td>\n      <td>False</td>\n    </tr>\n  </tbody>\n</table>\n</div>"
     },
     "metadata": {},
     "execution_count": 55
    }
   ],
   "source": [
    "# defining threshold\n",
    "\n",
    "df_results_simple['threshold'] = df_results_simple['target'].apply(lambda x: 100 if len(x) <= 6 else \n",
    "((len(x)-1)*100/len(x) if x.find(\" \") == -1 else\n",
    "((len(x)-2)*100/len(x)))\n",
    ")\n",
    "df_results_simple['correspondance'] = df_results_simple['ratio'] >= df_results_simple['threshold']\n",
    "df_results_simple = df_results_simple.sort_values(by=['correspondance', 'threshold'], ascending=False)\n",
    "df_results_simple"
   ]
  },
  {
   "cell_type": "code",
   "execution_count": 56,
   "metadata": {
    "tags": []
   },
   "outputs": [
    {
     "output_type": "stream",
     "name": "stderr",
     "text": "0%|          | 0/36 [00:00<?, ?it/s]100.0\n  3%|▎         | 1/36 [00:00<00:27,  1.29it/s]100.0\n  6%|▌         | 2/36 [00:01<00:24,  1.38it/s]87.5\n  8%|▊         | 3/36 [00:01<00:22,  1.45it/s]91.66666666666667\n 11%|█         | 4/36 [00:02<00:21,  1.46it/s]88.88888888888889\n 14%|█▍        | 5/36 [00:03<00:21,  1.44it/s]86.66666666666667\n 17%|█▋        | 6/36 [00:04<00:21,  1.42it/s]100.0\n 19%|█▉        | 7/36 [00:04<00:21,  1.34it/s]100.0\n 22%|██▏       | 8/36 [00:06<00:23,  1.18it/s]100.0\n 25%|██▌       | 9/36 [00:07<00:24,  1.09it/s]100.0\n 28%|██▊       | 10/36 [00:08<00:24,  1.04it/s]87.5\n 31%|███       | 11/36 [00:09<00:24,  1.02it/s]83.33333333333333\n 33%|███▎      | 12/36 [00:10<00:22,  1.07it/s]100.0\n 36%|███▌      | 13/36 [00:11<00:22,  1.04it/s]88.88888888888889\n 39%|███▉      | 14/36 [00:11<00:19,  1.10it/s]93.33333333333333\n 42%|████▏     | 15/36 [00:12<00:18,  1.13it/s]92.85714285714286\n 44%|████▍     | 16/36 [00:13<00:17,  1.15it/s]93.33333333333333\n 47%|████▋     | 17/36 [00:14<00:16,  1.19it/s]84.61538461538461\n 50%|█████     | 18/36 [00:15<00:15,  1.17it/s]91.66666666666667\n 53%|█████▎    | 19/36 [00:16<00:14,  1.16it/s]100.0\n 56%|█████▌    | 20/36 [00:16<00:13,  1.17it/s]100.0\n 58%|█████▊    | 21/36 [00:17<00:12,  1.19it/s]100.0\n 61%|██████    | 22/36 [00:18<00:11,  1.22it/s]87.5\n 64%|██████▍   | 23/36 [00:19<00:10,  1.21it/s]100.0\n 67%|██████▋   | 24/36 [00:20<00:09,  1.24it/s]88.88888888888889\n 69%|██████▉   | 25/36 [00:20<00:08,  1.23it/s]85.71428571428571\n 72%|███████▏  | 26/36 [00:21<00:08,  1.20it/s]91.66666666666667\n 75%|███████▌  | 27/36 [00:22<00:07,  1.19it/s]91.66666666666667\n 78%|███████▊  | 28/36 [00:23<00:06,  1.19it/s]85.71428571428571\n 81%|████████  | 29/36 [00:24<00:05,  1.20it/s]85.71428571428571\n 83%|████████▎ | 30/36 [00:25<00:05,  1.12it/s]90.0\n 86%|████████▌ | 31/36 [00:26<00:04,  1.12it/s]88.88888888888889\n 89%|████████▉ | 32/36 [00:27<00:03,  1.08it/s]87.5\n 92%|█████████▏| 33/36 [00:28<00:02,  1.02it/s]88.23529411764706\n 94%|█████████▍| 34/36 [00:29<00:02,  1.05s/it]83.33333333333333\n 97%|█████████▋| 35/36 [00:30<00:01,  1.04s/it]88.88888888888889\n100%|██████████| 36/36 [00:31<00:00,  1.14it/s]\n"
    }
   ],
   "source": [
    "# For each typology, inputing 1 if the local Levenshtein partial ratio is correct\n",
    "\n",
    "classification_dataset_hashtag = classification_dataset_simple\n",
    "for i in tqdm(classification_dataset_hashtag.columns[2:]):\n",
    "    threshold = df_results_simple[df_results_simple['target'] == i]['threshold'].iloc[0]\n",
    "    print(threshold)\n",
    "    classification_dataset_hashtag[i] = classification_dataset_hashtag[i].apply(lambda x: 1 if (x >= df_results_simple[df_results_simple['target'] == i]['threshold'].iloc[0])==True else 0)\n",
    "\n",
    "classification_dataset_hashtag.to_csv('classification_dataset_hashtag.csv')"
   ]
  },
  {
   "cell_type": "code",
   "execution_count": 57,
   "metadata": {},
   "outputs": [
    {
     "output_type": "execute_result",
     "data": {
      "text/plain": "frontal                     558\ncentral                     536\noccipital                   252\nparietal                    153\ntonic-clonic                140\ntemporal lobe               134\nLennox-Gastaut               23\nmutlifocal                   18\nRasmussen                     8\ntemporal occipital            8\nEME                           5\nGastaut type                  4\ninfantile                     1\nsupplementary motor area      0\nTemporoparietal junction      0\nOhtahara                      0\nMyoclonic encephalopathy      0\nmigrating focal               0\nUnkown                        0\nMEI                           0\nDravet                        0\nWest                          0\nmyoclonic atonic              0\nCAE                           0\nmyoclonic absences            0\nLandau-Kleffner               0\nexternal temporal             0\nPanayiotopoulos               0\nMTLE with HS                  0\ninsular                       0\njAE                           0\nADEAF                         0\nJME                           0\nGelastic                      0\nReflex                        0\nBFNE                          0\ndtype: int64"
     },
     "metadata": {},
     "execution_count": 57
    }
   ],
   "source": [
    "classification_dataset_hashtag.iloc[:,2:].sum().sort_values(ascending=False)"
   ]
  },
  {
   "cell_type": "markdown",
   "metadata": {},
   "source": [
    "Example of intersting case: we now value well Rasmussen reports"
   ]
  },
  {
   "cell_type": "code",
   "execution_count": 60,
   "metadata": {},
   "outputs": [
    {
     "output_type": "execute_result",
     "data": {
      "text/plain": "0"
     },
     "metadata": {},
     "execution_count": 60
    }
   ],
   "source": [
    "classification_dataset_hashtag.iloc[0,2:].sum()"
   ]
  },
  {
   "cell_type": "code",
   "execution_count": 72,
   "metadata": {},
   "outputs": [
    {
     "output_type": "execute_result",
     "data": {
      "text/plain": "1.0"
     },
     "metadata": {},
     "execution_count": 72
    }
   ],
   "source": [
    "classification_dataset_hashtag.iloc[i:i+1,2:].iloc[0].sum()"
   ]
  },
  {
   "cell_type": "code",
   "execution_count": 73,
   "metadata": {
    "tags": []
   },
   "outputs": [],
   "source": [
    "liste_sum = []\n",
    "for i in range(classification_dataset_hashtag.shape[0]):\n",
    "    liste_sum.append(classification_dataset_hashtag.iloc[i:i+1,2:].iloc[0].sum())"
   ]
  },
  {
   "cell_type": "code",
   "execution_count": 75,
   "metadata": {},
   "outputs": [],
   "source": [
    "classification_dataset_hashtag['sum'] = liste_sum"
   ]
  },
  {
   "cell_type": "code",
   "execution_count": 77,
   "metadata": {},
   "outputs": [
    {
     "output_type": "execute_result",
     "data": {
      "text/plain": "1.0    464\n2.0    399\n0.0    377\n3.0    157\n4.0     24\n5.0      1\n6.0      1\nName: sum, dtype: int64"
     },
     "metadata": {},
     "execution_count": 77
    }
   ],
   "source": [
    "classification_dataset_hashtag['sum'].value_counts()"
   ]
  },
  {
   "cell_type": "code",
   "execution_count": 58,
   "metadata": {},
   "outputs": [
    {
     "output_type": "display_data",
     "data": {
      "text/plain": "\" CLINICAL HISTORY:  Rasmussen's encephalitis with breakthrough seizures. MEDICATIONS:  Keppra, IVIG, phenobarbital, Klonopin, others. INTRODUCTION:  Continuous video EEG monitoring is performed in the unit.  During a section of the record, the patient has approximately 40 simple partial seizures, all characterized by involuntary movements on the right.  Other seizures can occur out of sleep, but in this 24-hour section almost all the seizures seem to wake him up and are associated with right-sided shaking. The seizures have variable patterns, but all localize to the left hemisphere.  Some seem to start with a beta buzz in the left central region, others with more higher amplitude spike and wave activity.  The interictal activity includes a pattern with excess beta and theta from the right hemisphere.  The left hemisphere demonstrates __________ delta and the epileptiform activity interictally is more of a polyspike activity in the left posterior temporal region or central parietal region. Heart rate 80 bpm. There is no impression or clinical correlation because there are more days to dictate.\""
     },
     "metadata": {}
    },
    {
     "output_type": "display_data",
     "data": {
      "text/plain": "' CLINICAL HISTORY:  41 year old right handed male with Rasmussenâ\\x80\\x99s encephalitis with increasing seizures. MEDICATIONS:  Topiramate, Lacosamide, Phenobarbital, Klonopin, Lipitor, Pantoprazole, Lisinopril INTRODUCTION:  Digital video EEG was performed in lab using standard 10-20 system of electrode placement with channel of EKG.  Photic stimulation was performed. DESCRIPTION OF THE RECORD:  The background EEG is markedly abnormal.  As the record begins, the activity includes a prominent interhemispheric asymmetry.  It is medium amplitude, but slow, primarily theta on the right with some occasional posterior delta.  From there left there is clearly a breach with a high amplitude spike and slow-wave complex at T3 and T5.  It is also picked up at C3/P3. The first seizure occurs within 1 minute with a burst of 14 Hz activity emanating from the left frontal region with frequency evolution.  This is over 4 minutes and 35 seconds into the EEG.  Additional seizure occurs at 4 minutes and 40 seconds, and another similar seizure with the fast activity from the left frontal region at 3 Hz photic stimulation.  In that seizure, focal spiking is noted at T5.  Photic stimulation does not otherwise activate the record. HR:    90 bpm IMPRESSION:  Abnormal EEG due to: Focal slowing to the left hemisphere with disruption of faster frequency activity. Modest slowing from the right. Epileptiform activity in the left hemisphere which may be centrotemporal, left hemispheric, or left posterior temple. Unusual seizure pattern which seems to start with 14 Hz activity from the frontal and frontotemporal regions on the left but ends with a posterior temporal spike. CLINICAL CORRELATION:  This is not substantially different from previous EEG monitoring sessions for this individual, although these seizures are exquisitely focal.  Additional EEG monitoring will be initiated as pharmacotherapy is implemented.'"
     },
     "metadata": {}
    },
    {
     "output_type": "display_data",
     "data": {
      "text/plain": "' CLINICAL HISTORY:  Rasmussen encephalitis. MEDICATIONS:  Vimpat, Topamax, phenobarbital, IVIG, and Solu-Medrol. INTRODUCTION:  Continuous video EEG monitoring is performed for this individual.  He has many seizures typically characterized by right-sided shaking. DESCRIPTION OF THE RECORD:  The majority of the seizures occur on the evening of the 26th with multiple, repetitive focal seizures.  Aside from this, he demonstrates stage 2 sleep with vertex waves, K complexes and spindles.  By the later sections of the record on the 27th, the patient has more significant sections where he is awake, doing well and then drifting off to sleep. This piece of EEG concludes at 3:24 on the 27th. IMPRESSION:'"
     },
     "metadata": {}
    },
    {
     "output_type": "display_data",
     "data": {
      "text/plain": "\" CLINICAL HISTORY:  Rasmussen's encephalitis. MEDICATIONS:  Topamax, IVIG, Glucosamine, phenobarbital. INTRODUCTION:  Digital video EEG with long term EEG monitoring is performed in the long term monitoring unit using standard 10-20 system of electrode placement with 1 channel EKG.  The patient has a tender scalp and the tech sometimes had to modify the electrode placement. DESCRIPTION OF THE RECORD:  The interictal EEG continues to demonstrate focal slowing from the left hemisphere with left posterior temporal sharp waves.  Multiple seizures are identified in the 24 hour section, including in wakefulness and sleep.  The patient does not seem to wake up for all of them.  Stage II sleep, including the 2:00 a.m. to 3:00 a.m. section are prominent.  The nurses were aware of the seizures in sleep.  These seizures seem to be beginning with a burst of fast activity, almost some 10 to 5 Hz which is picked up very close to the midline.  The activity is really very prominent at CZ where it is a 10 Hz discharge.  This evolves to more of a theta frequency pattern and then the posterior temporal spikes continue. Most seizures are under 30 seconds in duration. Heart rate:  80 BPM. By the morning of February 25, 2012, the seizures had improved. IMPRESSION:  Additional EEG recording will follow. CLINICAL CORRELATION:\""
     },
     "metadata": {}
    },
    {
     "output_type": "display_data",
     "data": {
      "text/plain": "' CLINICAL HISTORY:  41 year old right handed male with Rasmussenâ\\x80\\x99s encephalitis with increasing seizures. MEDICATIONS:  Topiramate, Lacosamide, Phenobarbital, Klonopin, Lipitor, Pantoprazole, Lisinopril INTRODUCTION:  Digital video EEG was performed in lab using standard 10-20 system of electrode placement with channel of EKG.  Photic stimulation was performed. DESCRIPTION OF THE RECORD:  The background EEG is markedly abnormal.  As the record begins, the activity includes a prominent interhemispheric asymmetry.  It is medium amplitude, but slow, primarily theta on the right with some occasional posterior delta.  From there left there is clearly a breach with a high amplitude spike and slow-wave complex at T3 and T5.  It is also picked up at C3/P3. The first seizure occurs within 1 minute with a burst of 14 Hz activity emanating from the left frontal region with frequency evolution.  This is over 4 minutes and 35 seconds into the EEG.  Additional seizure occurs at 4 minutes and 40 seconds, and another similar seizure with the fast activity from the left frontal region at 3 Hz photic stimulation.  In that seizure, focal spiking is noted at T5.  Photic stimulation does not otherwise activate the record. HR:    90 bpm IMPRESSION:  Abnormal EEG due to: Focal slowing to the left hemisphere with disruption of faster frequency activity. Modest slowing from the right. Epileptiform activity in the left hemisphere which may be centrotemporal, left hemispheric, or left posterior temple. Unusual seizure pattern which seems to start with 14 Hz activity from the frontal and frontotemporal regions on the left but ends with a posterior temporal spike. CLINICAL CORRELATION:  This is not substantially different from previous EEG monitoring sessions for this individual, although these seizures are exquisitely focal.  Additional EEG monitoring will be initiated as pharmacotherapy is implemented.'"
     },
     "metadata": {}
    },
    {
     "output_type": "display_data",
     "data": {
      "text/plain": "' DATES OF STUDY:  February 23-24, 2012. CLINICAL HISTORY:  Rasmussen encephalitis with increase in seizures. MEDICATIONS:  Vimpat, Topamax, phenobarbital, IVIG, others. INTRODUCTION:  Continuous video EEG monitoring is performed in the unit using standard 10-20 system of electrode placement with one channel of EKG.  This is an awake and asleep record. DESCRIPTION OF THE RECORD:  Random wakefulness and sleep, in wakefulness, the background EEG is somewhat slow from the right hemisphere.  The left hemisphere demonstrates arrhythmic delta activity with a high amplitude left posterior temporal spike complex. Clinical seizures are noted reliably with the patient and nurse and there are more than 20 pushbutton events, approximately 23, all 30-60 seconds in duration.  They are characterized by focal motor activity on the right hemibody.  Electrocardiographically, there is a buzz of mixed 5 and 10 Hz activity in the left hemisphere including the central regions.   There are a handful of seizures that when seizures occur as pairs where there is a bit more of a rhythmic delta pattern that precedes it.  So, if there are 2 seizures together, the second is not as well defined as the first.  Many of the seizures occur in sleep.  Some seem to have a beta buzz early on in the seizure. Heart rate 80 BPM. IMPRESSION:  This 24-hour section of EEG monitoring was remarkable for a large number of seizures.  The most disturbing seem to be have been those that occurred in sleep, but in fact, they were also seen in the early evening hours as well.  There may have been other events that looked like seizures, but were not associated with a pushbutton event and those occurred with the patient off camera, so it is difficult to know if these were clinically significant or not.  Of note, there are other sections in the record where the patient seems to have had seizures while sleeping which did not seem to disrupt his sleep at all.'"
     },
     "metadata": {}
    },
    {
     "output_type": "display_data",
     "data": {
      "text/plain": "' CLINICAL HISTORY:  A 42-year-old gentleman with Rasmussen encephalitis and increasing right-sided weakness as well as 2 tonic-clonic seizures and simple partial seizures. MEDICATIONS:  Vimpat Topamax, phenobarbital, IVIG, and others. INTRODUCTION:  Digital video EEG was performed in the lab using standard 10-20 system of electrode placement with 1-channel EKG.  Hyperventilation was not possible but photic stimulation was completed.  This was an awake and drowsy record. The patient had brief seizures with R jerks just prior to initiation of EEG and had a clinical seizure with eyes closed,  looking left,  and slowed responsiveness DESCRIPTION OF THE RECORD:  In wakefulness, the background EEG demonstrates a marked asymmetry between the 2 hemispheres.  The right hemisphere demonstrates modest background slowing with excess theta.  The left hemisphere demonstrates significant disruption of faster frequency activity.  Frequent sharp waves or spike is noted, high amplitude in the left hemisphere with variable maximum but typically maximum in the left posterior temporal or parietal region.  It sometimes appears in pairs are clusters but without frequency evolution. SEIZURE : 3:32 PM 73 seconds characterized by 5 seconds of R sided, temporal maxima theta after which EEG obscured by muscle. Little post ictal slowing, beyond the abnormal background bilaterally HEART RATE:  72 BPM. IMPRESSIONS:  This is an abnormal EEG due to: Seizure from the right temporal region Left posterior temporal epileptiform discharge with variable maximum. Marked slowing on the left. Mild background slowing and disorganization on the right. CLINICAL CORRELATION:  The focal features on the left are anticipated findings following resection for refractory epilepsy in the left hemisphere.  The seizure recorded in the EEG differs from the patientâ\\x80\\x99s usual seizure and emanates from the right'"
     },
     "metadata": {}
    },
    {
     "output_type": "display_data",
     "data": {
      "text/plain": "\" CLINICAL HISTORY:  A 42-year-old male with Rasmussen's encephalitis, status post left craniotomy with recent focal motor seizure followed by right-sided weakness and then epilepsy partialis continua. MEDICATIONS:  Decadron, phenobarbital, lacosamide, Zocor, others. INTRODUCTION:  Digital video EEG is performed in the lab/bedside using standard 10-20 system of electrode placement with one channel of EKG.  Photic stimulation was completed.  The patient was not experiencing involuntary movements during the EEG.  So this is a technically satisfactory EEG with acceptable impedances, but the craniotomy defect was noted. DESCRIPTION OF THE RECORD:  The background EEG is abnormal and demonstrates an asymmetry.  The right hemisphere is moderately slow with primarily a theta frequency background noted in wakefulness.  The left hemisphere demonstrates more significant arrhythmic delta activity particularly in the left posterior quadrant.  A high amplitude epileptiform discharge, high amplitude spike and slow wave complex is noted.  This demonstrates variable maximum and includes T5, T3, P3 __________.  Some waveforms differ substantially than others in their distribution.  At some point, using an average reference, the reference appears to be the most active focus.  The left posterior temporal or parietal region is the most active area of epileptiform activity. Features of drowsiness include an increase in background slowing. Photic stimulation:  Did appear to accentuate the epileptiform activity. Heart rate 72 bpm. IMPRESSION:  Abnormal EEG due to: Very prominent epileptiform discharge in the left posterior quadrant. Focal slowing with arrhythmic delta activity throughout the left hemisphere, most prominent in the left posterior temporal region. Marked __________ and slowing on the right. Questionable activation of the epileptiform activity on the left with photic stimulation. CLINICAL CORRELATION:  This EEG supports a highly epileptogenic focus in the left hemisphere.  The previous craniotomy may accentuate the amplitude of the activity described above.  For this individual, with complex epileptiform activity, today, the activity is on the left rather than bilateral.\""
     },
     "metadata": {}
    }
   ],
   "source": [
    "# Let's check of several examples \n",
    "target = 'Rasmussen'\n",
    "for report in a[classification_dataset_hashtag[target]==1]['report']:\n",
    "    display(report)"
   ]
  },
  {
   "cell_type": "code",
   "execution_count": 21,
   "metadata": {},
   "outputs": [
    {
     "output_type": "display_data",
     "data": {
      "text/plain": "' CLINICAL HISTORY:  An 82-year-old woman with recent cranial surgery and refractory statue epilepticus. Severe metabolic encephalopathy. MEDICATIONS: \\tDilantin, Depakote, phenobarbital, insulin, digoxin, Lopressor. INTRODUCTION:  Continuous video EEG is performed at bedside in ICU using standard 10-20 system of electrode placement with 1 channel EKG. During the record, including on the 26th, the Phenobarbital was turned off. DESCRIPTION OF THE RECORD: In the initial data on the 24th there are intermittent seizures occurring in the contexts of burst suppression. There are prolonged periods of suppression with brief seizures. However, by 16:28 the EEG is completely suppressed. This section of the record was previously dictated. Additional recording after 16:37 for the following subsequent days includes the following: October 24 to October 25: A suppressed EEG. The patient can be visualized in the unit. Technologist and nurses work with her. The background EEG remains markedly suppressed. October 25 to October 26: Again no definite cerebral activity is observed. The overall activity is very low voltage. Electrode artifacts and other artifacts are observed. There is no variability in the record, although there is some EKG artifact. October 26 to October 27: Background EEG continues to demonstrate an essentially suppressed pattern. There is some artifact picked up in the background. With the use of alternative montages the overall activity appears to be essentially artifactual. CLINICAL HISTORY: This is an 82-year-old female with a history of a right frontal craniotomy for tumor, now in status. MEDICATIONS:  Multiple anesthetic medication, including Propofol, Dilantin INTRODUCTION: Continuous digital video EEG performed using standard 10-20 Hz electrode placement with l channel EKG. Study from 2253 on October 23, 2008 through October 24, 2008 at 1043. DESCRIPTION OF THE RECORD: Due to continuous right frontal sharp waves patient is put higher in a pentobarbital coma. There seems to be more bursts of right frontal sharp waves consistent with the status, but there are some seen as well on the left. Pentobarbital is started at 125. At that time an intermittent suppression pattern is seen. Periods of bursts will go from 30 seconds to 1 minute and 40 seconds. When there is a return of the burst the patient is seen to reenter a status pattern of right frontal greater than left sharp waves, which can last for 20 seconds before there is return of suppression. As the records continues you have longer periods of suppression, but as soon as the patient returns to a burst pattern, again you see the nonconvulsive status pattern of the right predominantly frontal discharges. On the right there is definitely extension of these discharges throughout the hemisphere. A heart rate 60 beats per minute. IMPRESSION: Markedly abnormal EEG due to: 1.\\tPharmacological burst suppression pattern. 2. Bursts of continuous sharp waves seen, right greater than left. CLINICAL CORRELATION: This record is consistent with continuous status throughout the pharmacological burst suppression pattern.'"
     },
     "metadata": {}
    }
   ],
   "source": [
    "# Let's check of several examples \n",
    "target = 'Myoclonic encephalopathy'\n",
    "for report in classification_dataset_hashtag[classification_dataset_hashtag[target]==1]['report']:\n",
    "    display(report)\n",
    "# not working"
   ]
  },
  {
   "cell_type": "markdown",
   "metadata": {},
   "source": [
    "Next steps:\n",
    "- better thesaurus\n",
    "- better threshold\n",
    "- extracting the \"candidates\", store them in dictionary for right \"mistakes\"\n",
    "\n",
    "Seuil à 100%: quelle est la part taguée\n",
    "Examens non tagués: quelle proportion?\n",
    "taguer les médicaments?"
   ]
  },
  {
   "cell_type": "code",
   "execution_count": 92,
   "metadata": {
    "tags": []
   },
   "outputs": [
    {
     "output_type": "stream",
     "name": "stdout",
     "text": "filepath  \\\n220  CR_Patients_info_patients-v0_4/edf/dev/02_tcp_...   \n\n                                                report  BFNE  EME  Ohtahara  \\\n220   CLINICAL HISTORY: This is a 35-year-old woman...     0    0         0   \n\n     Myoclonic encephalopathy  infantile  migrating focal  Unkown  MEI  ...  \\\n220                         0          0                0       0    0  ...   \n\n     Temporoparietal junction  frontal  insular  mutlifocal  occipital  \\\n220                         0        1        0           1          1   \n\n     parietal  external temporal  MTLE with HS  temporal occipital  sum  \n220         0                  0             0                   0  6.0  \n\n[1 rows x 39 columns]\n"
    },
    {
     "output_type": "error",
     "ename": "AttributeError",
     "evalue": "'NoneType' object has no attribute 'values'",
     "traceback": [
      "\u001b[0;31m---------------------------------------------------------------------------\u001b[0m",
      "\u001b[0;31mAttributeError\u001b[0m                            Traceback (most recent call last)",
      "\u001b[0;32m<ipython-input-92-ef4f2a67cde3>\u001b[0m in \u001b[0;36m<module>\u001b[0;34m\u001b[0m\n\u001b[0;32m----> 1\u001b[0;31m \u001b[0mprint\u001b[0m\u001b[0;34m(\u001b[0m\u001b[0mclassification_dataset_hashtag\u001b[0m\u001b[0;34m[\u001b[0m\u001b[0mclassification_dataset_hashtag\u001b[0m\u001b[0;34m[\u001b[0m\u001b[0;34m'sum'\u001b[0m\u001b[0;34m]\u001b[0m \u001b[0;34m==\u001b[0m \u001b[0;36m6\u001b[0m\u001b[0;34m]\u001b[0m\u001b[0;34m)\u001b[0m\u001b[0;34m.\u001b[0m\u001b[0mvalues\u001b[0m\u001b[0;34m\u001b[0m\u001b[0;34m\u001b[0m\u001b[0m\n\u001b[0m",
      "\u001b[0;31mAttributeError\u001b[0m: 'NoneType' object has no attribute 'values'"
     ]
    }
   ],
   "source": [
    "print(classification_dataset_hashtag[classification_dataset_hashtag['sum'] == 6])"
   ]
  },
  {
   "cell_type": "code",
   "execution_count": 89,
   "metadata": {
    "tags": []
   },
   "outputs": [
    {
     "output_type": "stream",
     "name": "stdout",
     "text": "Description: 2.5 to 5 hz spike/wave and polyspike wave Genâl slow Abnormal\n\n MEDICATIONS:  Vimpat, Norvasc, Felbamate, Carnitor, clonidine, Celexa, Lopressor, Topiramate HISTORY:  A 28-year-old male with refractory epilepsy, previously on Seroquel, now with weight loss, failure to thrive, refusing to eat, ambulate or cooperate. INTRODUCTION:  A digital video EEG was performed at the bedside using standard 10-20 system of electrode placement with one channel in EKG.  The patient was poorly cooperative throughout the record.  Occasional muscle twitch artifact was noted. DESCRIPTION OF RECORD:  The background EEG was diffusely slow with a lower voltage beta and theta pattern.  The normal milestones of an awake adult EEG were not identified.\n\n MEDICATIONS:  Vimpat, Norvasc, Felbamate, Carnitor, clonidine, Celexa, Lopressor, Topiramate HISTORY:  A 28-year-old male with refractory epilepsy, previously on Seroquel, now with weight loss, failure to thrive, refusing to eat, ambulate or cooperate. INTRODUCTION:  A digital video EEG was performed at the bedside using standard 10-20 system of electrode placement with one channel in EKG.  The patient was poorly cooperative throughout the record.  Occasional muscle twitch artifact was noted. DESCRIPTION OF RECORD:  The background EEG was diffusely slow with a lower voltage beta and theta pattern.  The normal milestones of an awake adult EEG were not identified.\n\n CLINICAL HISTORY: MEDICATIONS: INTRODUCTION:  This is a continuation of the day 3 and 4 report on this patient for the dates 03/14/2012 to 03/16/2012. DESCRIPTION OF THE RECORD:  Day 3:  At the onset of day 3, there is frequent rhythmic runs of sharp waves seen at F7, T1 and at times at T5 that appear to come and go but have no clear evolution.  However, on 03/15 in the morning at 9:30 a.m., the patient appears to suddenly stop talking on the phone, put herself on the side of her left chest and started rubbing her shirt with her right hand.  The nurses at the bedside started asking her questions, and she could not answer.  Then she started staring at the nurse and exhibiting mouth movements while she continued to rub her chest with her hand.  Afterwards, about 20 seconds later, she started rubbing her chest with her left hand and continued to __________with the left hand.  This continues until the seizure and the left hand movement stops seconds later, and then she just stares and remains unresponsive.  This behavior then stops as the seizure stops.  About 2 minutes and 40 seconds after the seizure, the behavior stops and the seizure ends.  During this time, the EEG reveals at about almost 50 seconds after the clinical onset of the seizure there appears to be an evolving T5 discharge which then appears to increase in frequency from 2 to 4 Hz to 6 Hz and moves more anteriorly, then slowing down before stopping at the end of the seizure.  End of day 3. Day 4:  During day 4, there are multiple nonconvulsive seizures.  The first one is seen at 6:30 p.m. lasting about 4 minutes where the patient is lying in bed and appears to exhibit no movements.  Meanwhile, there is a rhythmic discharge in the left anterior temporal region at F7-T1 that increases and slows down in rhythmicity but continues throughout the recording, at times with larger and smaller superimposed sharp waves.  The next nonconvulsive electrical seizure occurred at 11:31 p.m.  This one appears to begin at T5 and appears to slowly evolve and move more anteriorly to F7-T1.  During it, the patient appears to move but does not clearly appear to exhibit a clinical correlate.  The event ends about 1 minute and 50 seconds later.  End of seizures day 4. IMPRESSION:\n\n CLINICAL HISTORY:  Seizures day 2. MEDICATIONS: INTRODUCTION:  On the recording there were 3 nonclinical seizures detected.  Incidentally, open review of the study the first one occurred at 1:27:42 p.m.  The patient laying in bed listening to the phone and there was no clinical correlate.  There is nice rhythmic delta proceeding to theta of 71 discharge which appears to increase in frequency and end in about 30 seconds.  At 1:30:52 p.m. another similar electrocardiographic seizure occurs for about 40 seconds.  However, the evolution of this one is not as nice as the first one.  At about 6:31 p.m. he has another rhythmic discharge which appears to start in the 2 Hz range, increasing to 5 Hz rhythmically at F7, T1 and again with no clinical correlate, the patient appears to be watching television during this last event.  No other events were recorded during the second 20 hours of day 2. DESCRIPTION OF THE RECORD: IMPRESSION:  The rest of the impression and the correlation will be added at the end of this report.\n\n"
    }
   ],
   "source": [
    "# top 5 with 0 info\n",
    "for i in range(5):\n",
    "    print(classification_dataset_hashtag[classification_dataset_hashtag['sum'] == 0]['report'].iloc[i])\n",
    "    print('')"
   ]
  },
  {
   "cell_type": "markdown",
   "metadata": {},
   "source": [
    "Sortir des rapports \"pauvres\""
   ]
  },
  {
   "cell_type": "markdown",
   "metadata": {},
   "source": [
    "# IV - Rake experiment"
   ]
  },
  {
   "cell_type": "code",
   "execution_count": 18,
   "metadata": {},
   "outputs": [
    {
     "output_type": "execute_result",
     "data": {
      "text/plain": "['isolated high amplitude right hemispheric spike',\n '40 year old right handed male',\n 'characteristic tonic clonic activity obscures',\n 'push button times include 5',\n 'continuous digital video eeg monitoring',\n 'high amplitude sharp waves',\n 'particularly parietal occipital region',\n 'rhythmic mixed theta delta',\n 'bedside using standard 10',\n 'prominent sharp waves',\n 'additional sharp waves',\n 'previous eeg monitoring',\n 'occasional myoclonic jerks',\n 'localization related mechanism',\n 'little bit confused',\n 'blood pressure cuff',\n 'eeg monitor ends',\n 'third seizure type',\n 'hour period includes',\n 'focal motor seizure',\n 'rhythmic repetitive slowing',\n 'complex partial seizures',\n 'seizure time 13',\n 'eeg monitoring',\n 'right leg',\n 'wave activity',\n 'rhythmic slowing',\n 'rhythmic discharge',\n 'entire eeg',\n 'includes actually',\n 'recurrent seizures',\n 'records begins',\n 'movement artifact',\n 'left hemisphere',\n 'left hand',\n 'klonopin introduction',\n 'feeling great',\n 'electrode placement',\n 'clinical history',\n 'clinical correlation',\n 'axial tone',\n 'right',\n 'patient reports',\n 'dad seems',\n 'always associated',\n '40',\n '20 system',\n '2 events',\n '1 channel',\n 'patient seems',\n 'patient describes',\n 'times',\n 'button',\n 'eeg',\n 'seizure',\n '10',\n 'time',\n 'seizures',\n '13',\n 'patient',\n 'seems',\n 'describes',\n 'associated',\n '20',\n '2',\n '1',\n 'unfortunately',\n 'uncomfortable',\n 'things',\n 'support',\n 'subsequently',\n 'stiffening',\n 'spikes',\n 'sitting',\n 'simple',\n 'similar',\n 'seemed',\n 'seem',\n 'section',\n 'responsive',\n 'remarkable',\n 'record',\n 'really',\n 'puts',\n 'pushes',\n 'performed',\n 'observed',\n 'obscure',\n 'nurses',\n 'noted',\n 'nose',\n 'muscle',\n 'much',\n 'moving',\n 'medications',\n 'loss',\n 'lacosamide',\n 'know',\n 'jerking',\n 'impression',\n 'impairment',\n 'helping',\n 'going',\n 'fine',\n 'findings',\n 'even',\n 'epilepsy',\n 'encephalitis',\n 'ekg',\n 'dilantin',\n 'description',\n 'coming',\n 'change',\n 'chair',\n 'borderline',\n 'bed',\n 'back',\n 'awareness',\n 'auras',\n 'aura',\n 'ativan',\n 'although',\n '56',\n '4',\n '35',\n '34',\n '30',\n '3',\n '29',\n '24',\n '23',\n '15',\n '05',\n '00']"
     },
     "metadata": {},
     "execution_count": 18
    }
   ],
   "source": [
    "from rake_nltk import Rake\n",
    "\n",
    "r = Rake() # Uses stopwords for english from NLTK, and all puntuation characters.\n",
    "\n",
    "r.extract_keywords_from_text(research_similarity('temporal epilepsy')['report'][191])\n",
    "\n",
    "r.get_ranked_phrases() # To get keyword phrases ranked highest to lowest."
   ]
  },
  {
   "cell_type": "code",
   "execution_count": null,
   "metadata": {},
   "outputs": [],
   "source": []
  }
 ],
 "metadata": {
  "language_info": {
   "codemirror_mode": {
    "name": "ipython",
    "version": 3
   },
   "file_extension": ".py",
   "mimetype": "text/x-python",
   "name": "python",
   "nbconvert_exporter": "python",
   "pygments_lexer": "ipython3",
   "version": 3
  },
  "orig_nbformat": 2,
  "kernelspec": {
   "name": "python_defaultSpec_1594298509212",
   "display_name": "Python 3.8.3 64-bit ('datascience': conda)"
  }
 },
 "nbformat": 4,
 "nbformat_minor": 2
}