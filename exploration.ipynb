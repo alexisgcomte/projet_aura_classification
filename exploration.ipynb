{
 "cells": [
  {
   "cell_type": "code",
   "execution_count": 2,
   "metadata": {},
   "outputs": [],
   "source": [
    "import pandas as pd"
   ]
  },
  {
   "cell_type": "code",
   "execution_count": 18,
   "metadata": {},
   "outputs": [
    {
     "output_type": "execute_result",
     "data": {
      "text/plain": "  classification_E          catégorie  \\\n0               E1  Période néonatale   \n1               E2  Période néonatale   \n2               E3  Période néonatale   \n3              E31         Nourrisons   \n4              E33         Nourrisons   \n\n                                         symptome-fr  \\\n0                Encéphalopathie myoclonique précoce   \n1       Epilepsie néonatale familiale bénigne (BFNE)   \n2                                Syndrome d'ohtahara   \n3  Encépahlopathie myoclonique des affections non...   \n4                     Epilepsie benigne du nourisson   \n\n                                         symptome-en CIM_10    CIM11  Orphanet  \n0           Benign familial neonatal epilepsy (BFNE)  G40.8  8A61.0Y    1935.0  \n1               Early myoclonic encephalopathy (EME)  G40.8  8A61.10    1949.0  \n2                                  Ohtahara syndrome  G40.8   8A62.Y    1934.0  \n3  Myoclonic encephalopathy in nonprogressive dis...  G40.4   8A62.Y   86913.0  \n4                          Benign infantile epilepsy  G40.3  8A61.1Z  166302.0  ",
      "text/html": "<div>\n<style scoped>\n    .dataframe tbody tr th:only-of-type {\n        vertical-align: middle;\n    }\n\n    .dataframe tbody tr th {\n        vertical-align: top;\n    }\n\n    .dataframe thead th {\n        text-align: right;\n    }\n</style>\n<table border=\"1\" class=\"dataframe\">\n  <thead>\n    <tr style=\"text-align: right;\">\n      <th></th>\n      <th>classification_E</th>\n      <th>catégorie</th>\n      <th>symptome-fr</th>\n      <th>symptome-en</th>\n      <th>CIM_10</th>\n      <th>CIM11</th>\n      <th>Orphanet</th>\n    </tr>\n  </thead>\n  <tbody>\n    <tr>\n      <th>0</th>\n      <td>E1</td>\n      <td>Période néonatale</td>\n      <td>Encéphalopathie myoclonique précoce</td>\n      <td>Benign familial neonatal epilepsy (BFNE)</td>\n      <td>G40.8</td>\n      <td>8A61.0Y</td>\n      <td>1935.0</td>\n    </tr>\n    <tr>\n      <th>1</th>\n      <td>E2</td>\n      <td>Période néonatale</td>\n      <td>Epilepsie néonatale familiale bénigne (BFNE)</td>\n      <td>Early myoclonic encephalopathy (EME)</td>\n      <td>G40.8</td>\n      <td>8A61.10</td>\n      <td>1949.0</td>\n    </tr>\n    <tr>\n      <th>2</th>\n      <td>E3</td>\n      <td>Période néonatale</td>\n      <td>Syndrome d'ohtahara</td>\n      <td>Ohtahara syndrome</td>\n      <td>G40.8</td>\n      <td>8A62.Y</td>\n      <td>1934.0</td>\n    </tr>\n    <tr>\n      <th>3</th>\n      <td>E31</td>\n      <td>Nourrisons</td>\n      <td>Encépahlopathie myoclonique des affections non...</td>\n      <td>Myoclonic encephalopathy in nonprogressive dis...</td>\n      <td>G40.4</td>\n      <td>8A62.Y</td>\n      <td>86913.0</td>\n    </tr>\n    <tr>\n      <th>4</th>\n      <td>E33</td>\n      <td>Nourrisons</td>\n      <td>Epilepsie benigne du nourisson</td>\n      <td>Benign infantile epilepsy</td>\n      <td>G40.3</td>\n      <td>8A61.1Z</td>\n      <td>166302.0</td>\n    </tr>\n  </tbody>\n</table>\n</div>"
     },
     "metadata": {},
     "execution_count": 18
    }
   ],
   "source": [
    "# loading thesaurus\n",
    "thesaurus = pd.read_csv('Other documents/thesaurus_key_words.csv', encoding=\"ISO-8859-1\", sep=';')\n",
    "thesaurus.head()"
   ]
  },
  {
   "cell_type": "code",
   "execution_count": 19,
   "metadata": {},
   "outputs": [
    {
     "output_type": "execute_result",
     "data": {
      "text/plain": "            Exam_name  Patient_name  \\\n0  00004671_s006_t000          4671   \n1  00004671_s008_t000          4671   \n2  00004671_s011_t006          4671   \n3  00004671_s011_t005          4671   \n4  00004671_s011_t003          4671   \n\n                               RR_intervals_filepath  \\\n0  ./../TU_EEG_Seizures_processed/v0_4/res-v0_4/d...   \n1  ./../TU_EEG_Seizures_processed/v0_4/res-v0_4/d...   \n2  ./../TU_EEG_Seizures_processed/v0_4/res-v0_4/d...   \n3  ./../TU_EEG_Seizures_processed/v0_4/res-v0_4/d...   \n4  ./../TU_EEG_Seizures_processed/v0_4/res-v0_4/d...   \n\n                                      Feats_filepath  \\\n0  ./../TU_EEG_Seizures_processed/v0_4/feats-v0_4...   \n1  ./../TU_EEG_Seizures_processed/v0_4/feats-v0_4...   \n2  ./../TU_EEG_Seizures_processed/v0_4/feats-v0_4...   \n3  ./../TU_EEG_Seizures_processed/v0_4/feats-v0_4...   \n4  ./../TU_EEG_Seizures_processed/v0_4/feats-v0_4...   \n\n                                Annotations_filepath  \\\n0  ./../TU_EEG_Seizures_processed/v0_4/annot-v0_4...   \n1  ./../TU_EEG_Seizures_processed/v0_4/annot-v0_4...   \n2  ./../TU_EEG_Seizures_processed/v0_4/annot-v0_4...   \n3  ./../TU_EEG_Seizures_processed/v0_4/annot-v0_4...   \n4  ./../TU_EEG_Seizures_processed/v0_4/annot-v0_4...   \n\n                              Patient_infos_filepath  \n0  ./../TU_EEG_Seizures_processed/v0_4/info-patie...  \n1  ./../TU_EEG_Seizures_processed/v0_4/info-patie...  \n2  ./../TU_EEG_Seizures_processed/v0_4/info-patie...  \n3  ./../TU_EEG_Seizures_processed/v0_4/info-patie...  \n4  ./../TU_EEG_Seizures_processed/v0_4/info-patie...  ",
      "text/html": "<div>\n<style scoped>\n    .dataframe tbody tr th:only-of-type {\n        vertical-align: middle;\n    }\n\n    .dataframe tbody tr th {\n        vertical-align: top;\n    }\n\n    .dataframe thead th {\n        text-align: right;\n    }\n</style>\n<table border=\"1\" class=\"dataframe\">\n  <thead>\n    <tr style=\"text-align: right;\">\n      <th></th>\n      <th>Exam_name</th>\n      <th>Patient_name</th>\n      <th>RR_intervals_filepath</th>\n      <th>Feats_filepath</th>\n      <th>Annotations_filepath</th>\n      <th>Patient_infos_filepath</th>\n    </tr>\n  </thead>\n  <tbody>\n    <tr>\n      <th>0</th>\n      <td>00004671_s006_t000</td>\n      <td>4671</td>\n      <td>./../TU_EEG_Seizures_processed/v0_4/res-v0_4/d...</td>\n      <td>./../TU_EEG_Seizures_processed/v0_4/feats-v0_4...</td>\n      <td>./../TU_EEG_Seizures_processed/v0_4/annot-v0_4...</td>\n      <td>./../TU_EEG_Seizures_processed/v0_4/info-patie...</td>\n    </tr>\n    <tr>\n      <th>1</th>\n      <td>00004671_s008_t000</td>\n      <td>4671</td>\n      <td>./../TU_EEG_Seizures_processed/v0_4/res-v0_4/d...</td>\n      <td>./../TU_EEG_Seizures_processed/v0_4/feats-v0_4...</td>\n      <td>./../TU_EEG_Seizures_processed/v0_4/annot-v0_4...</td>\n      <td>./../TU_EEG_Seizures_processed/v0_4/info-patie...</td>\n    </tr>\n    <tr>\n      <th>2</th>\n      <td>00004671_s011_t006</td>\n      <td>4671</td>\n      <td>./../TU_EEG_Seizures_processed/v0_4/res-v0_4/d...</td>\n      <td>./../TU_EEG_Seizures_processed/v0_4/feats-v0_4...</td>\n      <td>./../TU_EEG_Seizures_processed/v0_4/annot-v0_4...</td>\n      <td>./../TU_EEG_Seizures_processed/v0_4/info-patie...</td>\n    </tr>\n    <tr>\n      <th>3</th>\n      <td>00004671_s011_t005</td>\n      <td>4671</td>\n      <td>./../TU_EEG_Seizures_processed/v0_4/res-v0_4/d...</td>\n      <td>./../TU_EEG_Seizures_processed/v0_4/feats-v0_4...</td>\n      <td>./../TU_EEG_Seizures_processed/v0_4/annot-v0_4...</td>\n      <td>./../TU_EEG_Seizures_processed/v0_4/info-patie...</td>\n    </tr>\n    <tr>\n      <th>4</th>\n      <td>00004671_s011_t003</td>\n      <td>4671</td>\n      <td>./../TU_EEG_Seizures_processed/v0_4/res-v0_4/d...</td>\n      <td>./../TU_EEG_Seizures_processed/v0_4/feats-v0_4...</td>\n      <td>./../TU_EEG_Seizures_processed/v0_4/annot-v0_4...</td>\n      <td>./../TU_EEG_Seizures_processed/v0_4/info-patie...</td>\n    </tr>\n  </tbody>\n</table>\n</div>"
     },
     "metadata": {},
     "execution_count": 19
    }
   ],
   "source": [
    "# Loading link database\n",
    "database =  pd.read_csv('Other documents/Database_links.csv')\n",
    "database.head()"
   ]
  },
  {
   "cell_type": "code",
   "execution_count": null,
   "metadata": {},
   "outputs": [],
   "source": [
    "# loading on filetext for test"
   ]
  }
 ],
 "metadata": {
  "language_info": {
   "codemirror_mode": {
    "name": "ipython",
    "version": 3
   },
   "file_extension": ".py",
   "mimetype": "text/x-python",
   "name": "python",
   "nbconvert_exporter": "python",
   "pygments_lexer": "ipython3",
   "version": 3
  },
  "orig_nbformat": 2,
  "kernelspec": {
   "name": "python_defaultSpec_1594027462110",
   "display_name": "Python 3.8.3 64-bit ('datascience': conda)"
  }
 },
 "nbformat": 4,
 "nbformat_minor": 2
}