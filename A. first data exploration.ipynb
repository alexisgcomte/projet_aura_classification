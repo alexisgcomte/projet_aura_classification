{
 "cells": [
  {
   "cell_type": "code",
   "execution_count": 1,
   "metadata": {},
   "outputs": [],
   "source": [
    "import pandas as pd"
   ]
  },
  {
   "cell_type": "markdown",
   "metadata": {},
   "source": [
    "# I. Data loading and preparation"
   ]
  },
  {
   "cell_type": "code",
   "execution_count": 10,
   "metadata": {},
   "outputs": [
    {
     "output_type": "execute_result",
     "data": {
      "text/plain": "  classification_E          catégorie  \\\n0               E1  Période néonatale   \n1               E2  Période néonatale   \n2               E3  Période néonatale   \n3              E31         Nourrisons   \n4              E33         Nourrisons   \n\n                                         symptome-fr  \\\n0                Encéphalopathie myoclonique précoce   \n1       Epilepsie néonatale familiale bénigne (BFNE)   \n2                                Syndrome d'ohtahara   \n3  Encépahlopathie myoclonique des affections non...   \n4                     Epilepsie benigne du nourisson   \n\n                                         symptome-en CIM_10    CIM11  Orphanet  \n0           Benign familial neonatal epilepsy (BFNE)  G40.8  8A61.0Y    1935.0  \n1               Early myoclonic encephalopathy (EME)  G40.8  8A61.10    1949.0  \n2                                  Ohtahara syndrome  G40.8   8A62.Y    1934.0  \n3  Myoclonic encephalopathy in nonprogressive dis...  G40.4   8A62.Y   86913.0  \n4                          Benign infantile epilepsy  G40.3  8A61.1Z  166302.0  ",
      "text/html": "<div>\n<style scoped>\n    .dataframe tbody tr th:only-of-type {\n        vertical-align: middle;\n    }\n\n    .dataframe tbody tr th {\n        vertical-align: top;\n    }\n\n    .dataframe thead th {\n        text-align: right;\n    }\n</style>\n<table border=\"1\" class=\"dataframe\">\n  <thead>\n    <tr style=\"text-align: right;\">\n      <th></th>\n      <th>classification_E</th>\n      <th>catégorie</th>\n      <th>symptome-fr</th>\n      <th>symptome-en</th>\n      <th>CIM_10</th>\n      <th>CIM11</th>\n      <th>Orphanet</th>\n    </tr>\n  </thead>\n  <tbody>\n    <tr>\n      <th>0</th>\n      <td>E1</td>\n      <td>Période néonatale</td>\n      <td>Encéphalopathie myoclonique précoce</td>\n      <td>Benign familial neonatal epilepsy (BFNE)</td>\n      <td>G40.8</td>\n      <td>8A61.0Y</td>\n      <td>1935.0</td>\n    </tr>\n    <tr>\n      <th>1</th>\n      <td>E2</td>\n      <td>Période néonatale</td>\n      <td>Epilepsie néonatale familiale bénigne (BFNE)</td>\n      <td>Early myoclonic encephalopathy (EME)</td>\n      <td>G40.8</td>\n      <td>8A61.10</td>\n      <td>1949.0</td>\n    </tr>\n    <tr>\n      <th>2</th>\n      <td>E3</td>\n      <td>Période néonatale</td>\n      <td>Syndrome d'ohtahara</td>\n      <td>Ohtahara syndrome</td>\n      <td>G40.8</td>\n      <td>8A62.Y</td>\n      <td>1934.0</td>\n    </tr>\n    <tr>\n      <th>3</th>\n      <td>E31</td>\n      <td>Nourrisons</td>\n      <td>Encépahlopathie myoclonique des affections non...</td>\n      <td>Myoclonic encephalopathy in nonprogressive dis...</td>\n      <td>G40.4</td>\n      <td>8A62.Y</td>\n      <td>86913.0</td>\n    </tr>\n    <tr>\n      <th>4</th>\n      <td>E33</td>\n      <td>Nourrisons</td>\n      <td>Epilepsie benigne du nourisson</td>\n      <td>Benign infantile epilepsy</td>\n      <td>G40.3</td>\n      <td>8A61.1Z</td>\n      <td>166302.0</td>\n    </tr>\n  </tbody>\n</table>\n</div>"
     },
     "metadata": {},
     "execution_count": 10
    }
   ],
   "source": [
    "# loading thesaurus\n",
    "thesaurus = pd.read_csv('1. Data/thesaurus_key_words.csv', encoding=\"ISO-8859-1\", sep=';')\n",
    "thesaurus.head()"
   ]
  },
  {
   "cell_type": "code",
   "execution_count": 11,
   "metadata": {},
   "outputs": [
    {
     "output_type": "execute_result",
     "data": {
      "text/plain": "            Exam_name  Patient_name  \\\n0  00004671_s006_t000          4671   \n1  00004671_s008_t000          4671   \n2  00004671_s011_t006          4671   \n3  00004671_s011_t005          4671   \n4  00004671_s011_t003          4671   \n\n                               RR_intervals_filepath  \\\n0  ./../TU_EEG_Seizures_processed/v0_4/res-v0_4/d...   \n1  ./../TU_EEG_Seizures_processed/v0_4/res-v0_4/d...   \n2  ./../TU_EEG_Seizures_processed/v0_4/res-v0_4/d...   \n3  ./../TU_EEG_Seizures_processed/v0_4/res-v0_4/d...   \n4  ./../TU_EEG_Seizures_processed/v0_4/res-v0_4/d...   \n\n                                      Feats_filepath  \\\n0  ./../TU_EEG_Seizures_processed/v0_4/feats-v0_4...   \n1  ./../TU_EEG_Seizures_processed/v0_4/feats-v0_4...   \n2  ./../TU_EEG_Seizures_processed/v0_4/feats-v0_4...   \n3  ./../TU_EEG_Seizures_processed/v0_4/feats-v0_4...   \n4  ./../TU_EEG_Seizures_processed/v0_4/feats-v0_4...   \n\n                                Annotations_filepath  \\\n0  ./../TU_EEG_Seizures_processed/v0_4/annot-v0_4...   \n1  ./../TU_EEG_Seizures_processed/v0_4/annot-v0_4...   \n2  ./../TU_EEG_Seizures_processed/v0_4/annot-v0_4...   \n3  ./../TU_EEG_Seizures_processed/v0_4/annot-v0_4...   \n4  ./../TU_EEG_Seizures_processed/v0_4/annot-v0_4...   \n\n                              Patient_infos_filepath  \n0  ./../TU_EEG_Seizures_processed/v0_4/info-patie...  \n1  ./../TU_EEG_Seizures_processed/v0_4/info-patie...  \n2  ./../TU_EEG_Seizures_processed/v0_4/info-patie...  \n3  ./../TU_EEG_Seizures_processed/v0_4/info-patie...  \n4  ./../TU_EEG_Seizures_processed/v0_4/info-patie...  ",
      "text/html": "<div>\n<style scoped>\n    .dataframe tbody tr th:only-of-type {\n        vertical-align: middle;\n    }\n\n    .dataframe tbody tr th {\n        vertical-align: top;\n    }\n\n    .dataframe thead th {\n        text-align: right;\n    }\n</style>\n<table border=\"1\" class=\"dataframe\">\n  <thead>\n    <tr style=\"text-align: right;\">\n      <th></th>\n      <th>Exam_name</th>\n      <th>Patient_name</th>\n      <th>RR_intervals_filepath</th>\n      <th>Feats_filepath</th>\n      <th>Annotations_filepath</th>\n      <th>Patient_infos_filepath</th>\n    </tr>\n  </thead>\n  <tbody>\n    <tr>\n      <th>0</th>\n      <td>00004671_s006_t000</td>\n      <td>4671</td>\n      <td>./../TU_EEG_Seizures_processed/v0_4/res-v0_4/d...</td>\n      <td>./../TU_EEG_Seizures_processed/v0_4/feats-v0_4...</td>\n      <td>./../TU_EEG_Seizures_processed/v0_4/annot-v0_4...</td>\n      <td>./../TU_EEG_Seizures_processed/v0_4/info-patie...</td>\n    </tr>\n    <tr>\n      <th>1</th>\n      <td>00004671_s008_t000</td>\n      <td>4671</td>\n      <td>./../TU_EEG_Seizures_processed/v0_4/res-v0_4/d...</td>\n      <td>./../TU_EEG_Seizures_processed/v0_4/feats-v0_4...</td>\n      <td>./../TU_EEG_Seizures_processed/v0_4/annot-v0_4...</td>\n      <td>./../TU_EEG_Seizures_processed/v0_4/info-patie...</td>\n    </tr>\n    <tr>\n      <th>2</th>\n      <td>00004671_s011_t006</td>\n      <td>4671</td>\n      <td>./../TU_EEG_Seizures_processed/v0_4/res-v0_4/d...</td>\n      <td>./../TU_EEG_Seizures_processed/v0_4/feats-v0_4...</td>\n      <td>./../TU_EEG_Seizures_processed/v0_4/annot-v0_4...</td>\n      <td>./../TU_EEG_Seizures_processed/v0_4/info-patie...</td>\n    </tr>\n    <tr>\n      <th>3</th>\n      <td>00004671_s011_t005</td>\n      <td>4671</td>\n      <td>./../TU_EEG_Seizures_processed/v0_4/res-v0_4/d...</td>\n      <td>./../TU_EEG_Seizures_processed/v0_4/feats-v0_4...</td>\n      <td>./../TU_EEG_Seizures_processed/v0_4/annot-v0_4...</td>\n      <td>./../TU_EEG_Seizures_processed/v0_4/info-patie...</td>\n    </tr>\n    <tr>\n      <th>4</th>\n      <td>00004671_s011_t003</td>\n      <td>4671</td>\n      <td>./../TU_EEG_Seizures_processed/v0_4/res-v0_4/d...</td>\n      <td>./../TU_EEG_Seizures_processed/v0_4/feats-v0_4...</td>\n      <td>./../TU_EEG_Seizures_processed/v0_4/annot-v0_4...</td>\n      <td>./../TU_EEG_Seizures_processed/v0_4/info-patie...</td>\n    </tr>\n  </tbody>\n</table>\n</div>"
     },
     "metadata": {},
     "execution_count": 11
    }
   ],
   "source": [
    "# Loading link database\n",
    "database =  pd.read_csv('1. Data/Database_links.csv')\n",
    "database.head()"
   ]
  },
  {
   "cell_type": "code",
   "execution_count": 12,
   "metadata": {},
   "outputs": [],
   "source": [
    "# Keeping only relevant columns of the database\n",
    "database = database[['Exam_name', 'Patient_name','Patient_infos_filepath']]"
   ]
  },
  {
   "cell_type": "code",
   "execution_count": 13,
   "metadata": {
    "tags": []
   },
   "outputs": [
    {
     "output_type": "stream",
     "name": "stdout",
     "text": "./../TU_EEG_Seizures_processed/v0_4/info-patients-v0_4/edf/dev/01_tcp_ar/046/00004671/s006_2010_10_06/00004671_s006.txt\n"
    }
   ],
   "source": [
    "# Let's see an example of the the file path\n",
    "print(database['Patient_infos_filepath'][0])"
   ]
  },
  {
   "cell_type": "code",
   "execution_count": 14,
   "metadata": {},
   "outputs": [
    {
     "output_type": "execute_result",
     "data": {
      "text/plain": "            Exam_name  Patient_name  \\\n0  00004671_s006_t000          4671   \n1  00004671_s008_t000          4671   \n2  00004671_s011_t006          4671   \n3  00004671_s011_t005          4671   \n4  00004671_s011_t003          4671   \n\n                              Patient_infos_filepath  \n0  1. Data/CR_Patients_info_patients-v0_4/edf/dev...  \n1  1. Data/CR_Patients_info_patients-v0_4/edf/dev...  \n2  1. Data/CR_Patients_info_patients-v0_4/edf/dev...  \n3  1. Data/CR_Patients_info_patients-v0_4/edf/dev...  \n4  1. Data/CR_Patients_info_patients-v0_4/edf/dev...  ",
      "text/html": "<div>\n<style scoped>\n    .dataframe tbody tr th:only-of-type {\n        vertical-align: middle;\n    }\n\n    .dataframe tbody tr th {\n        vertical-align: top;\n    }\n\n    .dataframe thead th {\n        text-align: right;\n    }\n</style>\n<table border=\"1\" class=\"dataframe\">\n  <thead>\n    <tr style=\"text-align: right;\">\n      <th></th>\n      <th>Exam_name</th>\n      <th>Patient_name</th>\n      <th>Patient_infos_filepath</th>\n    </tr>\n  </thead>\n  <tbody>\n    <tr>\n      <th>0</th>\n      <td>00004671_s006_t000</td>\n      <td>4671</td>\n      <td>1. Data/CR_Patients_info_patients-v0_4/edf/dev...</td>\n    </tr>\n    <tr>\n      <th>1</th>\n      <td>00004671_s008_t000</td>\n      <td>4671</td>\n      <td>1. Data/CR_Patients_info_patients-v0_4/edf/dev...</td>\n    </tr>\n    <tr>\n      <th>2</th>\n      <td>00004671_s011_t006</td>\n      <td>4671</td>\n      <td>1. Data/CR_Patients_info_patients-v0_4/edf/dev...</td>\n    </tr>\n    <tr>\n      <th>3</th>\n      <td>00004671_s011_t005</td>\n      <td>4671</td>\n      <td>1. Data/CR_Patients_info_patients-v0_4/edf/dev...</td>\n    </tr>\n    <tr>\n      <th>4</th>\n      <td>00004671_s011_t003</td>\n      <td>4671</td>\n      <td>1. Data/CR_Patients_info_patients-v0_4/edf/dev...</td>\n    </tr>\n  </tbody>\n</table>\n</div>"
     },
     "metadata": {},
     "execution_count": 14
    }
   ],
   "source": [
    "# We have to adapt the link for proper use by changing './../TU_EEG_Seizures_processed/v0_4/info-patients-v0_4' for 'CR_Patients_info_patients-v0_4'\n",
    "\n",
    "database['Patient_infos_filepath'] = database['Patient_infos_filepath'].apply(lambda x: '1. Data/CR_Patients_info_patients-v0_4' + x[len('./../TU_EEG_Seizures_processed/v0_4/info-patients-v0_4'):])\n",
    "database.head()"
   ]
  },
  {
   "cell_type": "code",
   "execution_count": 15,
   "metadata": {
    "tags": []
   },
   "outputs": [
    {
     "output_type": "stream",
     "name": "stdout",
     "text": "Unique values:\n1423\nNumber total of values:\n5610\n"
    }
   ],
   "source": [
    "# Are some reports there several times?\n",
    "print('Unique values:')\n",
    "print(len(database['Patient_infos_filepath'].unique()))\n",
    "print('Number total of values:')\n",
    "print(database.shape[0])\n"
   ]
  },
  {
   "cell_type": "markdown",
   "metadata": {},
   "source": [
    "Lots of reports are there several times. We will therefore create a new dataframe with only unique values"
   ]
  },
  {
   "cell_type": "code",
   "execution_count": 16,
   "metadata": {
    "tags": []
   },
   "outputs": [
    {
     "output_type": "stream",
     "name": "stdout",
     "text": "(1423, 1)\n"
    },
    {
     "output_type": "execute_result",
     "data": {
      "text/plain": "                                            filepath\n0  1. Data/CR_Patients_info_patients-v0_4/edf/dev...\n1  1. Data/CR_Patients_info_patients-v0_4/edf/dev...\n2  1. Data/CR_Patients_info_patients-v0_4/edf/dev...\n3  1. Data/CR_Patients_info_patients-v0_4/edf/dev...\n4  1. Data/CR_Patients_info_patients-v0_4/edf/dev...",
      "text/html": "<div>\n<style scoped>\n    .dataframe tbody tr th:only-of-type {\n        vertical-align: middle;\n    }\n\n    .dataframe tbody tr th {\n        vertical-align: top;\n    }\n\n    .dataframe thead th {\n        text-align: right;\n    }\n</style>\n<table border=\"1\" class=\"dataframe\">\n  <thead>\n    <tr style=\"text-align: right;\">\n      <th></th>\n      <th>filepath</th>\n    </tr>\n  </thead>\n  <tbody>\n    <tr>\n      <th>0</th>\n      <td>1. Data/CR_Patients_info_patients-v0_4/edf/dev...</td>\n    </tr>\n    <tr>\n      <th>1</th>\n      <td>1. Data/CR_Patients_info_patients-v0_4/edf/dev...</td>\n    </tr>\n    <tr>\n      <th>2</th>\n      <td>1. Data/CR_Patients_info_patients-v0_4/edf/dev...</td>\n    </tr>\n    <tr>\n      <th>3</th>\n      <td>1. Data/CR_Patients_info_patients-v0_4/edf/dev...</td>\n    </tr>\n    <tr>\n      <th>4</th>\n      <td>1. Data/CR_Patients_info_patients-v0_4/edf/dev...</td>\n    </tr>\n  </tbody>\n</table>\n</div>"
     },
     "metadata": {},
     "execution_count": 16
    }
   ],
   "source": [
    "classification_dataset = pd.DataFrame(database['Patient_infos_filepath'].unique(), columns=['filepath'])\n",
    "print(classification_dataset.shape)\n",
    "classification_dataset.head()"
   ]
  },
  {
   "cell_type": "code",
   "execution_count": 17,
   "metadata": {
    "tags": []
   },
   "outputs": [
    {
     "output_type": "stream",
     "name": "stdout",
     "text": "_________0_________\n                                           0\n0                               Description:\n1  2.5 to 5 hz spike/wave and polyspike wave\n2                                 Gen’l slow\n3                                   Abnormal\n__________________\n_________1_________\n                                                   0\n0  LENGTH OF THE RECORDING:  22 minutes and 53 se...\n1  CLINICAL HISTORY:  The patient is a 27-year-ol...\n2  MEDICATIONS:  Ativan, Dilantin, clonazepam, ch...\n3  INTRODUCTION:  Digital video EEG is performed ...\n4  DESCRIPTION OF THE RECORD:  During maximal wak...\n5                                          FINDINGS:\n6                           1. Mild diffuse slowing.\n7  2. Runs of non-evolving frontocentral theta ac...\n8  3. Isolated diffuse frontally predominant slow...\n9  IMPRESSION:  This is a very abnormal EEG due t...\n__________________\n_________2_________\n                                                   0\n0  MEDICATIONS:  Vimpat, Norvasc, Felbamate, Carn...\n1  HISTORY:  A 28-year-old male with refractory e...\n2  INTRODUCTION:  A digital video EEG was perform...\n3  DESCRIPTION OF RECORD:  The background EEG was...\n__________________\n_________3_________\n                                                   0\n0  CLINICAL HISTORY:  27 year old gentleman with ...\n1  MEDICATIONS:  Vimpat, Dilantin, Ativan, Klonop...\n2  INTRODUCTION:  Digital video EEG was performed...\n3  DESCRIPTION OF THE RECORD:  The background EEG...\n4                                          HR:   N/A\n5                  IMPRESSION:  Abnormal EEG due to:\n6                      Markedly abnormal background.\n7  Bursts of paroxysmal fast activity with associ...\n8  CLINICAL CORRELATION:  The bursts of paroxysma...\n__________________\n_________4_________\n                                                   0\n0  MEDICATIONS:  Vimpat, Norvasc, Felbamate, Carn...\n1  HISTORY:  A 28-year-old male with refractory e...\n2  INTRODUCTION:  A digital video EEG was perform...\n3  DESCRIPTION OF RECORD:  The background EEG was...\n__________________\n"
    }
   ],
   "source": [
    "# Let's explore the first 5 files in particular\n",
    "for i in range(5):\n",
    "    print('_________' +str(i) +'_________')\n",
    "    sample_file = pd.read_csv(classification_dataset['filepath'][i], sep='\\n', header=None)\n",
    "    print(sample_file)\n",
    "    print('__________________')"
   ]
  },
  {
   "cell_type": "markdown",
   "metadata": {},
   "source": [
    "Files are more or less complete but it seems we could make index with the structure (History, Introduction, etc). But for the moment, we will only load all of them concatenated to focus on the words only."
   ]
  },
  {
   "cell_type": "code",
   "execution_count": 18,
   "metadata": {
    "tags": []
   },
   "outputs": [
    {
     "output_type": "stream",
     "name": "stdout",
     "text": "CPU times: user 0 ns, sys: 0 ns, total: 0 ns\nWall time: 6.91 µs\nError for:  1. Data/CR_Patients_info_patients-v0_4/edf/train/02_tcp_le/051/00005103/s002_2009_06_04/00005103_s002.txt\n\n\n____________________\n\n\n                                            filepath  \\\n0  1. Data/CR_Patients_info_patients-v0_4/edf/dev...   \n1  1. Data/CR_Patients_info_patients-v0_4/edf/dev...   \n2  1. Data/CR_Patients_info_patients-v0_4/edf/dev...   \n3  1. Data/CR_Patients_info_patients-v0_4/edf/dev...   \n4  1. Data/CR_Patients_info_patients-v0_4/edf/dev...   \n\n                                              report  \n0   Description: 2.5 to 5 hz spike/wave and polys...  \n1   LENGTH OF THE RECORDING:  22 minutes and 53 s...  \n2   MEDICATIONS:  Vimpat, Norvasc, Felbamate, Car...  \n3   CLINICAL HISTORY:  27 year old gentleman with...  \n4   MEDICATIONS:  Vimpat, Norvasc, Felbamate, Car...  \n"
    }
   ],
   "source": [
    "# Let's create of function to merge all text into one\n",
    "\n",
    "def load_and_merge(filepath):\n",
    "    try:\n",
    "        report = pd.read_csv(filepath, sep= '\\n', header=None, encoding='ISO-8859-1')\n",
    "        merged_report = ''\n",
    "        for i in report.index:\n",
    "            merged_report += ' ' + report[0][i]\n",
    "        return merged_report\n",
    "    except:\n",
    "        print('Error for: ', filepath)\n",
    "        return 'Not loaded'\n",
    "\n",
    "# We will load it in the database\n",
    "%time\n",
    "\n",
    "classification_dataset['report'] = classification_dataset['filepath'].apply(lambda x: load_and_merge(x))\n",
    "\n",
    "print('\\n')\n",
    "print('____________________')\n",
    "print('\\n')\n",
    "print(classification_dataset.head())"
   ]
  },
  {
   "cell_type": "markdown",
   "metadata": {},
   "source": [
    "There was only an error for 1 file, we will go on and fix it for production later."
   ]
  },
  {
   "cell_type": "code",
   "execution_count": 21,
   "metadata": {},
   "outputs": [],
   "source": [
    "# Now, we will save the dataset for later use\n",
    "classification_dataset.to_csv('2. Results/Classification_dataset.csv', index=False)"
   ]
  }
 ],
 "metadata": {
  "language_info": {
   "codemirror_mode": {
    "name": "ipython",
    "version": 3
   },
   "file_extension": ".py",
   "mimetype": "text/x-python",
   "name": "python",
   "nbconvert_exporter": "python",
   "pygments_lexer": "ipython3",
   "version": 3
  },
  "orig_nbformat": 2,
  "kernelspec": {
   "name": "python_defaultSpec_1595234216959",
   "display_name": "Python 3.8.3 64-bit ('datascience': conda)"
  }
 },
 "nbformat": 4,
 "nbformat_minor": 2
}